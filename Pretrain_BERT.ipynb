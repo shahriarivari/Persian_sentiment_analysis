{
  "nbformat": 4,
  "nbformat_minor": 0,
  "metadata": {
    "colab": {
      "provenance": [],
      "authorship_tag": "ABX9TyPizds7Z0QoDw3udkKqfHoO",
      "include_colab_link": true
    },
    "kernelspec": {
      "name": "python3",
      "display_name": "Python 3"
    },
    "language_info": {
      "name": "python"
    }
  },
  "cells": [
    {
      "cell_type": "markdown",
      "metadata": {
        "id": "view-in-github",
        "colab_type": "text"
      },
      "source": [
        "<a href=\"https://colab.research.google.com/github/shahriarivari/Persian_sentiment_analysis/blob/main/Pretrain_BERT.ipynb\" target=\"_parent\"><img src=\"https://colab.research.google.com/assets/colab-badge.svg\" alt=\"Open In Colab\"/></a>"
      ]
    },
    {
      "cell_type": "markdown",
      "source": [
        "#pip installs"
      ],
      "metadata": {
        "id": "XmWY6bj-qpaW"
      }
    },
    {
      "cell_type": "code",
      "execution_count": null,
      "metadata": {
        "id": "BOpPfE9lqgH5"
      },
      "outputs": [],
      "source": [
        "!pip install tokenizers\n",
        "!pip install datasets\n",
        "!pip install -U accelerate\n",
        "!pip install -U transformers"
      ]
    },
    {
      "cell_type": "markdown",
      "source": [
        "#import libraries"
      ],
      "metadata": {
        "id": "1hCyC7daqwDY"
      }
    },
    {
      "cell_type": "code",
      "source": [
        "import os\n",
        "from transformers import BertTokenizerFast\n",
        "from transformers import BertModel\n",
        "from transformers import DataCollatorForLanguageModeling\n",
        "from transformers import Trainer, TrainingArguments\n",
        "from datasets import load_dataset, Dataset\n",
        "from transformers import TrainerCallback\n",
        "import logging"
      ],
      "metadata": {
        "id": "18BcxVrKq1eb"
      },
      "execution_count": null,
      "outputs": []
    },
    {
      "cell_type": "markdown",
      "source": [
        "##import dataset"
      ],
      "metadata": {
        "id": "QzZqIDkkq8vh"
      }
    },
    {
      "cell_type": "code",
      "source": [
        "# You should just change this part in order to download your\n",
        "# parts of corpus.\n",
        "indices = {\n",
        "    \"train\": [81, 14, 3, 94, 35,\n",
        "              # 41, 28, 67, 55, 79\n",
        "              ],\n",
        "    \"test\": [0,\n",
        "            #  1\n",
        "             ]\n",
        "}\n",
        "\n",
        "N_FILES = {\n",
        "    \"train\": 126,\n",
        "    \"test\": 3\n",
        "}\n",
        "_BASE_URL = \"https://huggingface.co/datasets/SLPL/naab/resolve/main/data/\"\n",
        "data_url = {\n",
        "    \"train\": [_BASE_URL + \"train-{:05d}-of-{:05d}.txt\".format(x, N_FILES[\"train\"]) for x in range(N_FILES[\"train\"])],\n",
        "    \"test\": [_BASE_URL + \"test-{:05d}-of-{:05d}.txt\".format(x, N_FILES[\"test\"]) for x in range(N_FILES[\"test\"])],\n",
        "}\n",
        "for index in indices['train']:\n",
        "    assert index < N_FILES['train']\n",
        "for index in indices['test']:\n",
        "    assert index < N_FILES['test']\n",
        "data_files = {\n",
        "    \"train\": [data_url['train'][i] for i in indices['train']],\n",
        "    \"test\": [data_url['test'][i] for i in indices['test']]\n",
        "}"
      ],
      "metadata": {
        "id": "AbIrqztXq_Xd"
      },
      "execution_count": null,
      "outputs": []
    },
    {
      "cell_type": "code",
      "source": [
        "dataset = load_dataset('text', data_files=data_files, use_auth_token=False)"
      ],
      "metadata": {
        "id": "dSqTgKrVrBfy"
      },
      "execution_count": null,
      "outputs": []
    },
    {
      "cell_type": "markdown",
      "source": [
        "#set paths and file names"
      ],
      "metadata": {
        "id": "WsNckd5WrDvL"
      }
    },
    {
      "cell_type": "code",
      "source": [
        "# Set your paths and file names\n",
        "tokenizer_output_dir = \"bert_tokenizer\"\n",
        "pretrained_model_output_dir = \"bert_pretrained_model\"\n",
        "os.mkdir(pretrained_model_output_dir)"
      ],
      "metadata": {
        "id": "knw-UxHKrGV5"
      },
      "execution_count": null,
      "outputs": []
    },
    {
      "cell_type": "markdown",
      "source": [
        "##load tokenzier"
      ],
      "metadata": {
        "id": "EZjdKR8OrVOb"
      }
    },
    {
      "cell_type": "code",
      "source": [
        "tokenizer = BertTokenizerFast.from_pretrained(tokenizer_output_dir)"
      ],
      "metadata": {
        "id": "jAUetwSWrXYN"
      },
      "execution_count": null,
      "outputs": []
    },
    {
      "cell_type": "markdown",
      "source": [
        "##tokenize the dataset"
      ],
      "metadata": {
        "id": "5X0LAah6rh92"
      }
    },
    {
      "cell_type": "code",
      "source": [
        "def batch_tokenize_function(batch):\n",
        "    # Tokenize the text using BertTokenizerFast\n",
        "    encoded = tokenizer(batch[\"text\"], truncation=True, padding='max_length',\n",
        "                        return_special_tokens_mask=True,\n",
        "                        max_length=max_length, return_tensors='pt')\n",
        "\n",
        "    return {\n",
        "        'input_ids': encoded['input_ids'],\n",
        "        'attention_mask': encoded['attention_mask'],\n",
        "    }\n",
        "tokenized_train_dataset = dataset['train'].map(batch_tokenize_function, batched=True)\n",
        "tokenized_test_dataset = dataset['test'].map(batch_tokenize_function, batched=True)\n",
        "\n",
        "tokenized_train_dataset.set_format(type=\"torch\", columns=[\"input_ids\", \"attention_mask\"])\n",
        "tokenized_test_dataset.set_format(type=\"torch\", columns=[\"input_ids\", \"attention_mask\"])"
      ],
      "metadata": {
        "id": "owvobVBLrkcH"
      },
      "execution_count": null,
      "outputs": []
    },
    {
      "cell_type": "markdown",
      "source": [
        "##BERT model configuration"
      ],
      "metadata": {
        "id": "YqzaPTU0ruLf"
      }
    },
    {
      "cell_type": "code",
      "source": [
        "vocab_size = 10000\n",
        "max_length = 256\n",
        "\n",
        "# Model Configuration\n",
        "model_config = BertConfig(\n",
        "    vocab_size=vocab_size,\n",
        "    hidden_size=128,  # Adjust as needed\n",
        "    num_attention_heads=8,  # Adjust as needed\n",
        "    num_hidden_layers=2,  # Adjust as needed\n",
        "    max_position_embeddings=max_length,\n",
        ")\n",
        "\n",
        "# Model Initialization\n",
        "model = BertForMaskedLM(config=model_config)"
      ],
      "metadata": {
        "id": "HAQLUOp3ryGO"
      },
      "execution_count": null,
      "outputs": []
    },
    {
      "cell_type": "markdown",
      "source": [
        "##set the data collator"
      ],
      "metadata": {
        "id": "PwWg5uCQr8UM"
      }
    },
    {
      "cell_type": "code",
      "source": [
        "data_collator = DataCollatorForLanguageModeling(\n",
        "    tokenizer=tokenizer, mlm=True, mlm_probability=0.2\n",
        "    )"
      ],
      "metadata": {
        "id": "fddjoZK8r-j0"
      },
      "execution_count": null,
      "outputs": []
    },
    {
      "cell_type": "markdown",
      "source": [
        "##training arguments"
      ],
      "metadata": {
        "id": "xPpfrxcasC4T"
      }
    },
    {
      "cell_type": "code",
      "source": [
        "# Training Arguments\n",
        "training_args = TrainingArguments(\n",
        "    output_dir=pretrained_model_output_dir, # output directory to where save model checkpoint\n",
        "    overwrite_output_dir=True,\n",
        "    num_train_epochs=1,                    # number of training epochs, feel free to tweak\n",
        "    per_device_train_batch_size=64,         # the training batch size, put it as high as your GPU memory fits\n",
        "    gradient_accumulation_steps=8,          # accumulating the gradients before updating the weights\n",
        "    per_device_eval_batch_size=64,          # evaluation batch size\n",
        "    logging_steps=1000,                     # evaluate, log and save model checkpoints every 1000 step\n",
        "    save_steps=1000,\n",
        "    save_total_limit=3,                     # whether you don't have much space so you let only 3 model weights saved in the disk\n",
        "    evaluation_strategy=\"steps\",            # evaluate each `logging_steps` steps\n",
        "    eval_steps=10000,\n",
        ")"
      ],
      "metadata": {
        "id": "gInZh2bIsFyt"
      },
      "execution_count": null,
      "outputs": []
    },
    {
      "cell_type": "markdown",
      "source": [
        "##train the model"
      ],
      "metadata": {
        "id": "tS3F8iiCsOH-"
      }
    },
    {
      "cell_type": "code",
      "source": [
        "# Trainer Initialization\n",
        "trainer = Trainer(\n",
        "    model = model,\n",
        "    args = training_args,\n",
        "    train_dataset = tokenized_train_dataset,\n",
        "    eval_dataset = tokenized_test_dataset,\n",
        "    data_collator = data_collator,\n",
        ")\n",
        "\n",
        "# Train the model\n",
        "trainer.train()\n",
        "\n",
        "# Save the final pre-trained model\n",
        "trainer.save_model(os.path.join(pretrained_model_output_dir, \"final_model\"))"
      ],
      "metadata": {
        "id": "MDTh_wXqsQGy"
      },
      "execution_count": null,
      "outputs": []
    },
    {
      "cell_type": "markdown",
      "source": [
        "##saving the model in google drive"
      ],
      "metadata": {
        "id": "gKY2q9kgsWxU"
      }
    },
    {
      "cell_type": "code",
      "source": [
        "#First zip the model_dir then move it to google drive\n",
        "\n",
        "source_dir = '/content/bert_pretrained_model'\n",
        "output_filename = pretrained_model_output_dir\n",
        "\n",
        "# Create a Zip file\n",
        "shutil.make_archive(output_filename, 'zip', source_dir)"
      ],
      "metadata": {
        "id": "YOfodmpZsZke"
      },
      "execution_count": null,
      "outputs": []
    },
    {
      "cell_type": "code",
      "source": [
        "# mount google  drive\n",
        "from google.colab import drive\n",
        "\n",
        "# Mount Google Drive\n",
        "drive.mount('/content/drive')\n",
        "\n",
        "# Move the zip file to Google Drive\n",
        "drive_path = '/content/drive/MyDrive/'\n",
        "output_filename = f'/content/{output_filename}.zip'\n",
        "shutil.move(output_filename, drive_path)"
      ],
      "metadata": {
        "id": "XCbNirQZtQM6"
      },
      "execution_count": null,
      "outputs": []
    }
  ]
}