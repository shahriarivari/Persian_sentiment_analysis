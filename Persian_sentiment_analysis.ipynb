{
  "nbformat": 4,
  "nbformat_minor": 0,
  "metadata": {
    "colab": {
      "provenance": [],
      "toc_visible": true,
      "authorship_tag": "ABX9TyMNgS8pbm3/+jYLHej3mxML",
      "include_colab_link": true
    },
    "kernelspec": {
      "name": "python3",
      "display_name": "Python 3"
    },
    "language_info": {
      "name": "python"
    }
  },
  "cells": [
    {
      "cell_type": "markdown",
      "metadata": {
        "id": "view-in-github",
        "colab_type": "text"
      },
      "source": [
        "<a href=\"https://colab.research.google.com/github/shahriarivari/Persian_sentiment_analysis/blob/main/Persian_sentiment_analysis.ipynb\" target=\"_parent\"><img src=\"https://colab.research.google.com/assets/colab-badge.svg\" alt=\"Open In Colab\"/></a>"
      ]
    },
    {
      "cell_type": "code",
      "source": [
        "%pip install transformers\n",
        "%pip install tokenizers\n",
        "%pip install datasets"
      ],
      "metadata": {
        "id": "JsDKPdpzWgQA"
      },
      "execution_count": null,
      "outputs": []
    },
    {
      "cell_type": "markdown",
      "source": [
        "# BERT pre-training"
      ],
      "metadata": {
        "id": "qSHIVjKkPJ2a"
      }
    },
    {
      "cell_type": "markdown",
      "source": [
        "## Initial imports"
      ],
      "metadata": {
        "id": "ZnGJ9g0VPEZa"
      }
    },
    {
      "cell_type": "code",
      "execution_count": null,
      "metadata": {
        "id": "VkUzCVP4V9UR"
      },
      "outputs": [],
      "source": [
        "import os\n",
        "import json\n",
        "from tokenizers import BertWordPieceTokenizer\n",
        "from transformers import BertForMaskedLM, BertConfig\n",
        "from transformers import DataCollatorForLanguageModeling\n",
        "from transformers import Trainer, TrainingArguments\n",
        "from datasets import load_dataset\n",
        "from transformers import TrainerCallback\n",
        "import logging"
      ]
    },
    {
      "cell_type": "markdown",
      "source": [
        "## Importing dataset from huggingface hub"
      ],
      "metadata": {
        "id": "pdKCXDL4PWcO"
      }
    },
    {
      "cell_type": "code",
      "source": [
        "from datasets import load_dataset\n",
        "\n",
        "# You should just change this part in order to download your\n",
        "# parts of corpus.\n",
        "indices = {\n",
        "    \"train\": [5, 1, 2],\n",
        "    \"test\": [0, 2]\n",
        "}\n",
        "\n",
        "N_FILES = {\n",
        "    \"train\": 126,\n",
        "    \"test\": 3\n",
        "}\n",
        "_BASE_URL = \"https://huggingface.co/datasets/SLPL/naab/resolve/main/data/\"\n",
        "data_url = {\n",
        "    \"train\": [_BASE_URL + \"train-{:05d}-of-{:05d}.txt\".format(x, N_FILES[\"train\"]) for x in range(N_FILES[\"train\"])],\n",
        "    \"test\": [_BASE_URL + \"test-{:05d}-of-{:05d}.txt\".format(x, N_FILES[\"test\"]) for x in range(N_FILES[\"test\"])],\n",
        "}\n",
        "for index in indices['train']:\n",
        "    assert index < N_FILES['train']\n",
        "for index in indices['test']:\n",
        "    assert index < N_FILES['test']\n",
        "data_files = {\n",
        "    \"train\": [data_url['train'][i] for i in indices['train']],\n",
        "    \"test\": [data_url['test'][i] for i in indices['test']]\n",
        "}\n",
        "print(data_files)\n",
        "dataset = load_dataset('text', data_files=data_files, use_auth_token=False)"
      ],
      "metadata": {
        "id": "RwPI6_q9PDxu"
      },
      "execution_count": null,
      "outputs": []
    },
    {
      "cell_type": "markdown",
      "source": [
        "## Setting paths and file names"
      ],
      "metadata": {
        "id": "5Y5IQGhMArN0"
      }
    },
    {
      "cell_type": "code",
      "source": [
        "# Set your paths and file names\n",
        "data_files = [\"path/to/your_dataset_file.txt\"]\n",
        "tokenizer_output_dir = \"path/to/bert_tokenizer\"\n",
        "pretrained_model_output_dir = \"path/to/bert_pretrained_model\""
      ],
      "metadata": {
        "id": "H5sTpXkGwg_H"
      },
      "execution_count": null,
      "outputs": []
    },
    {
      "cell_type": "markdown",
      "source": [
        "## Making files for trainging the tokenizer"
      ],
      "metadata": {
        "id": "uDgCAc6PBPrK"
      }
    },
    {
      "cell_type": "code",
      "source": [
        "# Extract text data from the dataset\n",
        "texts = dataset['train']['text']  # Assuming you have a 'text' column in your dataset\n",
        "\n",
        "# Save the text data to a temporary file\n",
        "temp_file_path = 'temp_dataset_file.txt'\n",
        "with open(temp_file_path, 'w', encoding='utf-8') as file:\n",
        "    for text in texts:\n",
        "        file.write(text + '\\n')"
      ],
      "metadata": {
        "id": "FEMgWo-iBQKy"
      },
      "execution_count": null,
      "outputs": []
    },
    {
      "cell_type": "markdown",
      "source": [
        "## Training a WordPiece Tokenizer"
      ],
      "metadata": {
        "id": "mQVaaNaqcS3z"
      }
    },
    {
      "cell_type": "code",
      "source": [
        "# Training a WordPiece Tokenizer\n",
        "files = [temp_file_path]\n",
        "# Parameters for Tokenizer Training\n",
        "vocab_size = 30000\n",
        "min_frequency = 2\n",
        "max_length = 128\n",
        "special_tokens = [\"[PAD]\", \"[MASK]\", \"[CLS]\", \"[SEP]\", \"[UNK]\"]\n",
        "\n",
        "# Initialize the WordPiece tokenizer for BERT\n",
        "tokenizer = BertWordPieceTokenizer()\n",
        "\n",
        "# Train the tokenizer\n",
        "tokenizer.train(\n",
        "    files=files,\n",
        "    vocab_size=vocab_size,\n",
        "    min_frequency=min_frequency,\n",
        "    show_progress=True,\n",
        "    special_tokens=special_tokens,\n",
        ")\n",
        "\n",
        "# Save the trained tokenizer\n",
        "model_path = \"pretrained_bert_tokenizer\"\n",
        "# make the directory if not already there\n",
        "if not os.path.isdir(model_path):\n",
        "    os.mkdir(model_path)\n",
        "\n",
        "# Save the trained tokenizer\n",
        "tokenizer.save_model(tokenizer_output_dir)\n",
        "\n",
        "# Clean up: Remove the temporary file\n",
        "os.remove(temp_file_path)"
      ],
      "metadata": {
        "id": "NAR_HRMUeKQ0"
      },
      "execution_count": null,
      "outputs": []
    },
    {
      "cell_type": "code",
      "source": [
        "import json\n",
        "# dumping some of the tokenizer config to config file,\n",
        "# including special tokens, whether\n",
        "# to lower case and the maximum sequence length\n",
        "\n",
        "with open(os.path.join(model_path, \"config.json\"), \"w\") as f:\n",
        "    tokenizer_cfg = {\n",
        "        \"do_lower_case\": True,\n",
        "        \"unk_token\": \"[UNK]\",\n",
        "        \"sep_token\": \"[SEP]\",\n",
        "        \"pad_token\": \"[PAD]\",\n",
        "        \"cls_token\": \"[CLS]\",\n",
        "        \"mask_token\": \"[MASK]\",\n",
        "        \"model_max_length\": max_length,\n",
        "        \"max_len\": max_length,\n",
        "    }\n",
        "    json.dump(tokenizer_cfg, f)"
      ],
      "metadata": {
        "id": "hkHAVlqApGzf"
      },
      "execution_count": null,
      "outputs": []
    },
    {
      "cell_type": "markdown",
      "source": [
        "## tokenizing the dataset"
      ],
      "metadata": {
        "id": "OMN7ZPxZUW1h"
      }
    },
    {
      "cell_type": "code",
      "source": [
        "# Load tokenizer after training\n",
        "tokenizer = BertWordPieceTokenizer(f\"{tokenizer_output_dir}/vocab.json\", f\"{tokenizer_output_dir}/merges.txt\")"
      ],
      "metadata": {
        "id": "EyPce0C2pm2_"
      },
      "execution_count": null,
      "outputs": []
    },
    {
      "cell_type": "code",
      "source": [
        "# Tokenizing the data using dataset.map()\n",
        "def tokenize_function(examples):\n",
        "    return tokenizer(examples['text'], padding=True, truncation=True)\n",
        "\n",
        "tokenized_dataset = dataset.map(tokenize_function, batched=True)"
      ],
      "metadata": {
        "id": "uwZA1UkYUaso"
      },
      "execution_count": null,
      "outputs": []
    },
    {
      "cell_type": "markdown",
      "source": [
        "## Model Configuration"
      ],
      "metadata": {
        "id": "2YE7XMK3oyV5"
      }
    },
    {
      "cell_type": "code",
      "source": [
        "# Model Configuration\n",
        "model_config = BertConfig(\n",
        "    vocab_size=vocab_size,\n",
        "    hidden_size=768,  # Adjust as needed\n",
        "    num_attention_heads=12,  # Adjust as needed\n",
        "    num_hidden_layers=12,  # Adjust as needed\n",
        "    max_position_embeddings=max_length,\n",
        ")\n",
        "# Model Initialization\n",
        "model = BertForMaskedLM(config=model_config)"
      ],
      "metadata": {
        "id": "nzfssSTjox4G"
      },
      "execution_count": null,
      "outputs": []
    },
    {
      "cell_type": "markdown",
      "source": [
        "## Data Collator\n",
        "Load your dataset using Hugging Face datasets library"
      ],
      "metadata": {
        "id": "DpFTJ6GlqVO4"
      }
    },
    {
      "cell_type": "code",
      "source": [
        "# Data Collator for Language Modeling\n",
        "class CustomDataCollator(DataCollatorForLanguageModeling):\n",
        "  def collate_batch(self, batch):\n",
        "    input_ids = torch.stack([torch.tensor(example['input_ids']) for example in batch])\n",
        "    attention_mask = torch.stack([torch.tensor(example['attention_mask']) for example in batch])\n",
        "    labels = torch.stack([torch.tensor(example['input_ids']) for example in batch])\n",
        "    return {\n",
        "      'input_ids': input_ids,\n",
        "      'attention_mask': attention_mask,\n",
        "      'labels': labels\n",
        "    }\n"
      ],
      "metadata": {
        "id": "4-riYML0qUE-"
      },
      "execution_count": null,
      "outputs": []
    },
    {
      "cell_type": "markdown",
      "source": [
        "## Callback"
      ],
      "metadata": {
        "id": "I4gFThaQ_bSh"
      }
    },
    {
      "cell_type": "code",
      "source": [
        "# Define a custom callback for monitoring\n",
        "class CustomCallback(TrainerCallback):\n",
        "  def __init__(self):\n",
        "    super().__init__()\n",
        "\n",
        "  def on_step_end(self, args, state, control, model, optimizer, scheduler, **kwargs):\n",
        "    if state.global_step % args.logging_steps == 0:\n",
        "      logging.info(f\"Step {state.global_step}: Loss = {state.log_metrics['loss']}\")"
      ],
      "metadata": {
        "id": "daSns1N9_aLc"
      },
      "execution_count": null,
      "outputs": []
    },
    {
      "cell_type": "markdown",
      "source": [
        "## Training Arguments"
      ],
      "metadata": {
        "id": "6Hg-h567qan-"
      }
    },
    {
      "cell_type": "code",
      "source": [
        "# Training Arguments\n",
        "training_args = TrainingArguments(\n",
        "    output_dir=pretrained_model_output_dir,\n",
        "    overwrite_output_dir=True,\n",
        "    num_train_epochs=3,\n",
        "    per_device_train_batch_size=4,\n",
        "    save_steps=1000,\n",
        "    save_total_limit=3,\n",
        "    evaluation_strategy=\"steps\",\n",
        "    eval_steps=500,\n",
        ")"
      ],
      "metadata": {
        "id": "TE9jzlriqaJn"
      },
      "execution_count": null,
      "outputs": []
    },
    {
      "cell_type": "code",
      "source": [
        "# Tokenized data for training\n",
        "train_inputs = {\n",
        "    \"input_ids\": tokenized_dataset[\"input_ids\"],\n",
        "    \"attention_mask\": tokenized_dataset[\"attention_mask\"],\n",
        "}"
      ],
      "metadata": {
        "id": "Hvtg6FSI_J4p"
      },
      "execution_count": null,
      "outputs": []
    },
    {
      "cell_type": "markdown",
      "source": [
        "## Trainer Initialization"
      ],
      "metadata": {
        "id": "8rks357Xqlwr"
      }
    },
    {
      "cell_type": "code",
      "source": [
        "# Trainer Initialization\n",
        "trainer = Trainer(\n",
        "    model=model,\n",
        "    args=training_args,\n",
        "    train_dataset=train_inputs,\n",
        "    data_collator=CustomDataCollator(tokenizer=tokenizer, mlm=True, mlm_probability=0.15),\n",
        "    callbacks=[CustomCallback()],\n",
        ")"
      ],
      "metadata": {
        "id": "cQ5tOP5Wqkd5"
      },
      "execution_count": null,
      "outputs": []
    },
    {
      "cell_type": "code",
      "source": [
        "# Train the model\n",
        "trainer.train()\n",
        "\n",
        "# Save the final pre-trained model\n",
        "trainer.save_model(os.path.join(pretrained_model_output_dir, \"final_model\"))"
      ],
      "metadata": {
        "id": "uDDwOIvYqwdD"
      },
      "execution_count": null,
      "outputs": []
    },
    {
      "cell_type": "markdown",
      "source": [
        "# XLnet pre-training"
      ],
      "metadata": {
        "id": "-MfYj7DL_quy"
      }
    },
    {
      "cell_type": "markdown",
      "source": [
        "## Initial imports"
      ],
      "metadata": {
        "id": "iAYqlgpO_2jc"
      }
    },
    {
      "cell_type": "code",
      "source": [
        "import os\n",
        "from tokenizers import XLNetWordPieceTokenizer\n",
        "from transformers import XLNetLMHeadModel, XLNetConfig\n",
        "from transformers import DataCollatorForLanguageModeling\n",
        "from transformers import Trainer, TrainingArguments\n",
        "from datasets import load_dataset\n",
        "from transformers import TrainerCallback\n",
        "from torch.utils.data import DataLoader\n",
        "import torch\n",
        "import logging"
      ],
      "metadata": {
        "id": "Q_a2uhZI_uxg"
      },
      "execution_count": null,
      "outputs": []
    },
    {
      "cell_type": "markdown",
      "source": [
        "## Importing dataset from huggingface hub"
      ],
      "metadata": {
        "id": "CtClgkDg_7-M"
      }
    },
    {
      "cell_type": "code",
      "source": [
        "from datasets import load_dataset\n",
        "\n",
        "# You should just change this part in order to download your\n",
        "# parts of corpus.\n",
        "indices = {\n",
        "    \"train\": [5, 1, 2],\n",
        "    \"test\": [0, 2]\n",
        "}\n",
        "\n",
        "N_FILES = {\n",
        "    \"train\": 126,\n",
        "    \"test\": 3\n",
        "}\n",
        "_BASE_URL = \"https://huggingface.co/datasets/SLPL/naab/resolve/main/data/\"\n",
        "data_url = {\n",
        "    \"train\": [_BASE_URL + \"train-{:05d}-of-{:05d}.txt\".format(x, N_FILES[\"train\"]) for x in range(N_FILES[\"train\"])],\n",
        "    \"test\": [_BASE_URL + \"test-{:05d}-of-{:05d}.txt\".format(x, N_FILES[\"test\"]) for x in range(N_FILES[\"test\"])],\n",
        "}\n",
        "for index in indices['train']:\n",
        "    assert index < N_FILES['train']\n",
        "for index in indices['test']:\n",
        "    assert index < N_FILES['test']\n",
        "data_files = {\n",
        "    \"train\": [data_url['train'][i] for i in indices['train']],\n",
        "    \"test\": [data_url['test'][i] for i in indices['test']]\n",
        "}\n",
        "print(data_files)\n",
        "dataset = load_dataset('text', data_files=data_files, use_auth_token=False)"
      ],
      "metadata": {
        "id": "0z6R2vpCAnHT"
      },
      "execution_count": null,
      "outputs": []
    },
    {
      "cell_type": "markdown",
      "source": [
        "## Setting paths and file names"
      ],
      "metadata": {
        "id": "5mphNVhBAzeJ"
      }
    },
    {
      "cell_type": "code",
      "source": [
        "# Set your paths and file names\n",
        "data_files = [\"path/to/your_dataset_file.txt\"]\n",
        "tokenizer_output_dir = \"path/to/xlnet_tokenizer\"\n",
        "pretrained_model_output_dir = \"path/to/xlnet_pretrained_model\""
      ],
      "metadata": {
        "id": "aByhMAzwA05r"
      },
      "execution_count": null,
      "outputs": []
    },
    {
      "cell_type": "markdown",
      "source": [
        "## Making files for trainging the tokenizer"
      ],
      "metadata": {
        "id": "9dIpZFyaBBlG"
      }
    },
    {
      "cell_type": "code",
      "source": [
        "# Extract text data from the dataset\n",
        "texts = dataset['train']['text']  # Assuming you have a 'text' column in your dataset\n",
        "\n",
        "# Save the text data to a temporary file\n",
        "temp_file_path = 'temp_dataset_file.txt'\n",
        "with open(temp_file_path, 'w', encoding='utf-8') as file:\n",
        "    for text in texts:\n",
        "        file.write(text + '\\n')\n",
        "\n",
        "# Training a WordPiece Tokenizer\n",
        "files = [temp_file_path]"
      ],
      "metadata": {
        "id": "tfyDSonfBGlX"
      },
      "execution_count": null,
      "outputs": []
    },
    {
      "cell_type": "markdown",
      "source": [
        "## Training a wordPiece Tokenizer"
      ],
      "metadata": {
        "id": "Gv5uHPNKABi3"
      }
    },
    {
      "cell_type": "code",
      "source": [
        "# Training a WordPiece Tokenizer\n",
        "files = [temp_file_path]\n",
        "\n",
        "# Parameters for Tokenizer Training\n",
        "vocab_size = 30000\n",
        "min_frequency = 2\n",
        "max_length = 128\n",
        "special_tokens = [\"<pad>\", \"<mask>\", \"<cls>\", \"<sep>\", \"<unk>\"]\n",
        "\n",
        "# Initialize the WordPiece tokenizer for XLNet\n",
        "tokenizer = XLNetWordPieceTokenizer()\n",
        "\n",
        "# Train the tokenizer\n",
        "tokenizer.train(\n",
        "    files=files,\n",
        "    vocab_size=vocab_size,\n",
        "    min_frequency=min_frequency,\n",
        "    show_progress=True,\n",
        "    special_tokens=special_tokens,\n",
        ")\n",
        "\n",
        "# Save the trained tokenizer\n",
        "tokenizer.save_model(tokenizer_output_dir)\n",
        "\n",
        "# Save the trained tokenizer\n",
        "model_path = \"pretrained_xlnet_tokenizer\"\n",
        "# make the directory if not already there\n",
        "if not os.path.isdir(model_path):\n",
        "    os.mkdir(model_path)\n",
        "\n",
        "# Save the trained tokenizer\n",
        "tokenizer.save_model(tokenizer_output_dir)\n",
        "\n",
        "# Clean up: Remove the temporary file\n",
        "os.remove(temp_file_path)"
      ],
      "metadata": {
        "id": "o-12N2KlA36C"
      },
      "execution_count": null,
      "outputs": []
    },
    {
      "cell_type": "markdown",
      "source": [
        "## Tokenizing the dataset"
      ],
      "metadata": {
        "id": "EbYE8wSRAIGQ"
      }
    },
    {
      "cell_type": "code",
      "source": [
        "# Load tokenizer after training\n",
        "tokenizer = XLNetWordPieceTokenizer(f\"{tokenizer_output_dir}/vocab.json\", f\"{tokenizer_output_dir}/merges.txt\")"
      ],
      "metadata": {
        "id": "Iy-IzsT9BtZF"
      },
      "execution_count": null,
      "outputs": []
    },
    {
      "cell_type": "code",
      "source": [
        "# Tokenizing the data using dataset.map()\n",
        "def tokenize_function(examples):\n",
        "    return tokenizer(examples['text'], padding=True, truncation=True)\n",
        "\n",
        "tokenized_dataset = dataset.map(tokenize_function, batched=True)"
      ],
      "metadata": {
        "id": "jcs811UpB_eL"
      },
      "execution_count": null,
      "outputs": []
    },
    {
      "cell_type": "markdown",
      "source": [
        "## Model Configuration"
      ],
      "metadata": {
        "id": "U6BDKGfdAMLS"
      }
    },
    {
      "cell_type": "code",
      "source": [
        "# Model Configuration\n",
        "model_config = XLNetConfig(\n",
        "    vocab_size=vocab_size,\n",
        "    d_model=768,  # Adjust as needed\n",
        "    n_head=12,  # Adjust as needed\n",
        "    num_layers=12,  # Adjust as needed\n",
        "    max_position_embeddings=max_length,\n",
        ")\n",
        "\n",
        "# Model Initialization\n",
        "model = XLNetLMHeadModel(config=model_config)"
      ],
      "metadata": {
        "id": "HgmQmLs5CChM"
      },
      "execution_count": null,
      "outputs": []
    },
    {
      "cell_type": "markdown",
      "source": [
        "## Data Collator"
      ],
      "metadata": {
        "id": "4M1Bl4YiAQFu"
      }
    },
    {
      "cell_type": "code",
      "source": [
        "# Data Collator for Language Modeling\n",
        "class CustomDataCollator(DataCollatorForLanguageModeling):\n",
        "  def collate_batch(self, batch):\n",
        "    input_ids = torch.stack([torch.tensor(example['input_ids']) for example in batch])\n",
        "    attention_mask = torch.stack([torch.tensor(example['attention_mask']) for example in batch])\n",
        "    labels = torch.stack([torch.tensor(example['input_ids']) for example in batch])\n",
        "    return {\n",
        "      'input_ids': input_ids,\n",
        "      'attention_mask': attention_mask,\n",
        "      'labels': labels\n",
        "    }\n"
      ],
      "metadata": {
        "id": "Tg4pvw-lCdFC"
      },
      "execution_count": null,
      "outputs": []
    },
    {
      "cell_type": "markdown",
      "source": [
        "## Callback"
      ],
      "metadata": {
        "id": "PNPxzZRJAUY-"
      }
    },
    {
      "cell_type": "code",
      "source": [
        "# Define a custom callback for monitoring\n",
        "class CustomCallback(TrainerCallback):\n",
        "  def __init__(self):\n",
        "    super().__init__()\n",
        "\n",
        "  def on_step_end(self, args, state, control, model, optimizer, scheduler, **kwargs):\n",
        "    if state.global_step % args.logging_steps == 0:\n",
        "      logging.info(f\"Step {state.global_step}: Loss = {state.log_metrics['loss']}\")"
      ],
      "metadata": {
        "id": "lpZQG-yPCmCU"
      },
      "execution_count": null,
      "outputs": []
    },
    {
      "cell_type": "markdown",
      "source": [
        "## Training Arguments"
      ],
      "metadata": {
        "id": "vqZCGHgXAWtI"
      }
    },
    {
      "cell_type": "code",
      "source": [
        "# Training Arguments\n",
        "training_args = TrainingArguments(\n",
        "    output_dir=pretrained_model_output_dir,\n",
        "    overwrite_output_dir=True,\n",
        "    num_train_epochs=3,\n",
        "    per_device_train_batch_size=4,\n",
        "    save_steps=1000,\n",
        "    save_total_limit=3,\n",
        "    evaluation_strategy=\"steps\",\n",
        "    eval_steps=500,\n",
        ")"
      ],
      "metadata": {
        "id": "DYw40Uk3CUvg"
      },
      "execution_count": null,
      "outputs": []
    },
    {
      "cell_type": "code",
      "source": [
        "# Tokenized data for training\n",
        "train_inputs = {\n",
        "    \"input_ids\": tokenized_dataset[\"input_ids\"],\n",
        "    \"attention_mask\": tokenized_dataset[\"attention_mask\"],\n",
        "}"
      ],
      "metadata": {
        "id": "Lg4wmbCJCZYb"
      },
      "execution_count": null,
      "outputs": []
    },
    {
      "cell_type": "markdown",
      "source": [
        "## Trainer Initialazation"
      ],
      "metadata": {
        "id": "Ooqd9VFkAZqL"
      }
    },
    {
      "cell_type": "code",
      "source": [
        "# Trainer Initialization\n",
        "trainer = Trainer(\n",
        "    model=model,\n",
        "    args=training_args,\n",
        "    train_dataset=train_inputs,\n",
        "    data_collator=CustomDataCollator(tokenizer=tokenizer, mlm=True, mlm_probability=0.15),\n",
        "    callbacks=[CustomCallback()],\n",
        ")"
      ],
      "metadata": {
        "id": "FgLOxOQbDVL7"
      },
      "execution_count": null,
      "outputs": []
    },
    {
      "cell_type": "code",
      "source": [
        "# Train the model\n",
        "trainer.train()\n",
        "\n",
        "# Save the final pre-trained model\n",
        "trainer.save_model(os.path.join(pretrained_model_output_dir, \"final_model\"))"
      ],
      "metadata": {
        "id": "s9mUv56IAf1A"
      },
      "execution_count": null,
      "outputs": []
    }
  ]
}