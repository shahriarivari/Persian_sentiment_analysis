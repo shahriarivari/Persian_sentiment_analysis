{
  "nbformat": 4,
  "nbformat_minor": 0,
  "metadata": {
    "colab": {
      "provenance": [],
      "gpuType": "T4",
      "authorship_tag": "ABX9TyP1WFtFJ5Uff1+C6Eqqj/0u",
      "include_colab_link": true
    },
    "kernelspec": {
      "name": "python3",
      "display_name": "Python 3"
    },
    "language_info": {
      "name": "python"
    },
    "widgets": {
      "application/vnd.jupyter.widget-state+json": {
        "eb52091c1a2d417c95030d4928994f7e": {
          "model_module": "@jupyter-widgets/controls",
          "model_name": "HBoxModel",
          "model_module_version": "1.5.0",
          "state": {
            "_dom_classes": [],
            "_model_module": "@jupyter-widgets/controls",
            "_model_module_version": "1.5.0",
            "_model_name": "HBoxModel",
            "_view_count": null,
            "_view_module": "@jupyter-widgets/controls",
            "_view_module_version": "1.5.0",
            "_view_name": "HBoxView",
            "box_style": "",
            "children": [
              "IPY_MODEL_9fffd90f42e64236b8e323798054c6b4",
              "IPY_MODEL_687e2108bcbf44139503d037619dc314",
              "IPY_MODEL_afc45ff071244d0f8dc9c279bd200db5"
            ],
            "layout": "IPY_MODEL_f7d4566c2e194cae832f084c1941fa56"
          }
        },
        "9fffd90f42e64236b8e323798054c6b4": {
          "model_module": "@jupyter-widgets/controls",
          "model_name": "HTMLModel",
          "model_module_version": "1.5.0",
          "state": {
            "_dom_classes": [],
            "_model_module": "@jupyter-widgets/controls",
            "_model_module_version": "1.5.0",
            "_model_name": "HTMLModel",
            "_view_count": null,
            "_view_module": "@jupyter-widgets/controls",
            "_view_module_version": "1.5.0",
            "_view_name": "HTMLView",
            "description": "",
            "description_tooltip": null,
            "layout": "IPY_MODEL_c78f6accc2dc4821ad3d9b87d0917331",
            "placeholder": "​",
            "style": "IPY_MODEL_b2f0f02adc5c4148acb1fd4991559306",
            "value": "Downloading data files: 100%"
          }
        },
        "687e2108bcbf44139503d037619dc314": {
          "model_module": "@jupyter-widgets/controls",
          "model_name": "FloatProgressModel",
          "model_module_version": "1.5.0",
          "state": {
            "_dom_classes": [],
            "_model_module": "@jupyter-widgets/controls",
            "_model_module_version": "1.5.0",
            "_model_name": "FloatProgressModel",
            "_view_count": null,
            "_view_module": "@jupyter-widgets/controls",
            "_view_module_version": "1.5.0",
            "_view_name": "ProgressView",
            "bar_style": "success",
            "description": "",
            "description_tooltip": null,
            "layout": "IPY_MODEL_126cbc8a9a8542ec8766d9b032d0a922",
            "max": 2,
            "min": 0,
            "orientation": "horizontal",
            "style": "IPY_MODEL_3f3ba05f4eb0457d87bfbbd19b442290",
            "value": 2
          }
        },
        "afc45ff071244d0f8dc9c279bd200db5": {
          "model_module": "@jupyter-widgets/controls",
          "model_name": "HTMLModel",
          "model_module_version": "1.5.0",
          "state": {
            "_dom_classes": [],
            "_model_module": "@jupyter-widgets/controls",
            "_model_module_version": "1.5.0",
            "_model_name": "HTMLModel",
            "_view_count": null,
            "_view_module": "@jupyter-widgets/controls",
            "_view_module_version": "1.5.0",
            "_view_name": "HTMLView",
            "description": "",
            "description_tooltip": null,
            "layout": "IPY_MODEL_b18abf41479e46b287e1b50d1b5a0e1f",
            "placeholder": "​",
            "style": "IPY_MODEL_bb91aca2c3cd4eeb989ee04f30747e55",
            "value": " 2/2 [03:48&lt;00:00, 119.53s/it]"
          }
        },
        "f7d4566c2e194cae832f084c1941fa56": {
          "model_module": "@jupyter-widgets/base",
          "model_name": "LayoutModel",
          "model_module_version": "1.2.0",
          "state": {
            "_model_module": "@jupyter-widgets/base",
            "_model_module_version": "1.2.0",
            "_model_name": "LayoutModel",
            "_view_count": null,
            "_view_module": "@jupyter-widgets/base",
            "_view_module_version": "1.2.0",
            "_view_name": "LayoutView",
            "align_content": null,
            "align_items": null,
            "align_self": null,
            "border": null,
            "bottom": null,
            "display": null,
            "flex": null,
            "flex_flow": null,
            "grid_area": null,
            "grid_auto_columns": null,
            "grid_auto_flow": null,
            "grid_auto_rows": null,
            "grid_column": null,
            "grid_gap": null,
            "grid_row": null,
            "grid_template_areas": null,
            "grid_template_columns": null,
            "grid_template_rows": null,
            "height": null,
            "justify_content": null,
            "justify_items": null,
            "left": null,
            "margin": null,
            "max_height": null,
            "max_width": null,
            "min_height": null,
            "min_width": null,
            "object_fit": null,
            "object_position": null,
            "order": null,
            "overflow": null,
            "overflow_x": null,
            "overflow_y": null,
            "padding": null,
            "right": null,
            "top": null,
            "visibility": null,
            "width": null
          }
        },
        "c78f6accc2dc4821ad3d9b87d0917331": {
          "model_module": "@jupyter-widgets/base",
          "model_name": "LayoutModel",
          "model_module_version": "1.2.0",
          "state": {
            "_model_module": "@jupyter-widgets/base",
            "_model_module_version": "1.2.0",
            "_model_name": "LayoutModel",
            "_view_count": null,
            "_view_module": "@jupyter-widgets/base",
            "_view_module_version": "1.2.0",
            "_view_name": "LayoutView",
            "align_content": null,
            "align_items": null,
            "align_self": null,
            "border": null,
            "bottom": null,
            "display": null,
            "flex": null,
            "flex_flow": null,
            "grid_area": null,
            "grid_auto_columns": null,
            "grid_auto_flow": null,
            "grid_auto_rows": null,
            "grid_column": null,
            "grid_gap": null,
            "grid_row": null,
            "grid_template_areas": null,
            "grid_template_columns": null,
            "grid_template_rows": null,
            "height": null,
            "justify_content": null,
            "justify_items": null,
            "left": null,
            "margin": null,
            "max_height": null,
            "max_width": null,
            "min_height": null,
            "min_width": null,
            "object_fit": null,
            "object_position": null,
            "order": null,
            "overflow": null,
            "overflow_x": null,
            "overflow_y": null,
            "padding": null,
            "right": null,
            "top": null,
            "visibility": null,
            "width": null
          }
        },
        "b2f0f02adc5c4148acb1fd4991559306": {
          "model_module": "@jupyter-widgets/controls",
          "model_name": "DescriptionStyleModel",
          "model_module_version": "1.5.0",
          "state": {
            "_model_module": "@jupyter-widgets/controls",
            "_model_module_version": "1.5.0",
            "_model_name": "DescriptionStyleModel",
            "_view_count": null,
            "_view_module": "@jupyter-widgets/base",
            "_view_module_version": "1.2.0",
            "_view_name": "StyleView",
            "description_width": ""
          }
        },
        "126cbc8a9a8542ec8766d9b032d0a922": {
          "model_module": "@jupyter-widgets/base",
          "model_name": "LayoutModel",
          "model_module_version": "1.2.0",
          "state": {
            "_model_module": "@jupyter-widgets/base",
            "_model_module_version": "1.2.0",
            "_model_name": "LayoutModel",
            "_view_count": null,
            "_view_module": "@jupyter-widgets/base",
            "_view_module_version": "1.2.0",
            "_view_name": "LayoutView",
            "align_content": null,
            "align_items": null,
            "align_self": null,
            "border": null,
            "bottom": null,
            "display": null,
            "flex": null,
            "flex_flow": null,
            "grid_area": null,
            "grid_auto_columns": null,
            "grid_auto_flow": null,
            "grid_auto_rows": null,
            "grid_column": null,
            "grid_gap": null,
            "grid_row": null,
            "grid_template_areas": null,
            "grid_template_columns": null,
            "grid_template_rows": null,
            "height": null,
            "justify_content": null,
            "justify_items": null,
            "left": null,
            "margin": null,
            "max_height": null,
            "max_width": null,
            "min_height": null,
            "min_width": null,
            "object_fit": null,
            "object_position": null,
            "order": null,
            "overflow": null,
            "overflow_x": null,
            "overflow_y": null,
            "padding": null,
            "right": null,
            "top": null,
            "visibility": null,
            "width": null
          }
        },
        "3f3ba05f4eb0457d87bfbbd19b442290": {
          "model_module": "@jupyter-widgets/controls",
          "model_name": "ProgressStyleModel",
          "model_module_version": "1.5.0",
          "state": {
            "_model_module": "@jupyter-widgets/controls",
            "_model_module_version": "1.5.0",
            "_model_name": "ProgressStyleModel",
            "_view_count": null,
            "_view_module": "@jupyter-widgets/base",
            "_view_module_version": "1.2.0",
            "_view_name": "StyleView",
            "bar_color": null,
            "description_width": ""
          }
        },
        "b18abf41479e46b287e1b50d1b5a0e1f": {
          "model_module": "@jupyter-widgets/base",
          "model_name": "LayoutModel",
          "model_module_version": "1.2.0",
          "state": {
            "_model_module": "@jupyter-widgets/base",
            "_model_module_version": "1.2.0",
            "_model_name": "LayoutModel",
            "_view_count": null,
            "_view_module": "@jupyter-widgets/base",
            "_view_module_version": "1.2.0",
            "_view_name": "LayoutView",
            "align_content": null,
            "align_items": null,
            "align_self": null,
            "border": null,
            "bottom": null,
            "display": null,
            "flex": null,
            "flex_flow": null,
            "grid_area": null,
            "grid_auto_columns": null,
            "grid_auto_flow": null,
            "grid_auto_rows": null,
            "grid_column": null,
            "grid_gap": null,
            "grid_row": null,
            "grid_template_areas": null,
            "grid_template_columns": null,
            "grid_template_rows": null,
            "height": null,
            "justify_content": null,
            "justify_items": null,
            "left": null,
            "margin": null,
            "max_height": null,
            "max_width": null,
            "min_height": null,
            "min_width": null,
            "object_fit": null,
            "object_position": null,
            "order": null,
            "overflow": null,
            "overflow_x": null,
            "overflow_y": null,
            "padding": null,
            "right": null,
            "top": null,
            "visibility": null,
            "width": null
          }
        },
        "bb91aca2c3cd4eeb989ee04f30747e55": {
          "model_module": "@jupyter-widgets/controls",
          "model_name": "DescriptionStyleModel",
          "model_module_version": "1.5.0",
          "state": {
            "_model_module": "@jupyter-widgets/controls",
            "_model_module_version": "1.5.0",
            "_model_name": "DescriptionStyleModel",
            "_view_count": null,
            "_view_module": "@jupyter-widgets/base",
            "_view_module_version": "1.2.0",
            "_view_name": "StyleView",
            "description_width": ""
          }
        },
        "4564cb904ad64d4ea699c052ca2edd1b": {
          "model_module": "@jupyter-widgets/controls",
          "model_name": "HBoxModel",
          "model_module_version": "1.5.0",
          "state": {
            "_dom_classes": [],
            "_model_module": "@jupyter-widgets/controls",
            "_model_module_version": "1.5.0",
            "_model_name": "HBoxModel",
            "_view_count": null,
            "_view_module": "@jupyter-widgets/controls",
            "_view_module_version": "1.5.0",
            "_view_name": "HBoxView",
            "box_style": "",
            "children": [
              "IPY_MODEL_82d53cfe7cff473480bf409f6e36279a",
              "IPY_MODEL_f2d6c876643a4516af942ae775c92ee1",
              "IPY_MODEL_f3a848e806a44926a7bb5c79e0cdbea4"
            ],
            "layout": "IPY_MODEL_b0368acd432f49d9acf923cfda0bbb8b"
          }
        },
        "82d53cfe7cff473480bf409f6e36279a": {
          "model_module": "@jupyter-widgets/controls",
          "model_name": "HTMLModel",
          "model_module_version": "1.5.0",
          "state": {
            "_dom_classes": [],
            "_model_module": "@jupyter-widgets/controls",
            "_model_module_version": "1.5.0",
            "_model_name": "HTMLModel",
            "_view_count": null,
            "_view_module": "@jupyter-widgets/controls",
            "_view_module_version": "1.5.0",
            "_view_name": "HTMLView",
            "description": "",
            "description_tooltip": null,
            "layout": "IPY_MODEL_332a22cbd14247cf809bb6cc0e876e22",
            "placeholder": "​",
            "style": "IPY_MODEL_70d0d41c624c43d7be5eec0efbaea88f",
            "value": "Downloading data: 100%"
          }
        },
        "f2d6c876643a4516af942ae775c92ee1": {
          "model_module": "@jupyter-widgets/controls",
          "model_name": "FloatProgressModel",
          "model_module_version": "1.5.0",
          "state": {
            "_dom_classes": [],
            "_model_module": "@jupyter-widgets/controls",
            "_model_module_version": "1.5.0",
            "_model_name": "FloatProgressModel",
            "_view_count": null,
            "_view_module": "@jupyter-widgets/controls",
            "_view_module_version": "1.5.0",
            "_view_name": "ProgressView",
            "bar_style": "success",
            "description": "",
            "description_tooltip": null,
            "layout": "IPY_MODEL_f6a0b8a81a894ef993fd3a75e0d217b2",
            "max": 1073741784,
            "min": 0,
            "orientation": "horizontal",
            "style": "IPY_MODEL_49c45029bf054c8fb7a65c9303a8a12c",
            "value": 1073741784
          }
        },
        "f3a848e806a44926a7bb5c79e0cdbea4": {
          "model_module": "@jupyter-widgets/controls",
          "model_name": "HTMLModel",
          "model_module_version": "1.5.0",
          "state": {
            "_dom_classes": [],
            "_model_module": "@jupyter-widgets/controls",
            "_model_module_version": "1.5.0",
            "_model_name": "HTMLModel",
            "_view_count": null,
            "_view_module": "@jupyter-widgets/controls",
            "_view_module_version": "1.5.0",
            "_view_name": "HTMLView",
            "description": "",
            "description_tooltip": null,
            "layout": "IPY_MODEL_0415c34dbed948daa8bd5a1b9c9c84bd",
            "placeholder": "​",
            "style": "IPY_MODEL_bb236cf990fd42be86b1d79eef68cea3",
            "value": " 1.07G/1.07G [01:20&lt;00:00, 16.1MB/s]"
          }
        },
        "b0368acd432f49d9acf923cfda0bbb8b": {
          "model_module": "@jupyter-widgets/base",
          "model_name": "LayoutModel",
          "model_module_version": "1.2.0",
          "state": {
            "_model_module": "@jupyter-widgets/base",
            "_model_module_version": "1.2.0",
            "_model_name": "LayoutModel",
            "_view_count": null,
            "_view_module": "@jupyter-widgets/base",
            "_view_module_version": "1.2.0",
            "_view_name": "LayoutView",
            "align_content": null,
            "align_items": null,
            "align_self": null,
            "border": null,
            "bottom": null,
            "display": null,
            "flex": null,
            "flex_flow": null,
            "grid_area": null,
            "grid_auto_columns": null,
            "grid_auto_flow": null,
            "grid_auto_rows": null,
            "grid_column": null,
            "grid_gap": null,
            "grid_row": null,
            "grid_template_areas": null,
            "grid_template_columns": null,
            "grid_template_rows": null,
            "height": null,
            "justify_content": null,
            "justify_items": null,
            "left": null,
            "margin": null,
            "max_height": null,
            "max_width": null,
            "min_height": null,
            "min_width": null,
            "object_fit": null,
            "object_position": null,
            "order": null,
            "overflow": null,
            "overflow_x": null,
            "overflow_y": null,
            "padding": null,
            "right": null,
            "top": null,
            "visibility": null,
            "width": null
          }
        },
        "332a22cbd14247cf809bb6cc0e876e22": {
          "model_module": "@jupyter-widgets/base",
          "model_name": "LayoutModel",
          "model_module_version": "1.2.0",
          "state": {
            "_model_module": "@jupyter-widgets/base",
            "_model_module_version": "1.2.0",
            "_model_name": "LayoutModel",
            "_view_count": null,
            "_view_module": "@jupyter-widgets/base",
            "_view_module_version": "1.2.0",
            "_view_name": "LayoutView",
            "align_content": null,
            "align_items": null,
            "align_self": null,
            "border": null,
            "bottom": null,
            "display": null,
            "flex": null,
            "flex_flow": null,
            "grid_area": null,
            "grid_auto_columns": null,
            "grid_auto_flow": null,
            "grid_auto_rows": null,
            "grid_column": null,
            "grid_gap": null,
            "grid_row": null,
            "grid_template_areas": null,
            "grid_template_columns": null,
            "grid_template_rows": null,
            "height": null,
            "justify_content": null,
            "justify_items": null,
            "left": null,
            "margin": null,
            "max_height": null,
            "max_width": null,
            "min_height": null,
            "min_width": null,
            "object_fit": null,
            "object_position": null,
            "order": null,
            "overflow": null,
            "overflow_x": null,
            "overflow_y": null,
            "padding": null,
            "right": null,
            "top": null,
            "visibility": null,
            "width": null
          }
        },
        "70d0d41c624c43d7be5eec0efbaea88f": {
          "model_module": "@jupyter-widgets/controls",
          "model_name": "DescriptionStyleModel",
          "model_module_version": "1.5.0",
          "state": {
            "_model_module": "@jupyter-widgets/controls",
            "_model_module_version": "1.5.0",
            "_model_name": "DescriptionStyleModel",
            "_view_count": null,
            "_view_module": "@jupyter-widgets/base",
            "_view_module_version": "1.2.0",
            "_view_name": "StyleView",
            "description_width": ""
          }
        },
        "f6a0b8a81a894ef993fd3a75e0d217b2": {
          "model_module": "@jupyter-widgets/base",
          "model_name": "LayoutModel",
          "model_module_version": "1.2.0",
          "state": {
            "_model_module": "@jupyter-widgets/base",
            "_model_module_version": "1.2.0",
            "_model_name": "LayoutModel",
            "_view_count": null,
            "_view_module": "@jupyter-widgets/base",
            "_view_module_version": "1.2.0",
            "_view_name": "LayoutView",
            "align_content": null,
            "align_items": null,
            "align_self": null,
            "border": null,
            "bottom": null,
            "display": null,
            "flex": null,
            "flex_flow": null,
            "grid_area": null,
            "grid_auto_columns": null,
            "grid_auto_flow": null,
            "grid_auto_rows": null,
            "grid_column": null,
            "grid_gap": null,
            "grid_row": null,
            "grid_template_areas": null,
            "grid_template_columns": null,
            "grid_template_rows": null,
            "height": null,
            "justify_content": null,
            "justify_items": null,
            "left": null,
            "margin": null,
            "max_height": null,
            "max_width": null,
            "min_height": null,
            "min_width": null,
            "object_fit": null,
            "object_position": null,
            "order": null,
            "overflow": null,
            "overflow_x": null,
            "overflow_y": null,
            "padding": null,
            "right": null,
            "top": null,
            "visibility": null,
            "width": null
          }
        },
        "49c45029bf054c8fb7a65c9303a8a12c": {
          "model_module": "@jupyter-widgets/controls",
          "model_name": "ProgressStyleModel",
          "model_module_version": "1.5.0",
          "state": {
            "_model_module": "@jupyter-widgets/controls",
            "_model_module_version": "1.5.0",
            "_model_name": "ProgressStyleModel",
            "_view_count": null,
            "_view_module": "@jupyter-widgets/base",
            "_view_module_version": "1.2.0",
            "_view_name": "StyleView",
            "bar_color": null,
            "description_width": ""
          }
        },
        "0415c34dbed948daa8bd5a1b9c9c84bd": {
          "model_module": "@jupyter-widgets/base",
          "model_name": "LayoutModel",
          "model_module_version": "1.2.0",
          "state": {
            "_model_module": "@jupyter-widgets/base",
            "_model_module_version": "1.2.0",
            "_model_name": "LayoutModel",
            "_view_count": null,
            "_view_module": "@jupyter-widgets/base",
            "_view_module_version": "1.2.0",
            "_view_name": "LayoutView",
            "align_content": null,
            "align_items": null,
            "align_self": null,
            "border": null,
            "bottom": null,
            "display": null,
            "flex": null,
            "flex_flow": null,
            "grid_area": null,
            "grid_auto_columns": null,
            "grid_auto_flow": null,
            "grid_auto_rows": null,
            "grid_column": null,
            "grid_gap": null,
            "grid_row": null,
            "grid_template_areas": null,
            "grid_template_columns": null,
            "grid_template_rows": null,
            "height": null,
            "justify_content": null,
            "justify_items": null,
            "left": null,
            "margin": null,
            "max_height": null,
            "max_width": null,
            "min_height": null,
            "min_width": null,
            "object_fit": null,
            "object_position": null,
            "order": null,
            "overflow": null,
            "overflow_x": null,
            "overflow_y": null,
            "padding": null,
            "right": null,
            "top": null,
            "visibility": null,
            "width": null
          }
        },
        "bb236cf990fd42be86b1d79eef68cea3": {
          "model_module": "@jupyter-widgets/controls",
          "model_name": "DescriptionStyleModel",
          "model_module_version": "1.5.0",
          "state": {
            "_model_module": "@jupyter-widgets/controls",
            "_model_module_version": "1.5.0",
            "_model_name": "DescriptionStyleModel",
            "_view_count": null,
            "_view_module": "@jupyter-widgets/base",
            "_view_module_version": "1.2.0",
            "_view_name": "StyleView",
            "description_width": ""
          }
        },
        "41ca482e02564784a0984893a0ab20dd": {
          "model_module": "@jupyter-widgets/controls",
          "model_name": "HBoxModel",
          "model_module_version": "1.5.0",
          "state": {
            "_dom_classes": [],
            "_model_module": "@jupyter-widgets/controls",
            "_model_module_version": "1.5.0",
            "_model_name": "HBoxModel",
            "_view_count": null,
            "_view_module": "@jupyter-widgets/controls",
            "_view_module_version": "1.5.0",
            "_view_name": "HBoxView",
            "box_style": "",
            "children": [
              "IPY_MODEL_477c936229574779ae589402be7610c0",
              "IPY_MODEL_3a224348091e4c37a5175268624c60cd",
              "IPY_MODEL_b16e5354906a40e0866b6e05264d5e26"
            ],
            "layout": "IPY_MODEL_d316ffaf0bf44b55aabad64bb6c2f3dd"
          }
        },
        "477c936229574779ae589402be7610c0": {
          "model_module": "@jupyter-widgets/controls",
          "model_name": "HTMLModel",
          "model_module_version": "1.5.0",
          "state": {
            "_dom_classes": [],
            "_model_module": "@jupyter-widgets/controls",
            "_model_module_version": "1.5.0",
            "_model_name": "HTMLModel",
            "_view_count": null,
            "_view_module": "@jupyter-widgets/controls",
            "_view_module_version": "1.5.0",
            "_view_name": "HTMLView",
            "description": "",
            "description_tooltip": null,
            "layout": "IPY_MODEL_8a87e1c207a9455b91552ab907b4e4ec",
            "placeholder": "​",
            "style": "IPY_MODEL_8270a17c9c3e43cd9ea74a3b9e4b1bb4",
            "value": "Downloading data: 100%"
          }
        },
        "3a224348091e4c37a5175268624c60cd": {
          "model_module": "@jupyter-widgets/controls",
          "model_name": "FloatProgressModel",
          "model_module_version": "1.5.0",
          "state": {
            "_dom_classes": [],
            "_model_module": "@jupyter-widgets/controls",
            "_model_module_version": "1.5.0",
            "_model_name": "FloatProgressModel",
            "_view_count": null,
            "_view_module": "@jupyter-widgets/controls",
            "_view_module_version": "1.5.0",
            "_view_name": "ProgressView",
            "bar_style": "success",
            "description": "",
            "description_tooltip": null,
            "layout": "IPY_MODEL_0c01f61cb8444277a3ecc02fb01d050b",
            "max": 1073741294,
            "min": 0,
            "orientation": "horizontal",
            "style": "IPY_MODEL_1b8956ad952f47ebb6f382508c8d7f6a",
            "value": 1073741294
          }
        },
        "b16e5354906a40e0866b6e05264d5e26": {
          "model_module": "@jupyter-widgets/controls",
          "model_name": "HTMLModel",
          "model_module_version": "1.5.0",
          "state": {
            "_dom_classes": [],
            "_model_module": "@jupyter-widgets/controls",
            "_model_module_version": "1.5.0",
            "_model_name": "HTMLModel",
            "_view_count": null,
            "_view_module": "@jupyter-widgets/controls",
            "_view_module_version": "1.5.0",
            "_view_name": "HTMLView",
            "description": "",
            "description_tooltip": null,
            "layout": "IPY_MODEL_c02bbf3400b84a9aa0b360acd51e8ef5",
            "placeholder": "​",
            "style": "IPY_MODEL_03a67d9187354cd0ab9e99672f59e05c",
            "value": " 1.07G/1.07G [02:21&lt;00:00, 5.76MB/s]"
          }
        },
        "d316ffaf0bf44b55aabad64bb6c2f3dd": {
          "model_module": "@jupyter-widgets/base",
          "model_name": "LayoutModel",
          "model_module_version": "1.2.0",
          "state": {
            "_model_module": "@jupyter-widgets/base",
            "_model_module_version": "1.2.0",
            "_model_name": "LayoutModel",
            "_view_count": null,
            "_view_module": "@jupyter-widgets/base",
            "_view_module_version": "1.2.0",
            "_view_name": "LayoutView",
            "align_content": null,
            "align_items": null,
            "align_self": null,
            "border": null,
            "bottom": null,
            "display": null,
            "flex": null,
            "flex_flow": null,
            "grid_area": null,
            "grid_auto_columns": null,
            "grid_auto_flow": null,
            "grid_auto_rows": null,
            "grid_column": null,
            "grid_gap": null,
            "grid_row": null,
            "grid_template_areas": null,
            "grid_template_columns": null,
            "grid_template_rows": null,
            "height": null,
            "justify_content": null,
            "justify_items": null,
            "left": null,
            "margin": null,
            "max_height": null,
            "max_width": null,
            "min_height": null,
            "min_width": null,
            "object_fit": null,
            "object_position": null,
            "order": null,
            "overflow": null,
            "overflow_x": null,
            "overflow_y": null,
            "padding": null,
            "right": null,
            "top": null,
            "visibility": null,
            "width": null
          }
        },
        "8a87e1c207a9455b91552ab907b4e4ec": {
          "model_module": "@jupyter-widgets/base",
          "model_name": "LayoutModel",
          "model_module_version": "1.2.0",
          "state": {
            "_model_module": "@jupyter-widgets/base",
            "_model_module_version": "1.2.0",
            "_model_name": "LayoutModel",
            "_view_count": null,
            "_view_module": "@jupyter-widgets/base",
            "_view_module_version": "1.2.0",
            "_view_name": "LayoutView",
            "align_content": null,
            "align_items": null,
            "align_self": null,
            "border": null,
            "bottom": null,
            "display": null,
            "flex": null,
            "flex_flow": null,
            "grid_area": null,
            "grid_auto_columns": null,
            "grid_auto_flow": null,
            "grid_auto_rows": null,
            "grid_column": null,
            "grid_gap": null,
            "grid_row": null,
            "grid_template_areas": null,
            "grid_template_columns": null,
            "grid_template_rows": null,
            "height": null,
            "justify_content": null,
            "justify_items": null,
            "left": null,
            "margin": null,
            "max_height": null,
            "max_width": null,
            "min_height": null,
            "min_width": null,
            "object_fit": null,
            "object_position": null,
            "order": null,
            "overflow": null,
            "overflow_x": null,
            "overflow_y": null,
            "padding": null,
            "right": null,
            "top": null,
            "visibility": null,
            "width": null
          }
        },
        "8270a17c9c3e43cd9ea74a3b9e4b1bb4": {
          "model_module": "@jupyter-widgets/controls",
          "model_name": "DescriptionStyleModel",
          "model_module_version": "1.5.0",
          "state": {
            "_model_module": "@jupyter-widgets/controls",
            "_model_module_version": "1.5.0",
            "_model_name": "DescriptionStyleModel",
            "_view_count": null,
            "_view_module": "@jupyter-widgets/base",
            "_view_module_version": "1.2.0",
            "_view_name": "StyleView",
            "description_width": ""
          }
        },
        "0c01f61cb8444277a3ecc02fb01d050b": {
          "model_module": "@jupyter-widgets/base",
          "model_name": "LayoutModel",
          "model_module_version": "1.2.0",
          "state": {
            "_model_module": "@jupyter-widgets/base",
            "_model_module_version": "1.2.0",
            "_model_name": "LayoutModel",
            "_view_count": null,
            "_view_module": "@jupyter-widgets/base",
            "_view_module_version": "1.2.0",
            "_view_name": "LayoutView",
            "align_content": null,
            "align_items": null,
            "align_self": null,
            "border": null,
            "bottom": null,
            "display": null,
            "flex": null,
            "flex_flow": null,
            "grid_area": null,
            "grid_auto_columns": null,
            "grid_auto_flow": null,
            "grid_auto_rows": null,
            "grid_column": null,
            "grid_gap": null,
            "grid_row": null,
            "grid_template_areas": null,
            "grid_template_columns": null,
            "grid_template_rows": null,
            "height": null,
            "justify_content": null,
            "justify_items": null,
            "left": null,
            "margin": null,
            "max_height": null,
            "max_width": null,
            "min_height": null,
            "min_width": null,
            "object_fit": null,
            "object_position": null,
            "order": null,
            "overflow": null,
            "overflow_x": null,
            "overflow_y": null,
            "padding": null,
            "right": null,
            "top": null,
            "visibility": null,
            "width": null
          }
        },
        "1b8956ad952f47ebb6f382508c8d7f6a": {
          "model_module": "@jupyter-widgets/controls",
          "model_name": "ProgressStyleModel",
          "model_module_version": "1.5.0",
          "state": {
            "_model_module": "@jupyter-widgets/controls",
            "_model_module_version": "1.5.0",
            "_model_name": "ProgressStyleModel",
            "_view_count": null,
            "_view_module": "@jupyter-widgets/base",
            "_view_module_version": "1.2.0",
            "_view_name": "StyleView",
            "bar_color": null,
            "description_width": ""
          }
        },
        "c02bbf3400b84a9aa0b360acd51e8ef5": {
          "model_module": "@jupyter-widgets/base",
          "model_name": "LayoutModel",
          "model_module_version": "1.2.0",
          "state": {
            "_model_module": "@jupyter-widgets/base",
            "_model_module_version": "1.2.0",
            "_model_name": "LayoutModel",
            "_view_count": null,
            "_view_module": "@jupyter-widgets/base",
            "_view_module_version": "1.2.0",
            "_view_name": "LayoutView",
            "align_content": null,
            "align_items": null,
            "align_self": null,
            "border": null,
            "bottom": null,
            "display": null,
            "flex": null,
            "flex_flow": null,
            "grid_area": null,
            "grid_auto_columns": null,
            "grid_auto_flow": null,
            "grid_auto_rows": null,
            "grid_column": null,
            "grid_gap": null,
            "grid_row": null,
            "grid_template_areas": null,
            "grid_template_columns": null,
            "grid_template_rows": null,
            "height": null,
            "justify_content": null,
            "justify_items": null,
            "left": null,
            "margin": null,
            "max_height": null,
            "max_width": null,
            "min_height": null,
            "min_width": null,
            "object_fit": null,
            "object_position": null,
            "order": null,
            "overflow": null,
            "overflow_x": null,
            "overflow_y": null,
            "padding": null,
            "right": null,
            "top": null,
            "visibility": null,
            "width": null
          }
        },
        "03a67d9187354cd0ab9e99672f59e05c": {
          "model_module": "@jupyter-widgets/controls",
          "model_name": "DescriptionStyleModel",
          "model_module_version": "1.5.0",
          "state": {
            "_model_module": "@jupyter-widgets/controls",
            "_model_module_version": "1.5.0",
            "_model_name": "DescriptionStyleModel",
            "_view_count": null,
            "_view_module": "@jupyter-widgets/base",
            "_view_module_version": "1.2.0",
            "_view_name": "StyleView",
            "description_width": ""
          }
        },
        "28410b12edd7409199ab433f6c85d803": {
          "model_module": "@jupyter-widgets/controls",
          "model_name": "HBoxModel",
          "model_module_version": "1.5.0",
          "state": {
            "_dom_classes": [],
            "_model_module": "@jupyter-widgets/controls",
            "_model_module_version": "1.5.0",
            "_model_name": "HBoxModel",
            "_view_count": null,
            "_view_module": "@jupyter-widgets/controls",
            "_view_module_version": "1.5.0",
            "_view_name": "HBoxView",
            "box_style": "",
            "children": [
              "IPY_MODEL_92c5a13b502348e8bc469024f2a8e3de",
              "IPY_MODEL_e740ba4781fc491f9e114ce466fa2e0d",
              "IPY_MODEL_9b7a1768aefa46f5adfe304d5c01824a"
            ],
            "layout": "IPY_MODEL_379d9367a9174fb6a308439afaafcde1"
          }
        },
        "92c5a13b502348e8bc469024f2a8e3de": {
          "model_module": "@jupyter-widgets/controls",
          "model_name": "HTMLModel",
          "model_module_version": "1.5.0",
          "state": {
            "_dom_classes": [],
            "_model_module": "@jupyter-widgets/controls",
            "_model_module_version": "1.5.0",
            "_model_name": "HTMLModel",
            "_view_count": null,
            "_view_module": "@jupyter-widgets/controls",
            "_view_module_version": "1.5.0",
            "_view_name": "HTMLView",
            "description": "",
            "description_tooltip": null,
            "layout": "IPY_MODEL_9122025e68114740b6fc0d81b95d5719",
            "placeholder": "​",
            "style": "IPY_MODEL_dfa7aeb805324e72a99590c466b92e76",
            "value": "Extracting data files: 100%"
          }
        },
        "e740ba4781fc491f9e114ce466fa2e0d": {
          "model_module": "@jupyter-widgets/controls",
          "model_name": "FloatProgressModel",
          "model_module_version": "1.5.0",
          "state": {
            "_dom_classes": [],
            "_model_module": "@jupyter-widgets/controls",
            "_model_module_version": "1.5.0",
            "_model_name": "FloatProgressModel",
            "_view_count": null,
            "_view_module": "@jupyter-widgets/controls",
            "_view_module_version": "1.5.0",
            "_view_name": "ProgressView",
            "bar_style": "success",
            "description": "",
            "description_tooltip": null,
            "layout": "IPY_MODEL_f55de457568f42bba6ed1585fb3b6b05",
            "max": 2,
            "min": 0,
            "orientation": "horizontal",
            "style": "IPY_MODEL_d902d92382124ae58f6a2cb63fff0258",
            "value": 2
          }
        },
        "9b7a1768aefa46f5adfe304d5c01824a": {
          "model_module": "@jupyter-widgets/controls",
          "model_name": "HTMLModel",
          "model_module_version": "1.5.0",
          "state": {
            "_dom_classes": [],
            "_model_module": "@jupyter-widgets/controls",
            "_model_module_version": "1.5.0",
            "_model_name": "HTMLModel",
            "_view_count": null,
            "_view_module": "@jupyter-widgets/controls",
            "_view_module_version": "1.5.0",
            "_view_name": "HTMLView",
            "description": "",
            "description_tooltip": null,
            "layout": "IPY_MODEL_fd6d447e4d9f4c55befa5aee6652ba70",
            "placeholder": "​",
            "style": "IPY_MODEL_b86cf29b97174024b2c42bebbb7fab8d",
            "value": " 2/2 [00:00&lt;00:00, 82.66it/s]"
          }
        },
        "379d9367a9174fb6a308439afaafcde1": {
          "model_module": "@jupyter-widgets/base",
          "model_name": "LayoutModel",
          "model_module_version": "1.2.0",
          "state": {
            "_model_module": "@jupyter-widgets/base",
            "_model_module_version": "1.2.0",
            "_model_name": "LayoutModel",
            "_view_count": null,
            "_view_module": "@jupyter-widgets/base",
            "_view_module_version": "1.2.0",
            "_view_name": "LayoutView",
            "align_content": null,
            "align_items": null,
            "align_self": null,
            "border": null,
            "bottom": null,
            "display": null,
            "flex": null,
            "flex_flow": null,
            "grid_area": null,
            "grid_auto_columns": null,
            "grid_auto_flow": null,
            "grid_auto_rows": null,
            "grid_column": null,
            "grid_gap": null,
            "grid_row": null,
            "grid_template_areas": null,
            "grid_template_columns": null,
            "grid_template_rows": null,
            "height": null,
            "justify_content": null,
            "justify_items": null,
            "left": null,
            "margin": null,
            "max_height": null,
            "max_width": null,
            "min_height": null,
            "min_width": null,
            "object_fit": null,
            "object_position": null,
            "order": null,
            "overflow": null,
            "overflow_x": null,
            "overflow_y": null,
            "padding": null,
            "right": null,
            "top": null,
            "visibility": null,
            "width": null
          }
        },
        "9122025e68114740b6fc0d81b95d5719": {
          "model_module": "@jupyter-widgets/base",
          "model_name": "LayoutModel",
          "model_module_version": "1.2.0",
          "state": {
            "_model_module": "@jupyter-widgets/base",
            "_model_module_version": "1.2.0",
            "_model_name": "LayoutModel",
            "_view_count": null,
            "_view_module": "@jupyter-widgets/base",
            "_view_module_version": "1.2.0",
            "_view_name": "LayoutView",
            "align_content": null,
            "align_items": null,
            "align_self": null,
            "border": null,
            "bottom": null,
            "display": null,
            "flex": null,
            "flex_flow": null,
            "grid_area": null,
            "grid_auto_columns": null,
            "grid_auto_flow": null,
            "grid_auto_rows": null,
            "grid_column": null,
            "grid_gap": null,
            "grid_row": null,
            "grid_template_areas": null,
            "grid_template_columns": null,
            "grid_template_rows": null,
            "height": null,
            "justify_content": null,
            "justify_items": null,
            "left": null,
            "margin": null,
            "max_height": null,
            "max_width": null,
            "min_height": null,
            "min_width": null,
            "object_fit": null,
            "object_position": null,
            "order": null,
            "overflow": null,
            "overflow_x": null,
            "overflow_y": null,
            "padding": null,
            "right": null,
            "top": null,
            "visibility": null,
            "width": null
          }
        },
        "dfa7aeb805324e72a99590c466b92e76": {
          "model_module": "@jupyter-widgets/controls",
          "model_name": "DescriptionStyleModel",
          "model_module_version": "1.5.0",
          "state": {
            "_model_module": "@jupyter-widgets/controls",
            "_model_module_version": "1.5.0",
            "_model_name": "DescriptionStyleModel",
            "_view_count": null,
            "_view_module": "@jupyter-widgets/base",
            "_view_module_version": "1.2.0",
            "_view_name": "StyleView",
            "description_width": ""
          }
        },
        "f55de457568f42bba6ed1585fb3b6b05": {
          "model_module": "@jupyter-widgets/base",
          "model_name": "LayoutModel",
          "model_module_version": "1.2.0",
          "state": {
            "_model_module": "@jupyter-widgets/base",
            "_model_module_version": "1.2.0",
            "_model_name": "LayoutModel",
            "_view_count": null,
            "_view_module": "@jupyter-widgets/base",
            "_view_module_version": "1.2.0",
            "_view_name": "LayoutView",
            "align_content": null,
            "align_items": null,
            "align_self": null,
            "border": null,
            "bottom": null,
            "display": null,
            "flex": null,
            "flex_flow": null,
            "grid_area": null,
            "grid_auto_columns": null,
            "grid_auto_flow": null,
            "grid_auto_rows": null,
            "grid_column": null,
            "grid_gap": null,
            "grid_row": null,
            "grid_template_areas": null,
            "grid_template_columns": null,
            "grid_template_rows": null,
            "height": null,
            "justify_content": null,
            "justify_items": null,
            "left": null,
            "margin": null,
            "max_height": null,
            "max_width": null,
            "min_height": null,
            "min_width": null,
            "object_fit": null,
            "object_position": null,
            "order": null,
            "overflow": null,
            "overflow_x": null,
            "overflow_y": null,
            "padding": null,
            "right": null,
            "top": null,
            "visibility": null,
            "width": null
          }
        },
        "d902d92382124ae58f6a2cb63fff0258": {
          "model_module": "@jupyter-widgets/controls",
          "model_name": "ProgressStyleModel",
          "model_module_version": "1.5.0",
          "state": {
            "_model_module": "@jupyter-widgets/controls",
            "_model_module_version": "1.5.0",
            "_model_name": "ProgressStyleModel",
            "_view_count": null,
            "_view_module": "@jupyter-widgets/base",
            "_view_module_version": "1.2.0",
            "_view_name": "StyleView",
            "bar_color": null,
            "description_width": ""
          }
        },
        "fd6d447e4d9f4c55befa5aee6652ba70": {
          "model_module": "@jupyter-widgets/base",
          "model_name": "LayoutModel",
          "model_module_version": "1.2.0",
          "state": {
            "_model_module": "@jupyter-widgets/base",
            "_model_module_version": "1.2.0",
            "_model_name": "LayoutModel",
            "_view_count": null,
            "_view_module": "@jupyter-widgets/base",
            "_view_module_version": "1.2.0",
            "_view_name": "LayoutView",
            "align_content": null,
            "align_items": null,
            "align_self": null,
            "border": null,
            "bottom": null,
            "display": null,
            "flex": null,
            "flex_flow": null,
            "grid_area": null,
            "grid_auto_columns": null,
            "grid_auto_flow": null,
            "grid_auto_rows": null,
            "grid_column": null,
            "grid_gap": null,
            "grid_row": null,
            "grid_template_areas": null,
            "grid_template_columns": null,
            "grid_template_rows": null,
            "height": null,
            "justify_content": null,
            "justify_items": null,
            "left": null,
            "margin": null,
            "max_height": null,
            "max_width": null,
            "min_height": null,
            "min_width": null,
            "object_fit": null,
            "object_position": null,
            "order": null,
            "overflow": null,
            "overflow_x": null,
            "overflow_y": null,
            "padding": null,
            "right": null,
            "top": null,
            "visibility": null,
            "width": null
          }
        },
        "b86cf29b97174024b2c42bebbb7fab8d": {
          "model_module": "@jupyter-widgets/controls",
          "model_name": "DescriptionStyleModel",
          "model_module_version": "1.5.0",
          "state": {
            "_model_module": "@jupyter-widgets/controls",
            "_model_module_version": "1.5.0",
            "_model_name": "DescriptionStyleModel",
            "_view_count": null,
            "_view_module": "@jupyter-widgets/base",
            "_view_module_version": "1.2.0",
            "_view_name": "StyleView",
            "description_width": ""
          }
        },
        "4648542cc1a54e11acc488b58db69ccc": {
          "model_module": "@jupyter-widgets/controls",
          "model_name": "HBoxModel",
          "model_module_version": "1.5.0",
          "state": {
            "_dom_classes": [],
            "_model_module": "@jupyter-widgets/controls",
            "_model_module_version": "1.5.0",
            "_model_name": "HBoxModel",
            "_view_count": null,
            "_view_module": "@jupyter-widgets/controls",
            "_view_module_version": "1.5.0",
            "_view_name": "HBoxView",
            "box_style": "",
            "children": [
              "IPY_MODEL_3708126d88784ee6a7577082db7cb8f5",
              "IPY_MODEL_a7830e578b804853a7c41a1f3c1a7e9b",
              "IPY_MODEL_58d0a3e9f4aa4e07afc137fbb86c3ab3"
            ],
            "layout": "IPY_MODEL_c7d8e990e7324c858317bb49740945ed"
          }
        },
        "3708126d88784ee6a7577082db7cb8f5": {
          "model_module": "@jupyter-widgets/controls",
          "model_name": "HTMLModel",
          "model_module_version": "1.5.0",
          "state": {
            "_dom_classes": [],
            "_model_module": "@jupyter-widgets/controls",
            "_model_module_version": "1.5.0",
            "_model_name": "HTMLModel",
            "_view_count": null,
            "_view_module": "@jupyter-widgets/controls",
            "_view_module_version": "1.5.0",
            "_view_name": "HTMLView",
            "description": "",
            "description_tooltip": null,
            "layout": "IPY_MODEL_df8783e6df1f419399d4a631d86bece9",
            "placeholder": "​",
            "style": "IPY_MODEL_8228f209679040e0ae3baf41e346357d",
            "value": "Generating train split: "
          }
        },
        "a7830e578b804853a7c41a1f3c1a7e9b": {
          "model_module": "@jupyter-widgets/controls",
          "model_name": "FloatProgressModel",
          "model_module_version": "1.5.0",
          "state": {
            "_dom_classes": [],
            "_model_module": "@jupyter-widgets/controls",
            "_model_module_version": "1.5.0",
            "_model_name": "FloatProgressModel",
            "_view_count": null,
            "_view_module": "@jupyter-widgets/controls",
            "_view_module_version": "1.5.0",
            "_view_name": "ProgressView",
            "bar_style": "success",
            "description": "",
            "description_tooltip": null,
            "layout": "IPY_MODEL_a7831223adb941d3bb1a6c192890b77b",
            "max": 1,
            "min": 0,
            "orientation": "horizontal",
            "style": "IPY_MODEL_6447100296f64147a45f3db0c8c814bf",
            "value": 1
          }
        },
        "58d0a3e9f4aa4e07afc137fbb86c3ab3": {
          "model_module": "@jupyter-widgets/controls",
          "model_name": "HTMLModel",
          "model_module_version": "1.5.0",
          "state": {
            "_dom_classes": [],
            "_model_module": "@jupyter-widgets/controls",
            "_model_module_version": "1.5.0",
            "_model_name": "HTMLModel",
            "_view_count": null,
            "_view_module": "@jupyter-widgets/controls",
            "_view_module_version": "1.5.0",
            "_view_name": "HTMLView",
            "description": "",
            "description_tooltip": null,
            "layout": "IPY_MODEL_65407236183f405fb4c87364e050c6bb",
            "placeholder": "​",
            "style": "IPY_MODEL_d5e115c2ff094ed48276b5612afee8ec",
            "value": " 18062599/0 [00:23&lt;00:00, 967572.81 examples/s]"
          }
        },
        "c7d8e990e7324c858317bb49740945ed": {
          "model_module": "@jupyter-widgets/base",
          "model_name": "LayoutModel",
          "model_module_version": "1.2.0",
          "state": {
            "_model_module": "@jupyter-widgets/base",
            "_model_module_version": "1.2.0",
            "_model_name": "LayoutModel",
            "_view_count": null,
            "_view_module": "@jupyter-widgets/base",
            "_view_module_version": "1.2.0",
            "_view_name": "LayoutView",
            "align_content": null,
            "align_items": null,
            "align_self": null,
            "border": null,
            "bottom": null,
            "display": null,
            "flex": null,
            "flex_flow": null,
            "grid_area": null,
            "grid_auto_columns": null,
            "grid_auto_flow": null,
            "grid_auto_rows": null,
            "grid_column": null,
            "grid_gap": null,
            "grid_row": null,
            "grid_template_areas": null,
            "grid_template_columns": null,
            "grid_template_rows": null,
            "height": null,
            "justify_content": null,
            "justify_items": null,
            "left": null,
            "margin": null,
            "max_height": null,
            "max_width": null,
            "min_height": null,
            "min_width": null,
            "object_fit": null,
            "object_position": null,
            "order": null,
            "overflow": null,
            "overflow_x": null,
            "overflow_y": null,
            "padding": null,
            "right": null,
            "top": null,
            "visibility": null,
            "width": null
          }
        },
        "df8783e6df1f419399d4a631d86bece9": {
          "model_module": "@jupyter-widgets/base",
          "model_name": "LayoutModel",
          "model_module_version": "1.2.0",
          "state": {
            "_model_module": "@jupyter-widgets/base",
            "_model_module_version": "1.2.0",
            "_model_name": "LayoutModel",
            "_view_count": null,
            "_view_module": "@jupyter-widgets/base",
            "_view_module_version": "1.2.0",
            "_view_name": "LayoutView",
            "align_content": null,
            "align_items": null,
            "align_self": null,
            "border": null,
            "bottom": null,
            "display": null,
            "flex": null,
            "flex_flow": null,
            "grid_area": null,
            "grid_auto_columns": null,
            "grid_auto_flow": null,
            "grid_auto_rows": null,
            "grid_column": null,
            "grid_gap": null,
            "grid_row": null,
            "grid_template_areas": null,
            "grid_template_columns": null,
            "grid_template_rows": null,
            "height": null,
            "justify_content": null,
            "justify_items": null,
            "left": null,
            "margin": null,
            "max_height": null,
            "max_width": null,
            "min_height": null,
            "min_width": null,
            "object_fit": null,
            "object_position": null,
            "order": null,
            "overflow": null,
            "overflow_x": null,
            "overflow_y": null,
            "padding": null,
            "right": null,
            "top": null,
            "visibility": null,
            "width": null
          }
        },
        "8228f209679040e0ae3baf41e346357d": {
          "model_module": "@jupyter-widgets/controls",
          "model_name": "DescriptionStyleModel",
          "model_module_version": "1.5.0",
          "state": {
            "_model_module": "@jupyter-widgets/controls",
            "_model_module_version": "1.5.0",
            "_model_name": "DescriptionStyleModel",
            "_view_count": null,
            "_view_module": "@jupyter-widgets/base",
            "_view_module_version": "1.2.0",
            "_view_name": "StyleView",
            "description_width": ""
          }
        },
        "a7831223adb941d3bb1a6c192890b77b": {
          "model_module": "@jupyter-widgets/base",
          "model_name": "LayoutModel",
          "model_module_version": "1.2.0",
          "state": {
            "_model_module": "@jupyter-widgets/base",
            "_model_module_version": "1.2.0",
            "_model_name": "LayoutModel",
            "_view_count": null,
            "_view_module": "@jupyter-widgets/base",
            "_view_module_version": "1.2.0",
            "_view_name": "LayoutView",
            "align_content": null,
            "align_items": null,
            "align_self": null,
            "border": null,
            "bottom": null,
            "display": null,
            "flex": null,
            "flex_flow": null,
            "grid_area": null,
            "grid_auto_columns": null,
            "grid_auto_flow": null,
            "grid_auto_rows": null,
            "grid_column": null,
            "grid_gap": null,
            "grid_row": null,
            "grid_template_areas": null,
            "grid_template_columns": null,
            "grid_template_rows": null,
            "height": null,
            "justify_content": null,
            "justify_items": null,
            "left": null,
            "margin": null,
            "max_height": null,
            "max_width": null,
            "min_height": null,
            "min_width": null,
            "object_fit": null,
            "object_position": null,
            "order": null,
            "overflow": null,
            "overflow_x": null,
            "overflow_y": null,
            "padding": null,
            "right": null,
            "top": null,
            "visibility": null,
            "width": "20px"
          }
        },
        "6447100296f64147a45f3db0c8c814bf": {
          "model_module": "@jupyter-widgets/controls",
          "model_name": "ProgressStyleModel",
          "model_module_version": "1.5.0",
          "state": {
            "_model_module": "@jupyter-widgets/controls",
            "_model_module_version": "1.5.0",
            "_model_name": "ProgressStyleModel",
            "_view_count": null,
            "_view_module": "@jupyter-widgets/base",
            "_view_module_version": "1.2.0",
            "_view_name": "StyleView",
            "bar_color": null,
            "description_width": ""
          }
        },
        "65407236183f405fb4c87364e050c6bb": {
          "model_module": "@jupyter-widgets/base",
          "model_name": "LayoutModel",
          "model_module_version": "1.2.0",
          "state": {
            "_model_module": "@jupyter-widgets/base",
            "_model_module_version": "1.2.0",
            "_model_name": "LayoutModel",
            "_view_count": null,
            "_view_module": "@jupyter-widgets/base",
            "_view_module_version": "1.2.0",
            "_view_name": "LayoutView",
            "align_content": null,
            "align_items": null,
            "align_self": null,
            "border": null,
            "bottom": null,
            "display": null,
            "flex": null,
            "flex_flow": null,
            "grid_area": null,
            "grid_auto_columns": null,
            "grid_auto_flow": null,
            "grid_auto_rows": null,
            "grid_column": null,
            "grid_gap": null,
            "grid_row": null,
            "grid_template_areas": null,
            "grid_template_columns": null,
            "grid_template_rows": null,
            "height": null,
            "justify_content": null,
            "justify_items": null,
            "left": null,
            "margin": null,
            "max_height": null,
            "max_width": null,
            "min_height": null,
            "min_width": null,
            "object_fit": null,
            "object_position": null,
            "order": null,
            "overflow": null,
            "overflow_x": null,
            "overflow_y": null,
            "padding": null,
            "right": null,
            "top": null,
            "visibility": null,
            "width": null
          }
        },
        "d5e115c2ff094ed48276b5612afee8ec": {
          "model_module": "@jupyter-widgets/controls",
          "model_name": "DescriptionStyleModel",
          "model_module_version": "1.5.0",
          "state": {
            "_model_module": "@jupyter-widgets/controls",
            "_model_module_version": "1.5.0",
            "_model_name": "DescriptionStyleModel",
            "_view_count": null,
            "_view_module": "@jupyter-widgets/base",
            "_view_module_version": "1.2.0",
            "_view_name": "StyleView",
            "description_width": ""
          }
        },
        "be0aa9e442904f46bf51804d771d9d94": {
          "model_module": "@jupyter-widgets/controls",
          "model_name": "HBoxModel",
          "model_module_version": "1.5.0",
          "state": {
            "_dom_classes": [],
            "_model_module": "@jupyter-widgets/controls",
            "_model_module_version": "1.5.0",
            "_model_name": "HBoxModel",
            "_view_count": null,
            "_view_module": "@jupyter-widgets/controls",
            "_view_module_version": "1.5.0",
            "_view_name": "HBoxView",
            "box_style": "",
            "children": [
              "IPY_MODEL_cd7f997fc89740548c83397956fceb85",
              "IPY_MODEL_f11d2f935c394a03a5c293a082ad20fa",
              "IPY_MODEL_c8e810e0f07746eebc52ccea91f1b0ce"
            ],
            "layout": "IPY_MODEL_00759bb5a6ca435ea9c1136b251b5155"
          }
        },
        "cd7f997fc89740548c83397956fceb85": {
          "model_module": "@jupyter-widgets/controls",
          "model_name": "HTMLModel",
          "model_module_version": "1.5.0",
          "state": {
            "_dom_classes": [],
            "_model_module": "@jupyter-widgets/controls",
            "_model_module_version": "1.5.0",
            "_model_name": "HTMLModel",
            "_view_count": null,
            "_view_module": "@jupyter-widgets/controls",
            "_view_module_version": "1.5.0",
            "_view_name": "HTMLView",
            "description": "",
            "description_tooltip": null,
            "layout": "IPY_MODEL_760c4fe4917547a1a41c67e07308554c",
            "placeholder": "​",
            "style": "IPY_MODEL_570681ac01a54ad286d6e54b7ea76817",
            "value": "Generating test split: "
          }
        },
        "f11d2f935c394a03a5c293a082ad20fa": {
          "model_module": "@jupyter-widgets/controls",
          "model_name": "FloatProgressModel",
          "model_module_version": "1.5.0",
          "state": {
            "_dom_classes": [],
            "_model_module": "@jupyter-widgets/controls",
            "_model_module_version": "1.5.0",
            "_model_name": "FloatProgressModel",
            "_view_count": null,
            "_view_module": "@jupyter-widgets/controls",
            "_view_module_version": "1.5.0",
            "_view_name": "ProgressView",
            "bar_style": "success",
            "description": "",
            "description_tooltip": null,
            "layout": "IPY_MODEL_63bfd27c7c7c4e339d3dae6d6daa2954",
            "max": 1,
            "min": 0,
            "orientation": "horizontal",
            "style": "IPY_MODEL_b393a471309e404d94c7e55a3be6919f",
            "value": 1
          }
        },
        "c8e810e0f07746eebc52ccea91f1b0ce": {
          "model_module": "@jupyter-widgets/controls",
          "model_name": "HTMLModel",
          "model_module_version": "1.5.0",
          "state": {
            "_dom_classes": [],
            "_model_module": "@jupyter-widgets/controls",
            "_model_module_version": "1.5.0",
            "_model_name": "HTMLModel",
            "_view_count": null,
            "_view_module": "@jupyter-widgets/controls",
            "_view_module_version": "1.5.0",
            "_view_name": "HTMLView",
            "description": "",
            "description_tooltip": null,
            "layout": "IPY_MODEL_64913c56441f4703bb3a379880aa8260",
            "placeholder": "​",
            "style": "IPY_MODEL_52e5c48a6b0b4ce9b3debdc0a14de8d5",
            "value": " 4674154/0 [00:15&lt;00:00, 304764.29 examples/s]"
          }
        },
        "00759bb5a6ca435ea9c1136b251b5155": {
          "model_module": "@jupyter-widgets/base",
          "model_name": "LayoutModel",
          "model_module_version": "1.2.0",
          "state": {
            "_model_module": "@jupyter-widgets/base",
            "_model_module_version": "1.2.0",
            "_model_name": "LayoutModel",
            "_view_count": null,
            "_view_module": "@jupyter-widgets/base",
            "_view_module_version": "1.2.0",
            "_view_name": "LayoutView",
            "align_content": null,
            "align_items": null,
            "align_self": null,
            "border": null,
            "bottom": null,
            "display": null,
            "flex": null,
            "flex_flow": null,
            "grid_area": null,
            "grid_auto_columns": null,
            "grid_auto_flow": null,
            "grid_auto_rows": null,
            "grid_column": null,
            "grid_gap": null,
            "grid_row": null,
            "grid_template_areas": null,
            "grid_template_columns": null,
            "grid_template_rows": null,
            "height": null,
            "justify_content": null,
            "justify_items": null,
            "left": null,
            "margin": null,
            "max_height": null,
            "max_width": null,
            "min_height": null,
            "min_width": null,
            "object_fit": null,
            "object_position": null,
            "order": null,
            "overflow": null,
            "overflow_x": null,
            "overflow_y": null,
            "padding": null,
            "right": null,
            "top": null,
            "visibility": null,
            "width": null
          }
        },
        "760c4fe4917547a1a41c67e07308554c": {
          "model_module": "@jupyter-widgets/base",
          "model_name": "LayoutModel",
          "model_module_version": "1.2.0",
          "state": {
            "_model_module": "@jupyter-widgets/base",
            "_model_module_version": "1.2.0",
            "_model_name": "LayoutModel",
            "_view_count": null,
            "_view_module": "@jupyter-widgets/base",
            "_view_module_version": "1.2.0",
            "_view_name": "LayoutView",
            "align_content": null,
            "align_items": null,
            "align_self": null,
            "border": null,
            "bottom": null,
            "display": null,
            "flex": null,
            "flex_flow": null,
            "grid_area": null,
            "grid_auto_columns": null,
            "grid_auto_flow": null,
            "grid_auto_rows": null,
            "grid_column": null,
            "grid_gap": null,
            "grid_row": null,
            "grid_template_areas": null,
            "grid_template_columns": null,
            "grid_template_rows": null,
            "height": null,
            "justify_content": null,
            "justify_items": null,
            "left": null,
            "margin": null,
            "max_height": null,
            "max_width": null,
            "min_height": null,
            "min_width": null,
            "object_fit": null,
            "object_position": null,
            "order": null,
            "overflow": null,
            "overflow_x": null,
            "overflow_y": null,
            "padding": null,
            "right": null,
            "top": null,
            "visibility": null,
            "width": null
          }
        },
        "570681ac01a54ad286d6e54b7ea76817": {
          "model_module": "@jupyter-widgets/controls",
          "model_name": "DescriptionStyleModel",
          "model_module_version": "1.5.0",
          "state": {
            "_model_module": "@jupyter-widgets/controls",
            "_model_module_version": "1.5.0",
            "_model_name": "DescriptionStyleModel",
            "_view_count": null,
            "_view_module": "@jupyter-widgets/base",
            "_view_module_version": "1.2.0",
            "_view_name": "StyleView",
            "description_width": ""
          }
        },
        "63bfd27c7c7c4e339d3dae6d6daa2954": {
          "model_module": "@jupyter-widgets/base",
          "model_name": "LayoutModel",
          "model_module_version": "1.2.0",
          "state": {
            "_model_module": "@jupyter-widgets/base",
            "_model_module_version": "1.2.0",
            "_model_name": "LayoutModel",
            "_view_count": null,
            "_view_module": "@jupyter-widgets/base",
            "_view_module_version": "1.2.0",
            "_view_name": "LayoutView",
            "align_content": null,
            "align_items": null,
            "align_self": null,
            "border": null,
            "bottom": null,
            "display": null,
            "flex": null,
            "flex_flow": null,
            "grid_area": null,
            "grid_auto_columns": null,
            "grid_auto_flow": null,
            "grid_auto_rows": null,
            "grid_column": null,
            "grid_gap": null,
            "grid_row": null,
            "grid_template_areas": null,
            "grid_template_columns": null,
            "grid_template_rows": null,
            "height": null,
            "justify_content": null,
            "justify_items": null,
            "left": null,
            "margin": null,
            "max_height": null,
            "max_width": null,
            "min_height": null,
            "min_width": null,
            "object_fit": null,
            "object_position": null,
            "order": null,
            "overflow": null,
            "overflow_x": null,
            "overflow_y": null,
            "padding": null,
            "right": null,
            "top": null,
            "visibility": null,
            "width": "20px"
          }
        },
        "b393a471309e404d94c7e55a3be6919f": {
          "model_module": "@jupyter-widgets/controls",
          "model_name": "ProgressStyleModel",
          "model_module_version": "1.5.0",
          "state": {
            "_model_module": "@jupyter-widgets/controls",
            "_model_module_version": "1.5.0",
            "_model_name": "ProgressStyleModel",
            "_view_count": null,
            "_view_module": "@jupyter-widgets/base",
            "_view_module_version": "1.2.0",
            "_view_name": "StyleView",
            "bar_color": null,
            "description_width": ""
          }
        },
        "64913c56441f4703bb3a379880aa8260": {
          "model_module": "@jupyter-widgets/base",
          "model_name": "LayoutModel",
          "model_module_version": "1.2.0",
          "state": {
            "_model_module": "@jupyter-widgets/base",
            "_model_module_version": "1.2.0",
            "_model_name": "LayoutModel",
            "_view_count": null,
            "_view_module": "@jupyter-widgets/base",
            "_view_module_version": "1.2.0",
            "_view_name": "LayoutView",
            "align_content": null,
            "align_items": null,
            "align_self": null,
            "border": null,
            "bottom": null,
            "display": null,
            "flex": null,
            "flex_flow": null,
            "grid_area": null,
            "grid_auto_columns": null,
            "grid_auto_flow": null,
            "grid_auto_rows": null,
            "grid_column": null,
            "grid_gap": null,
            "grid_row": null,
            "grid_template_areas": null,
            "grid_template_columns": null,
            "grid_template_rows": null,
            "height": null,
            "justify_content": null,
            "justify_items": null,
            "left": null,
            "margin": null,
            "max_height": null,
            "max_width": null,
            "min_height": null,
            "min_width": null,
            "object_fit": null,
            "object_position": null,
            "order": null,
            "overflow": null,
            "overflow_x": null,
            "overflow_y": null,
            "padding": null,
            "right": null,
            "top": null,
            "visibility": null,
            "width": null
          }
        },
        "52e5c48a6b0b4ce9b3debdc0a14de8d5": {
          "model_module": "@jupyter-widgets/controls",
          "model_name": "DescriptionStyleModel",
          "model_module_version": "1.5.0",
          "state": {
            "_model_module": "@jupyter-widgets/controls",
            "_model_module_version": "1.5.0",
            "_model_name": "DescriptionStyleModel",
            "_view_count": null,
            "_view_module": "@jupyter-widgets/base",
            "_view_module_version": "1.2.0",
            "_view_name": "StyleView",
            "description_width": ""
          }
        },
        "bd7fb4e79140498da357a0a67ca82ad1": {
          "model_module": "@jupyter-widgets/controls",
          "model_name": "HBoxModel",
          "model_module_version": "1.5.0",
          "state": {
            "_dom_classes": [],
            "_model_module": "@jupyter-widgets/controls",
            "_model_module_version": "1.5.0",
            "_model_name": "HBoxModel",
            "_view_count": null,
            "_view_module": "@jupyter-widgets/controls",
            "_view_module_version": "1.5.0",
            "_view_name": "HBoxView",
            "box_style": "",
            "children": [
              "IPY_MODEL_fa0d0b533f0340369f8b0e3476d79ed9",
              "IPY_MODEL_6684d1951b6549b28f8e2e4e2cbbcda8",
              "IPY_MODEL_0100603380b2434ca740cb0a896de253"
            ],
            "layout": "IPY_MODEL_0850acdc277445ff942e63ad0aa24d73"
          }
        },
        "fa0d0b533f0340369f8b0e3476d79ed9": {
          "model_module": "@jupyter-widgets/controls",
          "model_name": "HTMLModel",
          "model_module_version": "1.5.0",
          "state": {
            "_dom_classes": [],
            "_model_module": "@jupyter-widgets/controls",
            "_model_module_version": "1.5.0",
            "_model_name": "HTMLModel",
            "_view_count": null,
            "_view_module": "@jupyter-widgets/controls",
            "_view_module_version": "1.5.0",
            "_view_name": "HTMLView",
            "description": "",
            "description_tooltip": null,
            "layout": "IPY_MODEL_e1381e57642444298741495743476e57",
            "placeholder": "​",
            "style": "IPY_MODEL_8089561239d040428f227cda02d7998a",
            "value": "Map (num_proc=4): 100%"
          }
        },
        "6684d1951b6549b28f8e2e4e2cbbcda8": {
          "model_module": "@jupyter-widgets/controls",
          "model_name": "FloatProgressModel",
          "model_module_version": "1.5.0",
          "state": {
            "_dom_classes": [],
            "_model_module": "@jupyter-widgets/controls",
            "_model_module_version": "1.5.0",
            "_model_name": "FloatProgressModel",
            "_view_count": null,
            "_view_module": "@jupyter-widgets/controls",
            "_view_module_version": "1.5.0",
            "_view_name": "ProgressView",
            "bar_style": "success",
            "description": "",
            "description_tooltip": null,
            "layout": "IPY_MODEL_b00369478561486596778d7d2cb2f975",
            "max": 10000,
            "min": 0,
            "orientation": "horizontal",
            "style": "IPY_MODEL_995c42465a9f4cb2baa94e83e334474e",
            "value": 10000
          }
        },
        "0100603380b2434ca740cb0a896de253": {
          "model_module": "@jupyter-widgets/controls",
          "model_name": "HTMLModel",
          "model_module_version": "1.5.0",
          "state": {
            "_dom_classes": [],
            "_model_module": "@jupyter-widgets/controls",
            "_model_module_version": "1.5.0",
            "_model_name": "HTMLModel",
            "_view_count": null,
            "_view_module": "@jupyter-widgets/controls",
            "_view_module_version": "1.5.0",
            "_view_name": "HTMLView",
            "description": "",
            "description_tooltip": null,
            "layout": "IPY_MODEL_e9c1c430c3d74918b416ad54173a8eea",
            "placeholder": "​",
            "style": "IPY_MODEL_825b49a3d70d442c91b0145207ae5fe4",
            "value": " 10000/10000 [00:13&lt;00:00, 699.55 examples/s]"
          }
        },
        "0850acdc277445ff942e63ad0aa24d73": {
          "model_module": "@jupyter-widgets/base",
          "model_name": "LayoutModel",
          "model_module_version": "1.2.0",
          "state": {
            "_model_module": "@jupyter-widgets/base",
            "_model_module_version": "1.2.0",
            "_model_name": "LayoutModel",
            "_view_count": null,
            "_view_module": "@jupyter-widgets/base",
            "_view_module_version": "1.2.0",
            "_view_name": "LayoutView",
            "align_content": null,
            "align_items": null,
            "align_self": null,
            "border": null,
            "bottom": null,
            "display": null,
            "flex": null,
            "flex_flow": null,
            "grid_area": null,
            "grid_auto_columns": null,
            "grid_auto_flow": null,
            "grid_auto_rows": null,
            "grid_column": null,
            "grid_gap": null,
            "grid_row": null,
            "grid_template_areas": null,
            "grid_template_columns": null,
            "grid_template_rows": null,
            "height": null,
            "justify_content": null,
            "justify_items": null,
            "left": null,
            "margin": null,
            "max_height": null,
            "max_width": null,
            "min_height": null,
            "min_width": null,
            "object_fit": null,
            "object_position": null,
            "order": null,
            "overflow": null,
            "overflow_x": null,
            "overflow_y": null,
            "padding": null,
            "right": null,
            "top": null,
            "visibility": null,
            "width": null
          }
        },
        "e1381e57642444298741495743476e57": {
          "model_module": "@jupyter-widgets/base",
          "model_name": "LayoutModel",
          "model_module_version": "1.2.0",
          "state": {
            "_model_module": "@jupyter-widgets/base",
            "_model_module_version": "1.2.0",
            "_model_name": "LayoutModel",
            "_view_count": null,
            "_view_module": "@jupyter-widgets/base",
            "_view_module_version": "1.2.0",
            "_view_name": "LayoutView",
            "align_content": null,
            "align_items": null,
            "align_self": null,
            "border": null,
            "bottom": null,
            "display": null,
            "flex": null,
            "flex_flow": null,
            "grid_area": null,
            "grid_auto_columns": null,
            "grid_auto_flow": null,
            "grid_auto_rows": null,
            "grid_column": null,
            "grid_gap": null,
            "grid_row": null,
            "grid_template_areas": null,
            "grid_template_columns": null,
            "grid_template_rows": null,
            "height": null,
            "justify_content": null,
            "justify_items": null,
            "left": null,
            "margin": null,
            "max_height": null,
            "max_width": null,
            "min_height": null,
            "min_width": null,
            "object_fit": null,
            "object_position": null,
            "order": null,
            "overflow": null,
            "overflow_x": null,
            "overflow_y": null,
            "padding": null,
            "right": null,
            "top": null,
            "visibility": null,
            "width": null
          }
        },
        "8089561239d040428f227cda02d7998a": {
          "model_module": "@jupyter-widgets/controls",
          "model_name": "DescriptionStyleModel",
          "model_module_version": "1.5.0",
          "state": {
            "_model_module": "@jupyter-widgets/controls",
            "_model_module_version": "1.5.0",
            "_model_name": "DescriptionStyleModel",
            "_view_count": null,
            "_view_module": "@jupyter-widgets/base",
            "_view_module_version": "1.2.0",
            "_view_name": "StyleView",
            "description_width": ""
          }
        },
        "b00369478561486596778d7d2cb2f975": {
          "model_module": "@jupyter-widgets/base",
          "model_name": "LayoutModel",
          "model_module_version": "1.2.0",
          "state": {
            "_model_module": "@jupyter-widgets/base",
            "_model_module_version": "1.2.0",
            "_model_name": "LayoutModel",
            "_view_count": null,
            "_view_module": "@jupyter-widgets/base",
            "_view_module_version": "1.2.0",
            "_view_name": "LayoutView",
            "align_content": null,
            "align_items": null,
            "align_self": null,
            "border": null,
            "bottom": null,
            "display": null,
            "flex": null,
            "flex_flow": null,
            "grid_area": null,
            "grid_auto_columns": null,
            "grid_auto_flow": null,
            "grid_auto_rows": null,
            "grid_column": null,
            "grid_gap": null,
            "grid_row": null,
            "grid_template_areas": null,
            "grid_template_columns": null,
            "grid_template_rows": null,
            "height": null,
            "justify_content": null,
            "justify_items": null,
            "left": null,
            "margin": null,
            "max_height": null,
            "max_width": null,
            "min_height": null,
            "min_width": null,
            "object_fit": null,
            "object_position": null,
            "order": null,
            "overflow": null,
            "overflow_x": null,
            "overflow_y": null,
            "padding": null,
            "right": null,
            "top": null,
            "visibility": null,
            "width": null
          }
        },
        "995c42465a9f4cb2baa94e83e334474e": {
          "model_module": "@jupyter-widgets/controls",
          "model_name": "ProgressStyleModel",
          "model_module_version": "1.5.0",
          "state": {
            "_model_module": "@jupyter-widgets/controls",
            "_model_module_version": "1.5.0",
            "_model_name": "ProgressStyleModel",
            "_view_count": null,
            "_view_module": "@jupyter-widgets/base",
            "_view_module_version": "1.2.0",
            "_view_name": "StyleView",
            "bar_color": null,
            "description_width": ""
          }
        },
        "e9c1c430c3d74918b416ad54173a8eea": {
          "model_module": "@jupyter-widgets/base",
          "model_name": "LayoutModel",
          "model_module_version": "1.2.0",
          "state": {
            "_model_module": "@jupyter-widgets/base",
            "_model_module_version": "1.2.0",
            "_model_name": "LayoutModel",
            "_view_count": null,
            "_view_module": "@jupyter-widgets/base",
            "_view_module_version": "1.2.0",
            "_view_name": "LayoutView",
            "align_content": null,
            "align_items": null,
            "align_self": null,
            "border": null,
            "bottom": null,
            "display": null,
            "flex": null,
            "flex_flow": null,
            "grid_area": null,
            "grid_auto_columns": null,
            "grid_auto_flow": null,
            "grid_auto_rows": null,
            "grid_column": null,
            "grid_gap": null,
            "grid_row": null,
            "grid_template_areas": null,
            "grid_template_columns": null,
            "grid_template_rows": null,
            "height": null,
            "justify_content": null,
            "justify_items": null,
            "left": null,
            "margin": null,
            "max_height": null,
            "max_width": null,
            "min_height": null,
            "min_width": null,
            "object_fit": null,
            "object_position": null,
            "order": null,
            "overflow": null,
            "overflow_x": null,
            "overflow_y": null,
            "padding": null,
            "right": null,
            "top": null,
            "visibility": null,
            "width": null
          }
        },
        "825b49a3d70d442c91b0145207ae5fe4": {
          "model_module": "@jupyter-widgets/controls",
          "model_name": "DescriptionStyleModel",
          "model_module_version": "1.5.0",
          "state": {
            "_model_module": "@jupyter-widgets/controls",
            "_model_module_version": "1.5.0",
            "_model_name": "DescriptionStyleModel",
            "_view_count": null,
            "_view_module": "@jupyter-widgets/base",
            "_view_module_version": "1.2.0",
            "_view_name": "StyleView",
            "description_width": ""
          }
        },
        "41826783b5524474a87a92491ba1a39b": {
          "model_module": "@jupyter-widgets/controls",
          "model_name": "HBoxModel",
          "model_module_version": "1.5.0",
          "state": {
            "_dom_classes": [],
            "_model_module": "@jupyter-widgets/controls",
            "_model_module_version": "1.5.0",
            "_model_name": "HBoxModel",
            "_view_count": null,
            "_view_module": "@jupyter-widgets/controls",
            "_view_module_version": "1.5.0",
            "_view_name": "HBoxView",
            "box_style": "",
            "children": [
              "IPY_MODEL_5a1871b732c6458f92fcf5047f2c366f",
              "IPY_MODEL_451637226afc449082a5bf083f257135",
              "IPY_MODEL_feb3581160ad489487d62903b992743e"
            ],
            "layout": "IPY_MODEL_f42c19ff05e44de096846ad0b782a834"
          }
        },
        "5a1871b732c6458f92fcf5047f2c366f": {
          "model_module": "@jupyter-widgets/controls",
          "model_name": "HTMLModel",
          "model_module_version": "1.5.0",
          "state": {
            "_dom_classes": [],
            "_model_module": "@jupyter-widgets/controls",
            "_model_module_version": "1.5.0",
            "_model_name": "HTMLModel",
            "_view_count": null,
            "_view_module": "@jupyter-widgets/controls",
            "_view_module_version": "1.5.0",
            "_view_name": "HTMLView",
            "description": "",
            "description_tooltip": null,
            "layout": "IPY_MODEL_2ae50a84be6047deb64212126f6bbddc",
            "placeholder": "​",
            "style": "IPY_MODEL_5433c4c8e949476a96e404a3b9f8cf38",
            "value": "Map (num_proc=4): 100%"
          }
        },
        "451637226afc449082a5bf083f257135": {
          "model_module": "@jupyter-widgets/controls",
          "model_name": "FloatProgressModel",
          "model_module_version": "1.5.0",
          "state": {
            "_dom_classes": [],
            "_model_module": "@jupyter-widgets/controls",
            "_model_module_version": "1.5.0",
            "_model_name": "FloatProgressModel",
            "_view_count": null,
            "_view_module": "@jupyter-widgets/controls",
            "_view_module_version": "1.5.0",
            "_view_name": "ProgressView",
            "bar_style": "success",
            "description": "",
            "description_tooltip": null,
            "layout": "IPY_MODEL_cce4bd4da60f42ee9329d678d6e32607",
            "max": 10000,
            "min": 0,
            "orientation": "horizontal",
            "style": "IPY_MODEL_3d27a56a4d9f46afa2224c3ec56a5920",
            "value": 10000
          }
        },
        "feb3581160ad489487d62903b992743e": {
          "model_module": "@jupyter-widgets/controls",
          "model_name": "HTMLModel",
          "model_module_version": "1.5.0",
          "state": {
            "_dom_classes": [],
            "_model_module": "@jupyter-widgets/controls",
            "_model_module_version": "1.5.0",
            "_model_name": "HTMLModel",
            "_view_count": null,
            "_view_module": "@jupyter-widgets/controls",
            "_view_module_version": "1.5.0",
            "_view_name": "HTMLView",
            "description": "",
            "description_tooltip": null,
            "layout": "IPY_MODEL_880391fb66d449978dc47da8dc297b64",
            "placeholder": "​",
            "style": "IPY_MODEL_8e98a5da11c8467e9a607bb4596d4258",
            "value": " 10000/10000 [00:15&lt;00:00, 487.29 examples/s]"
          }
        },
        "f42c19ff05e44de096846ad0b782a834": {
          "model_module": "@jupyter-widgets/base",
          "model_name": "LayoutModel",
          "model_module_version": "1.2.0",
          "state": {
            "_model_module": "@jupyter-widgets/base",
            "_model_module_version": "1.2.0",
            "_model_name": "LayoutModel",
            "_view_count": null,
            "_view_module": "@jupyter-widgets/base",
            "_view_module_version": "1.2.0",
            "_view_name": "LayoutView",
            "align_content": null,
            "align_items": null,
            "align_self": null,
            "border": null,
            "bottom": null,
            "display": null,
            "flex": null,
            "flex_flow": null,
            "grid_area": null,
            "grid_auto_columns": null,
            "grid_auto_flow": null,
            "grid_auto_rows": null,
            "grid_column": null,
            "grid_gap": null,
            "grid_row": null,
            "grid_template_areas": null,
            "grid_template_columns": null,
            "grid_template_rows": null,
            "height": null,
            "justify_content": null,
            "justify_items": null,
            "left": null,
            "margin": null,
            "max_height": null,
            "max_width": null,
            "min_height": null,
            "min_width": null,
            "object_fit": null,
            "object_position": null,
            "order": null,
            "overflow": null,
            "overflow_x": null,
            "overflow_y": null,
            "padding": null,
            "right": null,
            "top": null,
            "visibility": null,
            "width": null
          }
        },
        "2ae50a84be6047deb64212126f6bbddc": {
          "model_module": "@jupyter-widgets/base",
          "model_name": "LayoutModel",
          "model_module_version": "1.2.0",
          "state": {
            "_model_module": "@jupyter-widgets/base",
            "_model_module_version": "1.2.0",
            "_model_name": "LayoutModel",
            "_view_count": null,
            "_view_module": "@jupyter-widgets/base",
            "_view_module_version": "1.2.0",
            "_view_name": "LayoutView",
            "align_content": null,
            "align_items": null,
            "align_self": null,
            "border": null,
            "bottom": null,
            "display": null,
            "flex": null,
            "flex_flow": null,
            "grid_area": null,
            "grid_auto_columns": null,
            "grid_auto_flow": null,
            "grid_auto_rows": null,
            "grid_column": null,
            "grid_gap": null,
            "grid_row": null,
            "grid_template_areas": null,
            "grid_template_columns": null,
            "grid_template_rows": null,
            "height": null,
            "justify_content": null,
            "justify_items": null,
            "left": null,
            "margin": null,
            "max_height": null,
            "max_width": null,
            "min_height": null,
            "min_width": null,
            "object_fit": null,
            "object_position": null,
            "order": null,
            "overflow": null,
            "overflow_x": null,
            "overflow_y": null,
            "padding": null,
            "right": null,
            "top": null,
            "visibility": null,
            "width": null
          }
        },
        "5433c4c8e949476a96e404a3b9f8cf38": {
          "model_module": "@jupyter-widgets/controls",
          "model_name": "DescriptionStyleModel",
          "model_module_version": "1.5.0",
          "state": {
            "_model_module": "@jupyter-widgets/controls",
            "_model_module_version": "1.5.0",
            "_model_name": "DescriptionStyleModel",
            "_view_count": null,
            "_view_module": "@jupyter-widgets/base",
            "_view_module_version": "1.2.0",
            "_view_name": "StyleView",
            "description_width": ""
          }
        },
        "cce4bd4da60f42ee9329d678d6e32607": {
          "model_module": "@jupyter-widgets/base",
          "model_name": "LayoutModel",
          "model_module_version": "1.2.0",
          "state": {
            "_model_module": "@jupyter-widgets/base",
            "_model_module_version": "1.2.0",
            "_model_name": "LayoutModel",
            "_view_count": null,
            "_view_module": "@jupyter-widgets/base",
            "_view_module_version": "1.2.0",
            "_view_name": "LayoutView",
            "align_content": null,
            "align_items": null,
            "align_self": null,
            "border": null,
            "bottom": null,
            "display": null,
            "flex": null,
            "flex_flow": null,
            "grid_area": null,
            "grid_auto_columns": null,
            "grid_auto_flow": null,
            "grid_auto_rows": null,
            "grid_column": null,
            "grid_gap": null,
            "grid_row": null,
            "grid_template_areas": null,
            "grid_template_columns": null,
            "grid_template_rows": null,
            "height": null,
            "justify_content": null,
            "justify_items": null,
            "left": null,
            "margin": null,
            "max_height": null,
            "max_width": null,
            "min_height": null,
            "min_width": null,
            "object_fit": null,
            "object_position": null,
            "order": null,
            "overflow": null,
            "overflow_x": null,
            "overflow_y": null,
            "padding": null,
            "right": null,
            "top": null,
            "visibility": null,
            "width": null
          }
        },
        "3d27a56a4d9f46afa2224c3ec56a5920": {
          "model_module": "@jupyter-widgets/controls",
          "model_name": "ProgressStyleModel",
          "model_module_version": "1.5.0",
          "state": {
            "_model_module": "@jupyter-widgets/controls",
            "_model_module_version": "1.5.0",
            "_model_name": "ProgressStyleModel",
            "_view_count": null,
            "_view_module": "@jupyter-widgets/base",
            "_view_module_version": "1.2.0",
            "_view_name": "StyleView",
            "bar_color": null,
            "description_width": ""
          }
        },
        "880391fb66d449978dc47da8dc297b64": {
          "model_module": "@jupyter-widgets/base",
          "model_name": "LayoutModel",
          "model_module_version": "1.2.0",
          "state": {
            "_model_module": "@jupyter-widgets/base",
            "_model_module_version": "1.2.0",
            "_model_name": "LayoutModel",
            "_view_count": null,
            "_view_module": "@jupyter-widgets/base",
            "_view_module_version": "1.2.0",
            "_view_name": "LayoutView",
            "align_content": null,
            "align_items": null,
            "align_self": null,
            "border": null,
            "bottom": null,
            "display": null,
            "flex": null,
            "flex_flow": null,
            "grid_area": null,
            "grid_auto_columns": null,
            "grid_auto_flow": null,
            "grid_auto_rows": null,
            "grid_column": null,
            "grid_gap": null,
            "grid_row": null,
            "grid_template_areas": null,
            "grid_template_columns": null,
            "grid_template_rows": null,
            "height": null,
            "justify_content": null,
            "justify_items": null,
            "left": null,
            "margin": null,
            "max_height": null,
            "max_width": null,
            "min_height": null,
            "min_width": null,
            "object_fit": null,
            "object_position": null,
            "order": null,
            "overflow": null,
            "overflow_x": null,
            "overflow_y": null,
            "padding": null,
            "right": null,
            "top": null,
            "visibility": null,
            "width": null
          }
        },
        "8e98a5da11c8467e9a607bb4596d4258": {
          "model_module": "@jupyter-widgets/controls",
          "model_name": "DescriptionStyleModel",
          "model_module_version": "1.5.0",
          "state": {
            "_model_module": "@jupyter-widgets/controls",
            "_model_module_version": "1.5.0",
            "_model_name": "DescriptionStyleModel",
            "_view_count": null,
            "_view_module": "@jupyter-widgets/base",
            "_view_module_version": "1.2.0",
            "_view_name": "StyleView",
            "description_width": ""
          }
        }
      }
    },
    "accelerator": "GPU"
  },
  "cells": [
    {
      "cell_type": "markdown",
      "metadata": {
        "id": "view-in-github",
        "colab_type": "text"
      },
      "source": [
        "<a href=\"https://colab.research.google.com/github/shahriarivari/Persian_sentiment_analysis/blob/main/Persian_sentiment_analysis.ipynb\" target=\"_parent\"><img src=\"https://colab.research.google.com/assets/colab-badge.svg\" alt=\"Open In Colab\"/></a>"
      ]
    },
    {
      "cell_type": "code",
      "source": [
        "!pip install tokenizers\n",
        "!pip install datasets\n",
        "!pip install -U accelerate\n",
        "!pip install -U transformers"
      ],
      "metadata": {
        "id": "JsDKPdpzWgQA"
      },
      "execution_count": null,
      "outputs": []
    },
    {
      "cell_type": "markdown",
      "source": [
        "# BERT pre-training"
      ],
      "metadata": {
        "id": "qSHIVjKkPJ2a"
      }
    },
    {
      "cell_type": "markdown",
      "source": [
        "## Initial imports"
      ],
      "metadata": {
        "id": "ZnGJ9g0VPEZa"
      }
    },
    {
      "cell_type": "code",
      "execution_count": 2,
      "metadata": {
        "id": "VkUzCVP4V9UR"
      },
      "outputs": [],
      "source": [
        "import os\n",
        "import json\n",
        "from tokenizers import BertWordPieceTokenizer\n",
        "from transformers import BertForMaskedLM, BertConfig\n",
        "from transformers import DataCollatorForLanguageModeling\n",
        "from transformers import Trainer, TrainingArguments\n",
        "from datasets import load_dataset\n",
        "from transformers import TrainerCallback\n",
        "import logging"
      ]
    },
    {
      "cell_type": "markdown",
      "source": [
        "## Importing dataset from huggingface hub"
      ],
      "metadata": {
        "id": "pdKCXDL4PWcO"
      }
    },
    {
      "cell_type": "code",
      "source": [
        "from datasets import load_dataset\n",
        "\n",
        "# You should just change this part in order to download your\n",
        "# parts of corpus.\n",
        "indices = {\n",
        "    \"train\": [5],\n",
        "    \"test\": [0]\n",
        "}\n",
        "\n",
        "N_FILES = {\n",
        "    \"train\": 126,\n",
        "    \"test\": 3\n",
        "}\n",
        "_BASE_URL = \"https://huggingface.co/datasets/SLPL/naab/resolve/main/data/\"\n",
        "data_url = {\n",
        "    \"train\": [_BASE_URL + \"train-{:05d}-of-{:05d}.txt\".format(x, N_FILES[\"train\"]) for x in range(N_FILES[\"train\"])],\n",
        "    \"test\": [_BASE_URL + \"test-{:05d}-of-{:05d}.txt\".format(x, N_FILES[\"test\"]) for x in range(N_FILES[\"test\"])],\n",
        "}\n",
        "for index in indices['train']:\n",
        "    assert index < N_FILES['train']\n",
        "for index in indices['test']:\n",
        "    assert index < N_FILES['test']\n",
        "data_files = {\n",
        "    \"train\": [data_url['train'][i] for i in indices['train']],\n",
        "    \"test\": [data_url['test'][i] for i in indices['test']]\n",
        "}\n",
        "print(data_files)\n",
        "dataset = load_dataset('text', data_files=data_files, use_auth_token=False)"
      ],
      "metadata": {
        "id": "RwPI6_q9PDxu",
        "outputId": "eb2ae4ca-3b68-476a-b3c6-74ca5d6f17d3",
        "colab": {
          "base_uri": "https://localhost:8080/",
          "height": 298,
          "referenced_widgets": [
            "eb52091c1a2d417c95030d4928994f7e",
            "9fffd90f42e64236b8e323798054c6b4",
            "687e2108bcbf44139503d037619dc314",
            "afc45ff071244d0f8dc9c279bd200db5",
            "f7d4566c2e194cae832f084c1941fa56",
            "c78f6accc2dc4821ad3d9b87d0917331",
            "b2f0f02adc5c4148acb1fd4991559306",
            "126cbc8a9a8542ec8766d9b032d0a922",
            "3f3ba05f4eb0457d87bfbbd19b442290",
            "b18abf41479e46b287e1b50d1b5a0e1f",
            "bb91aca2c3cd4eeb989ee04f30747e55",
            "4564cb904ad64d4ea699c052ca2edd1b",
            "82d53cfe7cff473480bf409f6e36279a",
            "f2d6c876643a4516af942ae775c92ee1",
            "f3a848e806a44926a7bb5c79e0cdbea4",
            "b0368acd432f49d9acf923cfda0bbb8b",
            "332a22cbd14247cf809bb6cc0e876e22",
            "70d0d41c624c43d7be5eec0efbaea88f",
            "f6a0b8a81a894ef993fd3a75e0d217b2",
            "49c45029bf054c8fb7a65c9303a8a12c",
            "0415c34dbed948daa8bd5a1b9c9c84bd",
            "bb236cf990fd42be86b1d79eef68cea3",
            "41ca482e02564784a0984893a0ab20dd",
            "477c936229574779ae589402be7610c0",
            "3a224348091e4c37a5175268624c60cd",
            "b16e5354906a40e0866b6e05264d5e26",
            "d316ffaf0bf44b55aabad64bb6c2f3dd",
            "8a87e1c207a9455b91552ab907b4e4ec",
            "8270a17c9c3e43cd9ea74a3b9e4b1bb4",
            "0c01f61cb8444277a3ecc02fb01d050b",
            "1b8956ad952f47ebb6f382508c8d7f6a",
            "c02bbf3400b84a9aa0b360acd51e8ef5",
            "03a67d9187354cd0ab9e99672f59e05c",
            "28410b12edd7409199ab433f6c85d803",
            "92c5a13b502348e8bc469024f2a8e3de",
            "e740ba4781fc491f9e114ce466fa2e0d",
            "9b7a1768aefa46f5adfe304d5c01824a",
            "379d9367a9174fb6a308439afaafcde1",
            "9122025e68114740b6fc0d81b95d5719",
            "dfa7aeb805324e72a99590c466b92e76",
            "f55de457568f42bba6ed1585fb3b6b05",
            "d902d92382124ae58f6a2cb63fff0258",
            "fd6d447e4d9f4c55befa5aee6652ba70",
            "b86cf29b97174024b2c42bebbb7fab8d",
            "4648542cc1a54e11acc488b58db69ccc",
            "3708126d88784ee6a7577082db7cb8f5",
            "a7830e578b804853a7c41a1f3c1a7e9b",
            "58d0a3e9f4aa4e07afc137fbb86c3ab3",
            "c7d8e990e7324c858317bb49740945ed",
            "df8783e6df1f419399d4a631d86bece9",
            "8228f209679040e0ae3baf41e346357d",
            "a7831223adb941d3bb1a6c192890b77b",
            "6447100296f64147a45f3db0c8c814bf",
            "65407236183f405fb4c87364e050c6bb",
            "d5e115c2ff094ed48276b5612afee8ec",
            "be0aa9e442904f46bf51804d771d9d94",
            "cd7f997fc89740548c83397956fceb85",
            "f11d2f935c394a03a5c293a082ad20fa",
            "c8e810e0f07746eebc52ccea91f1b0ce",
            "00759bb5a6ca435ea9c1136b251b5155",
            "760c4fe4917547a1a41c67e07308554c",
            "570681ac01a54ad286d6e54b7ea76817",
            "63bfd27c7c7c4e339d3dae6d6daa2954",
            "b393a471309e404d94c7e55a3be6919f",
            "64913c56441f4703bb3a379880aa8260",
            "52e5c48a6b0b4ce9b3debdc0a14de8d5"
          ]
        }
      },
      "execution_count": 3,
      "outputs": [
        {
          "output_type": "stream",
          "name": "stdout",
          "text": [
            "{'train': ['https://huggingface.co/datasets/SLPL/naab/resolve/main/data/train-00005-of-00126.txt'], 'test': ['https://huggingface.co/datasets/SLPL/naab/resolve/main/data/test-00000-of-00003.txt']}\n"
          ]
        },
        {
          "output_type": "stream",
          "name": "stderr",
          "text": [
            "/usr/local/lib/python3.10/dist-packages/datasets/load.py:2088: FutureWarning: 'use_auth_token' was deprecated in favor of 'token' in version 2.14.0 and will be removed in 3.0.0.\n",
            "You can remove this warning by passing 'token=<use_auth_token>' instead.\n",
            "  warnings.warn(\n"
          ]
        },
        {
          "output_type": "display_data",
          "data": {
            "text/plain": [
              "Downloading data files:   0%|          | 0/2 [00:00<?, ?it/s]"
            ],
            "application/vnd.jupyter.widget-view+json": {
              "version_major": 2,
              "version_minor": 0,
              "model_id": "eb52091c1a2d417c95030d4928994f7e"
            }
          },
          "metadata": {}
        },
        {
          "output_type": "display_data",
          "data": {
            "text/plain": [
              "Downloading data:   0%|          | 0.00/1.07G [00:00<?, ?B/s]"
            ],
            "application/vnd.jupyter.widget-view+json": {
              "version_major": 2,
              "version_minor": 0,
              "model_id": "4564cb904ad64d4ea699c052ca2edd1b"
            }
          },
          "metadata": {}
        },
        {
          "output_type": "display_data",
          "data": {
            "text/plain": [
              "Downloading data:   0%|          | 0.00/1.07G [00:00<?, ?B/s]"
            ],
            "application/vnd.jupyter.widget-view+json": {
              "version_major": 2,
              "version_minor": 0,
              "model_id": "41ca482e02564784a0984893a0ab20dd"
            }
          },
          "metadata": {}
        },
        {
          "output_type": "display_data",
          "data": {
            "text/plain": [
              "Extracting data files:   0%|          | 0/2 [00:00<?, ?it/s]"
            ],
            "application/vnd.jupyter.widget-view+json": {
              "version_major": 2,
              "version_minor": 0,
              "model_id": "28410b12edd7409199ab433f6c85d803"
            }
          },
          "metadata": {}
        },
        {
          "output_type": "display_data",
          "data": {
            "text/plain": [
              "Generating train split: 0 examples [00:00, ? examples/s]"
            ],
            "application/vnd.jupyter.widget-view+json": {
              "version_major": 2,
              "version_minor": 0,
              "model_id": "4648542cc1a54e11acc488b58db69ccc"
            }
          },
          "metadata": {}
        },
        {
          "output_type": "display_data",
          "data": {
            "text/plain": [
              "Generating test split: 0 examples [00:00, ? examples/s]"
            ],
            "application/vnd.jupyter.widget-view+json": {
              "version_major": 2,
              "version_minor": 0,
              "model_id": "be0aa9e442904f46bf51804d771d9d94"
            }
          },
          "metadata": {}
        }
      ]
    },
    {
      "cell_type": "markdown",
      "source": [
        "## Setting paths and file names"
      ],
      "metadata": {
        "id": "5Y5IQGhMArN0"
      }
    },
    {
      "cell_type": "code",
      "source": [
        "# Set your paths and file names\n",
        "# data_files = [\"path/to/your_dataset_file.txt\"]\n",
        "# os.mkdir(model_path)\n",
        "tokenizer_output_dir = \"bert_tokenizer\"\n",
        "os.mkdir(tokenizer_output_dir)\n",
        "pretrained_model_output_dir = \"bert_pretrained_model\"\n",
        "os.mkdir(pretrained_model_output_dir)"
      ],
      "metadata": {
        "id": "H5sTpXkGwg_H"
      },
      "execution_count": 4,
      "outputs": []
    },
    {
      "cell_type": "markdown",
      "source": [
        "## Making files for trainging the tokenizer"
      ],
      "metadata": {
        "id": "uDgCAc6PBPrK"
      }
    },
    {
      "cell_type": "code",
      "source": [
        "# Extract text data from the dataset\n",
        "texts = dataset['train']['text']  # Assuming you have a 'text' column in your dataset\n",
        "\n",
        "# Save the text data to a temporary file\n",
        "temp_file_path = 'temp_dataset_file.txt'\n",
        "with open(temp_file_path, 'w', encoding='utf-8') as file:\n",
        "    for text in texts:\n",
        "        file.write(text + '\\n')"
      ],
      "metadata": {
        "id": "FEMgWo-iBQKy"
      },
      "execution_count": null,
      "outputs": []
    },
    {
      "cell_type": "markdown",
      "source": [
        "## Training a WordPiece Tokenizer"
      ],
      "metadata": {
        "id": "mQVaaNaqcS3z"
      }
    },
    {
      "cell_type": "code",
      "source": [
        "# Training a WordPiece Tokenizer\n",
        "files = [temp_file_path]\n",
        "# Parameters for Tokenizer Training\n",
        "vocab_size = 30_522\n",
        "min_frequency = 2\n",
        "max_length = 512\n",
        "special_tokens = [\"[PAD]\", \"[MASK]\", \"[CLS]\", \"[SEP]\", \"[UNK]\"]\n",
        "\n",
        "# Initialize the WordPiece tokenizer for BERT\n",
        "tokenizer = BertWordPieceTokenizer()\n",
        "\n",
        "# Train the tokenizer\n",
        "tokenizer.train(\n",
        "    files=files,\n",
        "    vocab_size=vocab_size,\n",
        "    min_frequency=min_frequency,\n",
        "    show_progress=True,\n",
        "    special_tokens=special_tokens,\n",
        ")\n",
        "\n",
        "# enable truncation up to the maximum 512 tokens\n",
        "tokenizer.enable_truncation(max_length=max_length)\n",
        "\n",
        "# Save the trained tokenizer\n",
        "# model_path = \"pretrained_bert_tokenizer\"\n",
        "# # make the directory if not already there\n",
        "# if not os.path.isdir(model_path):\n",
        "#     os.mkdir(model_path)\n",
        "\n",
        "# Save the trained tokenizer\n",
        "tokenizer.save_model(tokenizer_output_dir)\n",
        "\n",
        "# Clean up: Remove the temporary file\n",
        "os.remove(temp_file_path)"
      ],
      "metadata": {
        "id": "NAR_HRMUeKQ0",
        "outputId": "cc5770b1-92ed-417a-ac15-5a9e060a60ef",
        "colab": {
          "base_uri": "https://localhost:8080/"
        }
      },
      "execution_count": null,
      "outputs": [
        {
          "output_type": "execute_result",
          "data": {
            "text/plain": [
              "['bert_tokenizer/vocab.txt']"
            ]
          },
          "metadata": {},
          "execution_count": 6
        }
      ]
    },
    {
      "cell_type": "code",
      "source": [
        "import json\n",
        "# dumping some of the tokenizer config to config file,\n",
        "# including special tokens, whether\n",
        "# to lower case and the maximum sequence length\n",
        "\n",
        "with open(os.path.join(model_path, \"config.json\"), \"w\") as f:\n",
        "    tokenizer_cfg = {\n",
        "        \"do_lower_case\": True,\n",
        "        \"unk_token\": \"[UNK]\",\n",
        "        \"sep_token\": \"[SEP]\",\n",
        "        \"pad_token\": \"[PAD]\",\n",
        "        \"cls_token\": \"[CLS]\",\n",
        "        \"mask_token\": \"[MASK]\",\n",
        "        \"model_max_length\": max_length,\n",
        "        \"max_len\": max_length,\n",
        "    }\n",
        "    json.dump(tokenizer_cfg, f)"
      ],
      "metadata": {
        "id": "hkHAVlqApGzf"
      },
      "execution_count": null,
      "outputs": []
    },
    {
      "cell_type": "markdown",
      "source": [
        "## tokenizing the dataset"
      ],
      "metadata": {
        "id": "OMN7ZPxZUW1h"
      }
    },
    {
      "cell_type": "code",
      "source": [
        "vocab_size = 30_522\n",
        "min_frequency = 2\n",
        "max_length = 512\n",
        "special_tokens = [\"[PAD]\", \"[MASK]\", \"[CLS]\", \"[SEP]\", \"[UNK]\"]"
      ],
      "metadata": {
        "id": "UfYhegJ4gmCs"
      },
      "execution_count": 5,
      "outputs": []
    },
    {
      "cell_type": "code",
      "source": [
        "# Load tokenizer after training\n",
        "# tokenizer = BertWordPieceTokenizer(tokenizer_output_dir + \"/\" + \"vocab.txt\")"
      ],
      "metadata": {
        "id": "EyPce0C2pm2_"
      },
      "execution_count": null,
      "outputs": []
    },
    {
      "cell_type": "code",
      "source": [
        "from transformers import BertTokenizerFast\n",
        "# Load the tokenizer\n",
        "tokenizer = BertTokenizerFast.from_pretrained(tokenizer_output_dir)"
      ],
      "metadata": {
        "id": "NTca4f6UG5FM"
      },
      "execution_count": 6,
      "outputs": []
    },
    {
      "cell_type": "code",
      "source": [
        "# max_sequence_length = max_length\n",
        "\n",
        "# # Define a custom tokenize function\n",
        "# def tokenize_function(example):\n",
        "\n",
        "#   # Ensure that the \"text\" field is a string\n",
        "#   if not isinstance(example[\"text\"], str):\n",
        "#     raise TypeError(\"Input 'text' must be a string.\")\n",
        "\n",
        "#   # Tokenize the text\n",
        "#   encoded = tokenizer.encode(example[\"text\"])\n",
        "\n",
        "#   # Truncate or pad to fit the maximum sequence length\n",
        "#   if len(encoded.ids) > max_sequence_length:\n",
        "#     encoded.truncate(max_sequence_length)\n",
        "#   else:\n",
        "#     encoded.pad(max_sequence_length - len(encoded.ids))\n",
        "\n",
        "#   return {\n",
        "#     'input_ids': encoded.ids,\n",
        "#     'attention_mask': encoded.attention_mask,\n",
        "# }\n",
        "\n",
        "# # Use the map function to tokenize the \"train\" split\n",
        "# tokenized_train_dataset = dataset['train'].select(list(range(10000))).map(tokenize_function,num_proc=4)\n",
        "\n",
        "# Use the map function to tokenize the \"test\" split\n",
        "# tokenized_test_dataset = dataset['test'].map(tokenize_function)\n"
      ],
      "metadata": {
        "id": "uwZA1UkYUaso"
      },
      "execution_count": null,
      "outputs": []
    },
    {
      "cell_type": "code",
      "source": [
        "max_sequence_length = max_length\n",
        "\n",
        "# Define a custom tokenize function\n",
        "def tokenize_function(example):\n",
        "    # Ensure that the \"text\" field is a string\n",
        "    if not isinstance(example[\"text\"], str):\n",
        "        raise TypeError(\"Input 'text' must be a string.\")\n",
        "\n",
        "    # Tokenize the text using BertTokenizerFast\n",
        "    encoded = tokenizer(example[\"text\"], truncation=True, padding='max_length',\n",
        "                        return_special_tokens_mask=True,\n",
        "                        max_length=max_sequence_length, return_tensors='pt')\n",
        "\n",
        "    return {\n",
        "        'input_ids': encoded['input_ids'].squeeze(),\n",
        "        'attention_mask': encoded['attention_mask'].squeeze(),\n",
        "    }\n",
        "\n",
        "# Use the map function to tokenize the \"train\" split\n",
        "tokenized_train_dataset = dataset['train'].select(list(range(10000))).map(tokenize_function, num_proc=4)\n",
        "tokenized_test_dataset = dataset['test'].select(list(range(10000))).map(tokenize_function, num_proc=4)"
      ],
      "metadata": {
        "id": "MNPb5yoRHkd8",
        "outputId": "7ccbcb6f-3563-4b05-f3eb-273fd86e853a",
        "colab": {
          "base_uri": "https://localhost:8080/",
          "height": 81,
          "referenced_widgets": [
            "bd7fb4e79140498da357a0a67ca82ad1",
            "fa0d0b533f0340369f8b0e3476d79ed9",
            "6684d1951b6549b28f8e2e4e2cbbcda8",
            "0100603380b2434ca740cb0a896de253",
            "0850acdc277445ff942e63ad0aa24d73",
            "e1381e57642444298741495743476e57",
            "8089561239d040428f227cda02d7998a",
            "b00369478561486596778d7d2cb2f975",
            "995c42465a9f4cb2baa94e83e334474e",
            "e9c1c430c3d74918b416ad54173a8eea",
            "825b49a3d70d442c91b0145207ae5fe4",
            "41826783b5524474a87a92491ba1a39b",
            "5a1871b732c6458f92fcf5047f2c366f",
            "451637226afc449082a5bf083f257135",
            "feb3581160ad489487d62903b992743e",
            "f42c19ff05e44de096846ad0b782a834",
            "2ae50a84be6047deb64212126f6bbddc",
            "5433c4c8e949476a96e404a3b9f8cf38",
            "cce4bd4da60f42ee9329d678d6e32607",
            "3d27a56a4d9f46afa2224c3ec56a5920",
            "880391fb66d449978dc47da8dc297b64",
            "8e98a5da11c8467e9a607bb4596d4258"
          ]
        }
      },
      "execution_count": 7,
      "outputs": [
        {
          "output_type": "display_data",
          "data": {
            "text/plain": [
              "Map (num_proc=4):   0%|          | 0/10000 [00:00<?, ? examples/s]"
            ],
            "application/vnd.jupyter.widget-view+json": {
              "version_major": 2,
              "version_minor": 0,
              "model_id": "bd7fb4e79140498da357a0a67ca82ad1"
            }
          },
          "metadata": {}
        },
        {
          "output_type": "display_data",
          "data": {
            "text/plain": [
              "Map (num_proc=4):   0%|          | 0/10000 [00:00<?, ? examples/s]"
            ],
            "application/vnd.jupyter.widget-view+json": {
              "version_major": 2,
              "version_minor": 0,
              "model_id": "41826783b5524474a87a92491ba1a39b"
            }
          },
          "metadata": {}
        }
      ]
    },
    {
      "cell_type": "code",
      "source": [
        "tokenized_train_dataset.set_format(type=\"torch\", columns=[\"input_ids\", \"attention_mask\"])\n",
        "tokenized_test_dataset.set_format(type=\"torch\", columns=[\"input_ids\", \"attention_mask\"])"
      ],
      "metadata": {
        "id": "g3-xImdf6qa4"
      },
      "execution_count": 8,
      "outputs": []
    },
    {
      "cell_type": "markdown",
      "source": [
        "## Model Configuration"
      ],
      "metadata": {
        "id": "2YE7XMK3oyV5"
      }
    },
    {
      "cell_type": "code",
      "source": [
        "# Model Configuration\n",
        "model_config = BertConfig(\n",
        "    vocab_size=vocab_size,\n",
        "    hidden_size=768,  # Adjust as needed\n",
        "    num_attention_heads=12,  # Adjust as needed\n",
        "    num_hidden_layers=12,  # Adjust as needed\n",
        "    max_position_embeddings=max_length,\n",
        ")\n",
        "# Model Initialization\n",
        "model = BertForMaskedLM(config=model_config)"
      ],
      "metadata": {
        "id": "nzfssSTjox4G"
      },
      "execution_count": 9,
      "outputs": []
    },
    {
      "cell_type": "markdown",
      "source": [
        "## Data Collator\n",
        "Load your dataset using Hugging Face datasets library"
      ],
      "metadata": {
        "id": "DpFTJ6GlqVO4"
      }
    },
    {
      "cell_type": "code",
      "source": [
        "from transformers import DataCollatorForLanguageModeling\n",
        "\n",
        "data_collator = DataCollatorForLanguageModeling(\n",
        "    tokenizer=tokenizer, mlm=True, mlm_probability=0.2\n",
        "    )\n",
        "# class CustomDataCollator(DataCollatorForLanguageModeling):\n",
        "#     def collate_batch(self, batch):\n",
        "#         input_ids = torch.stack([torch.tensor(example['input_ids']) for example in batch])\n",
        "#         attention_mask = torch.stack([torch.tensor(example['attention_mask']) for example in batch])\n",
        "#         labels = input_ids.clone()  # Use input_ids as labels for MLM\n",
        "\n",
        "#         # Mask out some tokens for MLM training\n",
        "#         probability_matrix = torch.full(labels.shape, 0.15)\n",
        "#         special_tokens_mask = [\n",
        "#             self.tokenizer.get_special_tokens_mask(val, already_has_special_tokens=True) for val in input_ids.tolist()\n",
        "#         ]\n",
        "#         probability_matrix.masked_fill_(torch.tensor(special_tokens_mask, dtype=torch.bool), value=0.0)\n",
        "\n",
        "#         masked_indices = torch.bernoulli(probability_matrix).bool()\n",
        "#         labels[masked_indices] = self.tokenizer.mask_token_id\n",
        "\n",
        "#         return {\n",
        "#             'input_ids': input_ids,\n",
        "#             'attention_mask': attention_mask,\n",
        "#             'labels': labels\n",
        "#         }\n"
      ],
      "metadata": {
        "id": "4-riYML0qUE-"
      },
      "execution_count": 10,
      "outputs": []
    },
    {
      "cell_type": "markdown",
      "source": [
        "## Callback"
      ],
      "metadata": {
        "id": "I4gFThaQ_bSh"
      }
    },
    {
      "cell_type": "code",
      "source": [
        "from transformers import TrainerCallback\n",
        "import logging\n",
        "\n",
        "# Define a custom callback for monitoring\n",
        "class CustomCallback(TrainerCallback):\n",
        "    def __init__(self):\n",
        "        super().__init__()\n",
        "\n",
        "    def on_step_end(self, args, state, control, model, *extra_args, **kwargs):\n",
        "        if state.global_step % args.logging_steps == 0:\n",
        "            logging.info(f\"Step {state.global_step}: Loss = {state.log_metrics['loss']}\")\n"
      ],
      "metadata": {
        "id": "daSns1N9_aLc"
      },
      "execution_count": 15,
      "outputs": []
    },
    {
      "cell_type": "markdown",
      "source": [
        "## Training Arguments"
      ],
      "metadata": {
        "id": "6Hg-h567qan-"
      }
    },
    {
      "cell_type": "code",
      "source": [
        "training_args = TrainingArguments(\n",
        "    output_dir=model_path,          # output directory to where save model checkpoint\n",
        "    evaluation_strategy=\"steps\",    # evaluate each `logging_steps` steps\n",
        "    overwrite_output_dir=True,\n",
        "    num_train_epochs=10,            # number of training epochs, feel free to tweak\n",
        "    per_device_train_batch_size=10, # the training batch size, put it as high as your GPU memory fits\n",
        "    gradient_accumulation_steps=8,  # accumulating the gradients before updating the weights\n",
        "    per_device_eval_batch_size=64,  # evaluation batch size\n",
        "    logging_steps=1000,             # evaluate, log and save model checkpoints every 1000 step\n",
        "    save_steps=1000,\n",
        "    load_best_model_at_end=True,    # whether to load the best model (in terms of loss) at the end of training\n",
        "    # save_total_limit=3,           # whether you don't have much space so you let only 3 model weights saved in the disk\n",
        ")"
      ],
      "metadata": {
        "id": "U7tEQp4XIV6c"
      },
      "execution_count": null,
      "outputs": []
    },
    {
      "cell_type": "code",
      "source": [
        "# Training Arguments\n",
        "training_args = TrainingArguments(\n",
        "    output_dir=pretrained_model_output_dir,\n",
        "    overwrite_output_dir=True,\n",
        "    num_train_epochs=3,\n",
        "    per_device_train_batch_size=10,\n",
        "    gradient_accumulation_steps=8,\n",
        "    per_device_eval_batch_size=64,\n",
        "    logging_steps=1000,\n",
        "    save_steps=1000,\n",
        "    save_total_limit=3,\n",
        "    evaluation_strategy=\"steps\",\n",
        "    eval_steps=500,\n",
        ")"
      ],
      "metadata": {
        "id": "TE9jzlriqaJn"
      },
      "execution_count": 12,
      "outputs": []
    },
    {
      "cell_type": "markdown",
      "source": [
        "## Trainer Initialization"
      ],
      "metadata": {
        "id": "8rks357Xqlwr"
      }
    },
    {
      "cell_type": "code",
      "source": [
        "# Trainer Initialization\n",
        "trainer = Trainer(\n",
        "    model = model,\n",
        "    args = training_args,\n",
        "    train_dataset = tokenized_train_dataset,\n",
        "    eval_dataset = tokenized_test_dataset,\n",
        "    data_collator = data_collator,\n",
        "    #data_collator=CustomDataCollator(tokenizer=tokenizer, mlm=True, mlm_probability=0.15),\n",
        "    #callbacks = [CustomCallback()],\n",
        ")"
      ],
      "metadata": {
        "id": "cQ5tOP5Wqkd5"
      },
      "execution_count": 17,
      "outputs": []
    },
    {
      "cell_type": "code",
      "source": [
        "# Train the model\n",
        "trainer.train()\n",
        "\n",
        "# Save the final pre-trained model\n",
        "trainer.save_model(os.path.join(pretrained_model_output_dir, \"final_model\"))"
      ],
      "metadata": {
        "id": "uDDwOIvYqwdD",
        "outputId": "cb204e76-cd08-43e2-827a-2fb72023222d",
        "colab": {
          "base_uri": "https://localhost:8080/",
          "height": 76
        }
      },
      "execution_count": 18,
      "outputs": [
        {
          "output_type": "display_data",
          "data": {
            "text/plain": [
              "<IPython.core.display.HTML object>"
            ],
            "text/html": [
              "\n",
              "    <div>\n",
              "      \n",
              "      <progress value='375' max='375' style='width:300px; height:20px; vertical-align: middle;'></progress>\n",
              "      [375/375 50:48, Epoch 3/3]\n",
              "    </div>\n",
              "    <table border=\"1\" class=\"dataframe\">\n",
              "  <thead>\n",
              " <tr style=\"text-align: left;\">\n",
              "      <th>Step</th>\n",
              "      <th>Training Loss</th>\n",
              "      <th>Validation Loss</th>\n",
              "    </tr>\n",
              "  </thead>\n",
              "  <tbody>\n",
              "  </tbody>\n",
              "</table><p>"
            ]
          },
          "metadata": {}
        }
      ]
    },
    {
      "cell_type": "code",
      "source": [
        "import shutil\n",
        "\n",
        "# Zip the directory\n",
        "shutil.make_archive(\"pretrained_model_output\", 'zip', pretrained_model_output_dir)\n",
        "\n",
        "# Move the zip file to /content\n",
        "shutil.move(\"pretrained_model_output.zip\", \"pretrained_model_output.zip\")\n"
      ],
      "metadata": {
        "id": "CdAKUTAkhpF_",
        "outputId": "c4e702a6-4668-43ec-da9d-9e202cb0962b",
        "colab": {
          "base_uri": "https://localhost:8080/",
          "height": 35
        }
      },
      "execution_count": 19,
      "outputs": [
        {
          "output_type": "execute_result",
          "data": {
            "text/plain": [
              "'pretrained_model_output.zip'"
            ],
            "application/vnd.google.colaboratory.intrinsic+json": {
              "type": "string"
            }
          },
          "metadata": {},
          "execution_count": 19
        }
      ]
    },
    {
      "cell_type": "code",
      "source": [
        "import torch\n",
        "\n",
        "# Clear GPU memory\n",
        "torch.cuda.empty_cache()\n"
      ],
      "metadata": {
        "id": "wgUQa6ljh8zL"
      },
      "execution_count": 20,
      "outputs": []
    },
    {
      "cell_type": "code",
      "source": [
        "from transformers import BertForPreTraining\n",
        "\n",
        "# Load the saved BERT model\n",
        "model = BertForPreTraining.from_pretrained(os.path.join(pretrained_model_output_dir, \"final_model\"))\n"
      ],
      "metadata": {
        "id": "6UT4kZxrh-xC"
      },
      "execution_count": null,
      "outputs": []
    },
    {
      "cell_type": "code",
      "source": [
        "import os\n",
        "\n",
        "# Specify the path to the directory\n",
        "directory_path = \"/content/bert_pretrained_model\"\n",
        "\n",
        "# Get the size of the directory\n",
        "directory_size = sum([os.path.getsize(os.path.join(directory_path, file)) for file in os.listdir(directory_path)])\n",
        "\n",
        "# Convert to MB\n",
        "directory_size_mb = directory_size / (1024 * 1024)\n",
        "\n",
        "print(f\"Size of the directory: {directory_size_mb:.2f} MB\")\n"
      ],
      "metadata": {
        "id": "0s9znjwBjBDV",
        "outputId": "9dff066d-e052-4be8-be7c-7286622523f4",
        "colab": {
          "base_uri": "https://localhost:8080/"
        }
      },
      "execution_count": 24,
      "outputs": [
        {
          "output_type": "stream",
          "name": "stdout",
          "text": [
            "Size of the directory: 0.01 MB\n"
          ]
        }
      ]
    },
    {
      "cell_type": "markdown",
      "source": [
        "# XLnet pre-training"
      ],
      "metadata": {
        "id": "-MfYj7DL_quy"
      }
    },
    {
      "cell_type": "markdown",
      "source": [
        "## Initial imports"
      ],
      "metadata": {
        "id": "iAYqlgpO_2jc"
      }
    },
    {
      "cell_type": "code",
      "source": [
        "import os\n",
        "from tokenizers import XLNetWordPieceTokenizer\n",
        "from transformers import XLNetLMHeadModel, XLNetConfig\n",
        "from transformers import DataCollatorForLanguageModeling\n",
        "from transformers import Trainer, TrainingArguments\n",
        "from datasets import load_dataset\n",
        "from transformers import TrainerCallback\n",
        "from torch.utils.data import DataLoader\n",
        "import torch\n",
        "import logging"
      ],
      "metadata": {
        "id": "Q_a2uhZI_uxg"
      },
      "execution_count": null,
      "outputs": []
    },
    {
      "cell_type": "markdown",
      "source": [
        "## Importing dataset from huggingface hub"
      ],
      "metadata": {
        "id": "CtClgkDg_7-M"
      }
    },
    {
      "cell_type": "code",
      "source": [
        "from datasets import load_dataset\n",
        "\n",
        "# You should just change this part in order to download your\n",
        "# parts of corpus.\n",
        "indices = {\n",
        "    \"train\": [5, 1, 2],\n",
        "    \"test\": [0, 2]\n",
        "}\n",
        "\n",
        "N_FILES = {\n",
        "    \"train\": 126,\n",
        "    \"test\": 3\n",
        "}\n",
        "_BASE_URL = \"https://huggingface.co/datasets/SLPL/naab/resolve/main/data/\"\n",
        "data_url = {\n",
        "    \"train\": [_BASE_URL + \"train-{:05d}-of-{:05d}.txt\".format(x, N_FILES[\"train\"]) for x in range(N_FILES[\"train\"])],\n",
        "    \"test\": [_BASE_URL + \"test-{:05d}-of-{:05d}.txt\".format(x, N_FILES[\"test\"]) for x in range(N_FILES[\"test\"])],\n",
        "}\n",
        "for index in indices['train']:\n",
        "    assert index < N_FILES['train']\n",
        "for index in indices['test']:\n",
        "    assert index < N_FILES['test']\n",
        "data_files = {\n",
        "    \"train\": [data_url['train'][i] for i in indices['train']],\n",
        "    \"test\": [data_url['test'][i] for i in indices['test']]\n",
        "}\n",
        "print(data_files)\n",
        "dataset = load_dataset('text', data_files=data_files, use_auth_token=False)"
      ],
      "metadata": {
        "id": "0z6R2vpCAnHT"
      },
      "execution_count": null,
      "outputs": []
    },
    {
      "cell_type": "markdown",
      "source": [
        "## Setting paths and file names"
      ],
      "metadata": {
        "id": "5mphNVhBAzeJ"
      }
    },
    {
      "cell_type": "code",
      "source": [
        "# Set your paths and file names\n",
        "data_files = [\"path/to/your_dataset_file.txt\"]\n",
        "tokenizer_output_dir = \"path/to/xlnet_tokenizer\"\n",
        "pretrained_model_output_dir = \"path/to/xlnet_pretrained_model\""
      ],
      "metadata": {
        "id": "aByhMAzwA05r"
      },
      "execution_count": null,
      "outputs": []
    },
    {
      "cell_type": "markdown",
      "source": [
        "## Making files for trainging the tokenizer"
      ],
      "metadata": {
        "id": "9dIpZFyaBBlG"
      }
    },
    {
      "cell_type": "code",
      "source": [
        "# Extract text data from the dataset\n",
        "texts = dataset['train']['text']  # Assuming you have a 'text' column in your dataset\n",
        "\n",
        "# Save the text data to a temporary file\n",
        "temp_file_path = 'temp_dataset_file.txt'\n",
        "with open(temp_file_path, 'w', encoding='utf-8') as file:\n",
        "    for text in texts:\n",
        "        file.write(text + '\\n')\n",
        "\n",
        "# Training a WordPiece Tokenizer\n",
        "files = [temp_file_path]"
      ],
      "metadata": {
        "id": "tfyDSonfBGlX"
      },
      "execution_count": null,
      "outputs": []
    },
    {
      "cell_type": "markdown",
      "source": [
        "## Training a wordPiece Tokenizer"
      ],
      "metadata": {
        "id": "Gv5uHPNKABi3"
      }
    },
    {
      "cell_type": "code",
      "source": [
        "# Training a WordPiece Tokenizer\n",
        "files = [temp_file_path]\n",
        "\n",
        "# Parameters for Tokenizer Training\n",
        "vocab_size = 30000\n",
        "min_frequency = 2\n",
        "max_length = 128\n",
        "special_tokens = [\"<pad>\", \"<mask>\", \"<cls>\", \"<sep>\", \"<unk>\"]\n",
        "\n",
        "# Initialize the WordPiece tokenizer for XLNet\n",
        "tokenizer = XLNetWordPieceTokenizer()\n",
        "\n",
        "# Train the tokenizer\n",
        "tokenizer.train(\n",
        "    files=files,\n",
        "    vocab_size=vocab_size,\n",
        "    min_frequency=min_frequency,\n",
        "    show_progress=True,\n",
        "    special_tokens=special_tokens,\n",
        ")\n",
        "\n",
        "# Save the trained tokenizer\n",
        "tokenizer.save_model(tokenizer_output_dir)\n",
        "\n",
        "# Save the trained tokenizer\n",
        "model_path = \"pretrained_xlnet_tokenizer\"\n",
        "# make the directory if not already there\n",
        "if not os.path.isdir(model_path):\n",
        "    os.mkdir(model_path)\n",
        "\n",
        "# Save the trained tokenizer\n",
        "tokenizer.save_model(tokenizer_output_dir)\n",
        "\n",
        "# Clean up: Remove the temporary file\n",
        "os.remove(temp_file_path)"
      ],
      "metadata": {
        "id": "o-12N2KlA36C"
      },
      "execution_count": null,
      "outputs": []
    },
    {
      "cell_type": "markdown",
      "source": [
        "## Tokenizing the dataset"
      ],
      "metadata": {
        "id": "EbYE8wSRAIGQ"
      }
    },
    {
      "cell_type": "code",
      "source": [
        "# Load tokenizer after training\n",
        "tokenizer = XLNetWordPieceTokenizer(f\"{tokenizer_output_dir}/vocab.json\", f\"{tokenizer_output_dir}/merges.txt\")"
      ],
      "metadata": {
        "id": "Iy-IzsT9BtZF"
      },
      "execution_count": null,
      "outputs": []
    },
    {
      "cell_type": "code",
      "source": [
        "# Tokenizing the data using dataset.map()\n",
        "def tokenize_function(examples):\n",
        "    return tokenizer(examples['text'], padding=True, truncation=True)\n",
        "\n",
        "tokenized_dataset = dataset.map(tokenize_function, batched=True)"
      ],
      "metadata": {
        "id": "jcs811UpB_eL"
      },
      "execution_count": null,
      "outputs": []
    },
    {
      "cell_type": "markdown",
      "source": [
        "## Model Configuration"
      ],
      "metadata": {
        "id": "U6BDKGfdAMLS"
      }
    },
    {
      "cell_type": "code",
      "source": [
        "# Model Configuration\n",
        "model_config = XLNetConfig(\n",
        "    vocab_size=vocab_size,\n",
        "    d_model=768,  # Adjust as needed\n",
        "    n_head=12,  # Adjust as needed\n",
        "    num_layers=12,  # Adjust as needed\n",
        "    max_position_embeddings=max_length,\n",
        ")\n",
        "\n",
        "# Model Initialization\n",
        "model = XLNetLMHeadModel(config=model_config)"
      ],
      "metadata": {
        "id": "HgmQmLs5CChM"
      },
      "execution_count": null,
      "outputs": []
    },
    {
      "cell_type": "markdown",
      "source": [
        "## Data Collator"
      ],
      "metadata": {
        "id": "4M1Bl4YiAQFu"
      }
    },
    {
      "cell_type": "code",
      "source": [
        "# Data Collator for Language Modeling\n",
        "class CustomDataCollator(DataCollatorForLanguageModeling):\n",
        "  def collate_batch(self, batch):\n",
        "    input_ids = torch.stack([torch.tensor(example['input_ids']) for example in batch])\n",
        "    attention_mask = torch.stack([torch.tensor(example['attention_mask']) for example in batch])\n",
        "    labels = torch.stack([torch.tensor(example['input_ids']) for example in batch])\n",
        "    return {\n",
        "      'input_ids': input_ids,\n",
        "      'attention_mask': attention_mask,\n",
        "      'labels': labels\n",
        "    }\n"
      ],
      "metadata": {
        "id": "Tg4pvw-lCdFC"
      },
      "execution_count": null,
      "outputs": []
    },
    {
      "cell_type": "markdown",
      "source": [
        "## Callback"
      ],
      "metadata": {
        "id": "PNPxzZRJAUY-"
      }
    },
    {
      "cell_type": "code",
      "source": [
        "# Define a custom callback for monitoring\n",
        "class CustomCallback(TrainerCallback):\n",
        "  def __init__(self):\n",
        "    super().__init__()\n",
        "\n",
        "  def on_step_end(self, args, state, control, model, optimizer, scheduler, **kwargs):\n",
        "    if state.global_step % args.logging_steps == 0:\n",
        "      logging.info(f\"Step {state.global_step}: Loss = {state.log_metrics['loss']}\")"
      ],
      "metadata": {
        "id": "lpZQG-yPCmCU"
      },
      "execution_count": null,
      "outputs": []
    },
    {
      "cell_type": "markdown",
      "source": [
        "## Training Arguments"
      ],
      "metadata": {
        "id": "vqZCGHgXAWtI"
      }
    },
    {
      "cell_type": "code",
      "source": [
        "# Training Arguments\n",
        "training_args = TrainingArguments(\n",
        "    output_dir=pretrained_model_output_dir,\n",
        "    overwrite_output_dir=True,\n",
        "    num_train_epochs=3,\n",
        "    per_device_train_batch_size=4,\n",
        "    save_steps=1000,\n",
        "    save_total_limit=3,\n",
        "    evaluation_strategy=\"steps\",\n",
        "    eval_steps=500,\n",
        ")"
      ],
      "metadata": {
        "id": "DYw40Uk3CUvg"
      },
      "execution_count": null,
      "outputs": []
    },
    {
      "cell_type": "code",
      "source": [
        "# Tokenized data for training\n",
        "train_inputs = {\n",
        "    \"input_ids\": tokenized_dataset[\"input_ids\"],\n",
        "    \"attention_mask\": tokenized_dataset[\"attention_mask\"],\n",
        "}"
      ],
      "metadata": {
        "id": "Lg4wmbCJCZYb"
      },
      "execution_count": null,
      "outputs": []
    },
    {
      "cell_type": "markdown",
      "source": [
        "## Trainer Initialazation"
      ],
      "metadata": {
        "id": "Ooqd9VFkAZqL"
      }
    },
    {
      "cell_type": "code",
      "source": [
        "# Trainer Initialization\n",
        "trainer = Trainer(\n",
        "    model=model,\n",
        "    args=training_args,\n",
        "    train_dataset=train_inputs,\n",
        "    data_collator=CustomDataCollator(tokenizer=tokenizer, mlm=True, mlm_probability=0.15),\n",
        "    callbacks=[CustomCallback()],\n",
        ")"
      ],
      "metadata": {
        "id": "FgLOxOQbDVL7"
      },
      "execution_count": null,
      "outputs": []
    },
    {
      "cell_type": "code",
      "source": [
        "# Train the model\n",
        "trainer.train()\n",
        "\n",
        "# Save the final pre-trained model\n",
        "trainer.save_model(os.path.join(pretrained_model_output_dir, \"final_model\"))"
      ],
      "metadata": {
        "id": "s9mUv56IAf1A"
      },
      "execution_count": null,
      "outputs": []
    }
  ]
}