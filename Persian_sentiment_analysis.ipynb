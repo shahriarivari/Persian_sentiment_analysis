{
  "nbformat": 4,
  "nbformat_minor": 0,
  "metadata": {
    "colab": {
      "provenance": [],
      "gpuType": "T4",
      "authorship_tag": "ABX9TyOVdwsqEDep63PYcmVZNTCO",
      "include_colab_link": true
    },
    "kernelspec": {
      "name": "python3",
      "display_name": "Python 3"
    },
    "language_info": {
      "name": "python"
    },
    "widgets": {
      "application/vnd.jupyter.widget-state+json": {
        "6aaf1b3f98e54e7dbd5d5eb7ee2d7de3": {
          "model_module": "@jupyter-widgets/controls",
          "model_name": "HBoxModel",
          "model_module_version": "1.5.0",
          "state": {
            "_dom_classes": [],
            "_model_module": "@jupyter-widgets/controls",
            "_model_module_version": "1.5.0",
            "_model_name": "HBoxModel",
            "_view_count": null,
            "_view_module": "@jupyter-widgets/controls",
            "_view_module_version": "1.5.0",
            "_view_name": "HBoxView",
            "box_style": "",
            "children": [
              "IPY_MODEL_0dd6b27f4bdc4011af282199db14a587",
              "IPY_MODEL_d7d0e8d7bcb24a75977ccd72ec31d71f",
              "IPY_MODEL_18964375852d4957a4d68e0439ccd145"
            ],
            "layout": "IPY_MODEL_ff2e41f2fa7f43cca2db59fedba8a7e1"
          }
        },
        "0dd6b27f4bdc4011af282199db14a587": {
          "model_module": "@jupyter-widgets/controls",
          "model_name": "HTMLModel",
          "model_module_version": "1.5.0",
          "state": {
            "_dom_classes": [],
            "_model_module": "@jupyter-widgets/controls",
            "_model_module_version": "1.5.0",
            "_model_name": "HTMLModel",
            "_view_count": null,
            "_view_module": "@jupyter-widgets/controls",
            "_view_module_version": "1.5.0",
            "_view_name": "HTMLView",
            "description": "",
            "description_tooltip": null,
            "layout": "IPY_MODEL_91c0638089a943629cfcb94d4c90c5fa",
            "placeholder": "​",
            "style": "IPY_MODEL_925dfdf9f4594dcd9706ea326083da82",
            "value": "Downloading data: 100%"
          }
        },
        "d7d0e8d7bcb24a75977ccd72ec31d71f": {
          "model_module": "@jupyter-widgets/controls",
          "model_name": "FloatProgressModel",
          "model_module_version": "1.5.0",
          "state": {
            "_dom_classes": [],
            "_model_module": "@jupyter-widgets/controls",
            "_model_module_version": "1.5.0",
            "_model_name": "FloatProgressModel",
            "_view_count": null,
            "_view_module": "@jupyter-widgets/controls",
            "_view_module_version": "1.5.0",
            "_view_name": "ProgressView",
            "bar_style": "success",
            "description": "",
            "description_tooltip": null,
            "layout": "IPY_MODEL_ddfe7bf865634e329734cfe5b10bb395",
            "max": 1073741784,
            "min": 0,
            "orientation": "horizontal",
            "style": "IPY_MODEL_699f4021654641029f02b5f965b06f07",
            "value": 1073741784
          }
        },
        "18964375852d4957a4d68e0439ccd145": {
          "model_module": "@jupyter-widgets/controls",
          "model_name": "HTMLModel",
          "model_module_version": "1.5.0",
          "state": {
            "_dom_classes": [],
            "_model_module": "@jupyter-widgets/controls",
            "_model_module_version": "1.5.0",
            "_model_name": "HTMLModel",
            "_view_count": null,
            "_view_module": "@jupyter-widgets/controls",
            "_view_module_version": "1.5.0",
            "_view_name": "HTMLView",
            "description": "",
            "description_tooltip": null,
            "layout": "IPY_MODEL_7bd3a24876274e9188a405aca1683505",
            "placeholder": "​",
            "style": "IPY_MODEL_5c183961b71d49a99d60c2bc7af12cbd",
            "value": " 1.07G/1.07G [03:25&lt;00:00, 4.55MB/s]"
          }
        },
        "ff2e41f2fa7f43cca2db59fedba8a7e1": {
          "model_module": "@jupyter-widgets/base",
          "model_name": "LayoutModel",
          "model_module_version": "1.2.0",
          "state": {
            "_model_module": "@jupyter-widgets/base",
            "_model_module_version": "1.2.0",
            "_model_name": "LayoutModel",
            "_view_count": null,
            "_view_module": "@jupyter-widgets/base",
            "_view_module_version": "1.2.0",
            "_view_name": "LayoutView",
            "align_content": null,
            "align_items": null,
            "align_self": null,
            "border": null,
            "bottom": null,
            "display": null,
            "flex": null,
            "flex_flow": null,
            "grid_area": null,
            "grid_auto_columns": null,
            "grid_auto_flow": null,
            "grid_auto_rows": null,
            "grid_column": null,
            "grid_gap": null,
            "grid_row": null,
            "grid_template_areas": null,
            "grid_template_columns": null,
            "grid_template_rows": null,
            "height": null,
            "justify_content": null,
            "justify_items": null,
            "left": null,
            "margin": null,
            "max_height": null,
            "max_width": null,
            "min_height": null,
            "min_width": null,
            "object_fit": null,
            "object_position": null,
            "order": null,
            "overflow": null,
            "overflow_x": null,
            "overflow_y": null,
            "padding": null,
            "right": null,
            "top": null,
            "visibility": null,
            "width": null
          }
        },
        "91c0638089a943629cfcb94d4c90c5fa": {
          "model_module": "@jupyter-widgets/base",
          "model_name": "LayoutModel",
          "model_module_version": "1.2.0",
          "state": {
            "_model_module": "@jupyter-widgets/base",
            "_model_module_version": "1.2.0",
            "_model_name": "LayoutModel",
            "_view_count": null,
            "_view_module": "@jupyter-widgets/base",
            "_view_module_version": "1.2.0",
            "_view_name": "LayoutView",
            "align_content": null,
            "align_items": null,
            "align_self": null,
            "border": null,
            "bottom": null,
            "display": null,
            "flex": null,
            "flex_flow": null,
            "grid_area": null,
            "grid_auto_columns": null,
            "grid_auto_flow": null,
            "grid_auto_rows": null,
            "grid_column": null,
            "grid_gap": null,
            "grid_row": null,
            "grid_template_areas": null,
            "grid_template_columns": null,
            "grid_template_rows": null,
            "height": null,
            "justify_content": null,
            "justify_items": null,
            "left": null,
            "margin": null,
            "max_height": null,
            "max_width": null,
            "min_height": null,
            "min_width": null,
            "object_fit": null,
            "object_position": null,
            "order": null,
            "overflow": null,
            "overflow_x": null,
            "overflow_y": null,
            "padding": null,
            "right": null,
            "top": null,
            "visibility": null,
            "width": null
          }
        },
        "925dfdf9f4594dcd9706ea326083da82": {
          "model_module": "@jupyter-widgets/controls",
          "model_name": "DescriptionStyleModel",
          "model_module_version": "1.5.0",
          "state": {
            "_model_module": "@jupyter-widgets/controls",
            "_model_module_version": "1.5.0",
            "_model_name": "DescriptionStyleModel",
            "_view_count": null,
            "_view_module": "@jupyter-widgets/base",
            "_view_module_version": "1.2.0",
            "_view_name": "StyleView",
            "description_width": ""
          }
        },
        "ddfe7bf865634e329734cfe5b10bb395": {
          "model_module": "@jupyter-widgets/base",
          "model_name": "LayoutModel",
          "model_module_version": "1.2.0",
          "state": {
            "_model_module": "@jupyter-widgets/base",
            "_model_module_version": "1.2.0",
            "_model_name": "LayoutModel",
            "_view_count": null,
            "_view_module": "@jupyter-widgets/base",
            "_view_module_version": "1.2.0",
            "_view_name": "LayoutView",
            "align_content": null,
            "align_items": null,
            "align_self": null,
            "border": null,
            "bottom": null,
            "display": null,
            "flex": null,
            "flex_flow": null,
            "grid_area": null,
            "grid_auto_columns": null,
            "grid_auto_flow": null,
            "grid_auto_rows": null,
            "grid_column": null,
            "grid_gap": null,
            "grid_row": null,
            "grid_template_areas": null,
            "grid_template_columns": null,
            "grid_template_rows": null,
            "height": null,
            "justify_content": null,
            "justify_items": null,
            "left": null,
            "margin": null,
            "max_height": null,
            "max_width": null,
            "min_height": null,
            "min_width": null,
            "object_fit": null,
            "object_position": null,
            "order": null,
            "overflow": null,
            "overflow_x": null,
            "overflow_y": null,
            "padding": null,
            "right": null,
            "top": null,
            "visibility": null,
            "width": null
          }
        },
        "699f4021654641029f02b5f965b06f07": {
          "model_module": "@jupyter-widgets/controls",
          "model_name": "ProgressStyleModel",
          "model_module_version": "1.5.0",
          "state": {
            "_model_module": "@jupyter-widgets/controls",
            "_model_module_version": "1.5.0",
            "_model_name": "ProgressStyleModel",
            "_view_count": null,
            "_view_module": "@jupyter-widgets/base",
            "_view_module_version": "1.2.0",
            "_view_name": "StyleView",
            "bar_color": null,
            "description_width": ""
          }
        },
        "7bd3a24876274e9188a405aca1683505": {
          "model_module": "@jupyter-widgets/base",
          "model_name": "LayoutModel",
          "model_module_version": "1.2.0",
          "state": {
            "_model_module": "@jupyter-widgets/base",
            "_model_module_version": "1.2.0",
            "_model_name": "LayoutModel",
            "_view_count": null,
            "_view_module": "@jupyter-widgets/base",
            "_view_module_version": "1.2.0",
            "_view_name": "LayoutView",
            "align_content": null,
            "align_items": null,
            "align_self": null,
            "border": null,
            "bottom": null,
            "display": null,
            "flex": null,
            "flex_flow": null,
            "grid_area": null,
            "grid_auto_columns": null,
            "grid_auto_flow": null,
            "grid_auto_rows": null,
            "grid_column": null,
            "grid_gap": null,
            "grid_row": null,
            "grid_template_areas": null,
            "grid_template_columns": null,
            "grid_template_rows": null,
            "height": null,
            "justify_content": null,
            "justify_items": null,
            "left": null,
            "margin": null,
            "max_height": null,
            "max_width": null,
            "min_height": null,
            "min_width": null,
            "object_fit": null,
            "object_position": null,
            "order": null,
            "overflow": null,
            "overflow_x": null,
            "overflow_y": null,
            "padding": null,
            "right": null,
            "top": null,
            "visibility": null,
            "width": null
          }
        },
        "5c183961b71d49a99d60c2bc7af12cbd": {
          "model_module": "@jupyter-widgets/controls",
          "model_name": "DescriptionStyleModel",
          "model_module_version": "1.5.0",
          "state": {
            "_model_module": "@jupyter-widgets/controls",
            "_model_module_version": "1.5.0",
            "_model_name": "DescriptionStyleModel",
            "_view_count": null,
            "_view_module": "@jupyter-widgets/base",
            "_view_module_version": "1.2.0",
            "_view_name": "StyleView",
            "description_width": ""
          }
        },
        "16b87c40f78448d09e95e0c19014d96d": {
          "model_module": "@jupyter-widgets/controls",
          "model_name": "HBoxModel",
          "model_module_version": "1.5.0",
          "state": {
            "_dom_classes": [],
            "_model_module": "@jupyter-widgets/controls",
            "_model_module_version": "1.5.0",
            "_model_name": "HBoxModel",
            "_view_count": null,
            "_view_module": "@jupyter-widgets/controls",
            "_view_module_version": "1.5.0",
            "_view_name": "HBoxView",
            "box_style": "",
            "children": [
              "IPY_MODEL_9560942e4e31443daef60c56766e0ca7",
              "IPY_MODEL_719e27bf6a8c41c3bbe564963de15baa",
              "IPY_MODEL_3b45a4a2545245c183c6cd44801e7a17"
            ],
            "layout": "IPY_MODEL_74554c93408d4d6b8c512167b77b71ee"
          }
        },
        "9560942e4e31443daef60c56766e0ca7": {
          "model_module": "@jupyter-widgets/controls",
          "model_name": "HTMLModel",
          "model_module_version": "1.5.0",
          "state": {
            "_dom_classes": [],
            "_model_module": "@jupyter-widgets/controls",
            "_model_module_version": "1.5.0",
            "_model_name": "HTMLModel",
            "_view_count": null,
            "_view_module": "@jupyter-widgets/controls",
            "_view_module_version": "1.5.0",
            "_view_name": "HTMLView",
            "description": "",
            "description_tooltip": null,
            "layout": "IPY_MODEL_3a1fe7f824b04359a9801baf678e811a",
            "placeholder": "​",
            "style": "IPY_MODEL_4d541c1e484a4930b36260fa91f7315f",
            "value": "Downloading data: 100%"
          }
        },
        "719e27bf6a8c41c3bbe564963de15baa": {
          "model_module": "@jupyter-widgets/controls",
          "model_name": "FloatProgressModel",
          "model_module_version": "1.5.0",
          "state": {
            "_dom_classes": [],
            "_model_module": "@jupyter-widgets/controls",
            "_model_module_version": "1.5.0",
            "_model_name": "FloatProgressModel",
            "_view_count": null,
            "_view_module": "@jupyter-widgets/controls",
            "_view_module_version": "1.5.0",
            "_view_name": "ProgressView",
            "bar_style": "success",
            "description": "",
            "description_tooltip": null,
            "layout": "IPY_MODEL_464290ce613646de87bc95021149a3d0",
            "max": 1073741294,
            "min": 0,
            "orientation": "horizontal",
            "style": "IPY_MODEL_3439b3e079c94b248ed4302724cc5ec1",
            "value": 1073741294
          }
        },
        "3b45a4a2545245c183c6cd44801e7a17": {
          "model_module": "@jupyter-widgets/controls",
          "model_name": "HTMLModel",
          "model_module_version": "1.5.0",
          "state": {
            "_dom_classes": [],
            "_model_module": "@jupyter-widgets/controls",
            "_model_module_version": "1.5.0",
            "_model_name": "HTMLModel",
            "_view_count": null,
            "_view_module": "@jupyter-widgets/controls",
            "_view_module_version": "1.5.0",
            "_view_name": "HTMLView",
            "description": "",
            "description_tooltip": null,
            "layout": "IPY_MODEL_4972a42997034eaeab1b6d60e0fe0247",
            "placeholder": "​",
            "style": "IPY_MODEL_ba063c4f7b2d42cd9d5914ef4b19a0de",
            "value": " 1.07G/1.07G [03:25&lt;00:00, 6.30MB/s]"
          }
        },
        "74554c93408d4d6b8c512167b77b71ee": {
          "model_module": "@jupyter-widgets/base",
          "model_name": "LayoutModel",
          "model_module_version": "1.2.0",
          "state": {
            "_model_module": "@jupyter-widgets/base",
            "_model_module_version": "1.2.0",
            "_model_name": "LayoutModel",
            "_view_count": null,
            "_view_module": "@jupyter-widgets/base",
            "_view_module_version": "1.2.0",
            "_view_name": "LayoutView",
            "align_content": null,
            "align_items": null,
            "align_self": null,
            "border": null,
            "bottom": null,
            "display": null,
            "flex": null,
            "flex_flow": null,
            "grid_area": null,
            "grid_auto_columns": null,
            "grid_auto_flow": null,
            "grid_auto_rows": null,
            "grid_column": null,
            "grid_gap": null,
            "grid_row": null,
            "grid_template_areas": null,
            "grid_template_columns": null,
            "grid_template_rows": null,
            "height": null,
            "justify_content": null,
            "justify_items": null,
            "left": null,
            "margin": null,
            "max_height": null,
            "max_width": null,
            "min_height": null,
            "min_width": null,
            "object_fit": null,
            "object_position": null,
            "order": null,
            "overflow": null,
            "overflow_x": null,
            "overflow_y": null,
            "padding": null,
            "right": null,
            "top": null,
            "visibility": null,
            "width": null
          }
        },
        "3a1fe7f824b04359a9801baf678e811a": {
          "model_module": "@jupyter-widgets/base",
          "model_name": "LayoutModel",
          "model_module_version": "1.2.0",
          "state": {
            "_model_module": "@jupyter-widgets/base",
            "_model_module_version": "1.2.0",
            "_model_name": "LayoutModel",
            "_view_count": null,
            "_view_module": "@jupyter-widgets/base",
            "_view_module_version": "1.2.0",
            "_view_name": "LayoutView",
            "align_content": null,
            "align_items": null,
            "align_self": null,
            "border": null,
            "bottom": null,
            "display": null,
            "flex": null,
            "flex_flow": null,
            "grid_area": null,
            "grid_auto_columns": null,
            "grid_auto_flow": null,
            "grid_auto_rows": null,
            "grid_column": null,
            "grid_gap": null,
            "grid_row": null,
            "grid_template_areas": null,
            "grid_template_columns": null,
            "grid_template_rows": null,
            "height": null,
            "justify_content": null,
            "justify_items": null,
            "left": null,
            "margin": null,
            "max_height": null,
            "max_width": null,
            "min_height": null,
            "min_width": null,
            "object_fit": null,
            "object_position": null,
            "order": null,
            "overflow": null,
            "overflow_x": null,
            "overflow_y": null,
            "padding": null,
            "right": null,
            "top": null,
            "visibility": null,
            "width": null
          }
        },
        "4d541c1e484a4930b36260fa91f7315f": {
          "model_module": "@jupyter-widgets/controls",
          "model_name": "DescriptionStyleModel",
          "model_module_version": "1.5.0",
          "state": {
            "_model_module": "@jupyter-widgets/controls",
            "_model_module_version": "1.5.0",
            "_model_name": "DescriptionStyleModel",
            "_view_count": null,
            "_view_module": "@jupyter-widgets/base",
            "_view_module_version": "1.2.0",
            "_view_name": "StyleView",
            "description_width": ""
          }
        },
        "464290ce613646de87bc95021149a3d0": {
          "model_module": "@jupyter-widgets/base",
          "model_name": "LayoutModel",
          "model_module_version": "1.2.0",
          "state": {
            "_model_module": "@jupyter-widgets/base",
            "_model_module_version": "1.2.0",
            "_model_name": "LayoutModel",
            "_view_count": null,
            "_view_module": "@jupyter-widgets/base",
            "_view_module_version": "1.2.0",
            "_view_name": "LayoutView",
            "align_content": null,
            "align_items": null,
            "align_self": null,
            "border": null,
            "bottom": null,
            "display": null,
            "flex": null,
            "flex_flow": null,
            "grid_area": null,
            "grid_auto_columns": null,
            "grid_auto_flow": null,
            "grid_auto_rows": null,
            "grid_column": null,
            "grid_gap": null,
            "grid_row": null,
            "grid_template_areas": null,
            "grid_template_columns": null,
            "grid_template_rows": null,
            "height": null,
            "justify_content": null,
            "justify_items": null,
            "left": null,
            "margin": null,
            "max_height": null,
            "max_width": null,
            "min_height": null,
            "min_width": null,
            "object_fit": null,
            "object_position": null,
            "order": null,
            "overflow": null,
            "overflow_x": null,
            "overflow_y": null,
            "padding": null,
            "right": null,
            "top": null,
            "visibility": null,
            "width": null
          }
        },
        "3439b3e079c94b248ed4302724cc5ec1": {
          "model_module": "@jupyter-widgets/controls",
          "model_name": "ProgressStyleModel",
          "model_module_version": "1.5.0",
          "state": {
            "_model_module": "@jupyter-widgets/controls",
            "_model_module_version": "1.5.0",
            "_model_name": "ProgressStyleModel",
            "_view_count": null,
            "_view_module": "@jupyter-widgets/base",
            "_view_module_version": "1.2.0",
            "_view_name": "StyleView",
            "bar_color": null,
            "description_width": ""
          }
        },
        "4972a42997034eaeab1b6d60e0fe0247": {
          "model_module": "@jupyter-widgets/base",
          "model_name": "LayoutModel",
          "model_module_version": "1.2.0",
          "state": {
            "_model_module": "@jupyter-widgets/base",
            "_model_module_version": "1.2.0",
            "_model_name": "LayoutModel",
            "_view_count": null,
            "_view_module": "@jupyter-widgets/base",
            "_view_module_version": "1.2.0",
            "_view_name": "LayoutView",
            "align_content": null,
            "align_items": null,
            "align_self": null,
            "border": null,
            "bottom": null,
            "display": null,
            "flex": null,
            "flex_flow": null,
            "grid_area": null,
            "grid_auto_columns": null,
            "grid_auto_flow": null,
            "grid_auto_rows": null,
            "grid_column": null,
            "grid_gap": null,
            "grid_row": null,
            "grid_template_areas": null,
            "grid_template_columns": null,
            "grid_template_rows": null,
            "height": null,
            "justify_content": null,
            "justify_items": null,
            "left": null,
            "margin": null,
            "max_height": null,
            "max_width": null,
            "min_height": null,
            "min_width": null,
            "object_fit": null,
            "object_position": null,
            "order": null,
            "overflow": null,
            "overflow_x": null,
            "overflow_y": null,
            "padding": null,
            "right": null,
            "top": null,
            "visibility": null,
            "width": null
          }
        },
        "ba063c4f7b2d42cd9d5914ef4b19a0de": {
          "model_module": "@jupyter-widgets/controls",
          "model_name": "DescriptionStyleModel",
          "model_module_version": "1.5.0",
          "state": {
            "_model_module": "@jupyter-widgets/controls",
            "_model_module_version": "1.5.0",
            "_model_name": "DescriptionStyleModel",
            "_view_count": null,
            "_view_module": "@jupyter-widgets/base",
            "_view_module_version": "1.2.0",
            "_view_name": "StyleView",
            "description_width": ""
          }
        },
        "f68dd9e3d63f481ab5f4bbba5028823e": {
          "model_module": "@jupyter-widgets/controls",
          "model_name": "HBoxModel",
          "model_module_version": "1.5.0",
          "state": {
            "_dom_classes": [],
            "_model_module": "@jupyter-widgets/controls",
            "_model_module_version": "1.5.0",
            "_model_name": "HBoxModel",
            "_view_count": null,
            "_view_module": "@jupyter-widgets/controls",
            "_view_module_version": "1.5.0",
            "_view_name": "HBoxView",
            "box_style": "",
            "children": [
              "IPY_MODEL_c5c22c88c49546aa8f76c98f4bd31934",
              "IPY_MODEL_de70c38c83174109b8f7405dd6a34163",
              "IPY_MODEL_09771760625146e79ac87b8865dc0b9e"
            ],
            "layout": "IPY_MODEL_95a50aea2e4449ce97c14d3cbdf74636"
          }
        },
        "c5c22c88c49546aa8f76c98f4bd31934": {
          "model_module": "@jupyter-widgets/controls",
          "model_name": "HTMLModel",
          "model_module_version": "1.5.0",
          "state": {
            "_dom_classes": [],
            "_model_module": "@jupyter-widgets/controls",
            "_model_module_version": "1.5.0",
            "_model_name": "HTMLModel",
            "_view_count": null,
            "_view_module": "@jupyter-widgets/controls",
            "_view_module_version": "1.5.0",
            "_view_name": "HTMLView",
            "description": "",
            "description_tooltip": null,
            "layout": "IPY_MODEL_e20d3da2260c4bc5bb1d6c9a5b386492",
            "placeholder": "​",
            "style": "IPY_MODEL_f81e4104498241d6a40a978ca145a1f8",
            "value": "Generating train split: "
          }
        },
        "de70c38c83174109b8f7405dd6a34163": {
          "model_module": "@jupyter-widgets/controls",
          "model_name": "FloatProgressModel",
          "model_module_version": "1.5.0",
          "state": {
            "_dom_classes": [],
            "_model_module": "@jupyter-widgets/controls",
            "_model_module_version": "1.5.0",
            "_model_name": "FloatProgressModel",
            "_view_count": null,
            "_view_module": "@jupyter-widgets/controls",
            "_view_module_version": "1.5.0",
            "_view_name": "ProgressView",
            "bar_style": "success",
            "description": "",
            "description_tooltip": null,
            "layout": "IPY_MODEL_5092f75ac8544517abed4f3a97ba2ded",
            "max": 1,
            "min": 0,
            "orientation": "horizontal",
            "style": "IPY_MODEL_b2b2484219814f4394c13e99be33748e",
            "value": 1
          }
        },
        "09771760625146e79ac87b8865dc0b9e": {
          "model_module": "@jupyter-widgets/controls",
          "model_name": "HTMLModel",
          "model_module_version": "1.5.0",
          "state": {
            "_dom_classes": [],
            "_model_module": "@jupyter-widgets/controls",
            "_model_module_version": "1.5.0",
            "_model_name": "HTMLModel",
            "_view_count": null,
            "_view_module": "@jupyter-widgets/controls",
            "_view_module_version": "1.5.0",
            "_view_name": "HTMLView",
            "description": "",
            "description_tooltip": null,
            "layout": "IPY_MODEL_f2dd2811c76940ff9a4cbc6bbb378623",
            "placeholder": "​",
            "style": "IPY_MODEL_1b037a0caa8843398df011651f8334be",
            "value": " 18062599/0 [00:24&lt;00:00, 932789.01 examples/s]"
          }
        },
        "95a50aea2e4449ce97c14d3cbdf74636": {
          "model_module": "@jupyter-widgets/base",
          "model_name": "LayoutModel",
          "model_module_version": "1.2.0",
          "state": {
            "_model_module": "@jupyter-widgets/base",
            "_model_module_version": "1.2.0",
            "_model_name": "LayoutModel",
            "_view_count": null,
            "_view_module": "@jupyter-widgets/base",
            "_view_module_version": "1.2.0",
            "_view_name": "LayoutView",
            "align_content": null,
            "align_items": null,
            "align_self": null,
            "border": null,
            "bottom": null,
            "display": null,
            "flex": null,
            "flex_flow": null,
            "grid_area": null,
            "grid_auto_columns": null,
            "grid_auto_flow": null,
            "grid_auto_rows": null,
            "grid_column": null,
            "grid_gap": null,
            "grid_row": null,
            "grid_template_areas": null,
            "grid_template_columns": null,
            "grid_template_rows": null,
            "height": null,
            "justify_content": null,
            "justify_items": null,
            "left": null,
            "margin": null,
            "max_height": null,
            "max_width": null,
            "min_height": null,
            "min_width": null,
            "object_fit": null,
            "object_position": null,
            "order": null,
            "overflow": null,
            "overflow_x": null,
            "overflow_y": null,
            "padding": null,
            "right": null,
            "top": null,
            "visibility": null,
            "width": null
          }
        },
        "e20d3da2260c4bc5bb1d6c9a5b386492": {
          "model_module": "@jupyter-widgets/base",
          "model_name": "LayoutModel",
          "model_module_version": "1.2.0",
          "state": {
            "_model_module": "@jupyter-widgets/base",
            "_model_module_version": "1.2.0",
            "_model_name": "LayoutModel",
            "_view_count": null,
            "_view_module": "@jupyter-widgets/base",
            "_view_module_version": "1.2.0",
            "_view_name": "LayoutView",
            "align_content": null,
            "align_items": null,
            "align_self": null,
            "border": null,
            "bottom": null,
            "display": null,
            "flex": null,
            "flex_flow": null,
            "grid_area": null,
            "grid_auto_columns": null,
            "grid_auto_flow": null,
            "grid_auto_rows": null,
            "grid_column": null,
            "grid_gap": null,
            "grid_row": null,
            "grid_template_areas": null,
            "grid_template_columns": null,
            "grid_template_rows": null,
            "height": null,
            "justify_content": null,
            "justify_items": null,
            "left": null,
            "margin": null,
            "max_height": null,
            "max_width": null,
            "min_height": null,
            "min_width": null,
            "object_fit": null,
            "object_position": null,
            "order": null,
            "overflow": null,
            "overflow_x": null,
            "overflow_y": null,
            "padding": null,
            "right": null,
            "top": null,
            "visibility": null,
            "width": null
          }
        },
        "f81e4104498241d6a40a978ca145a1f8": {
          "model_module": "@jupyter-widgets/controls",
          "model_name": "DescriptionStyleModel",
          "model_module_version": "1.5.0",
          "state": {
            "_model_module": "@jupyter-widgets/controls",
            "_model_module_version": "1.5.0",
            "_model_name": "DescriptionStyleModel",
            "_view_count": null,
            "_view_module": "@jupyter-widgets/base",
            "_view_module_version": "1.2.0",
            "_view_name": "StyleView",
            "description_width": ""
          }
        },
        "5092f75ac8544517abed4f3a97ba2ded": {
          "model_module": "@jupyter-widgets/base",
          "model_name": "LayoutModel",
          "model_module_version": "1.2.0",
          "state": {
            "_model_module": "@jupyter-widgets/base",
            "_model_module_version": "1.2.0",
            "_model_name": "LayoutModel",
            "_view_count": null,
            "_view_module": "@jupyter-widgets/base",
            "_view_module_version": "1.2.0",
            "_view_name": "LayoutView",
            "align_content": null,
            "align_items": null,
            "align_self": null,
            "border": null,
            "bottom": null,
            "display": null,
            "flex": null,
            "flex_flow": null,
            "grid_area": null,
            "grid_auto_columns": null,
            "grid_auto_flow": null,
            "grid_auto_rows": null,
            "grid_column": null,
            "grid_gap": null,
            "grid_row": null,
            "grid_template_areas": null,
            "grid_template_columns": null,
            "grid_template_rows": null,
            "height": null,
            "justify_content": null,
            "justify_items": null,
            "left": null,
            "margin": null,
            "max_height": null,
            "max_width": null,
            "min_height": null,
            "min_width": null,
            "object_fit": null,
            "object_position": null,
            "order": null,
            "overflow": null,
            "overflow_x": null,
            "overflow_y": null,
            "padding": null,
            "right": null,
            "top": null,
            "visibility": null,
            "width": "20px"
          }
        },
        "b2b2484219814f4394c13e99be33748e": {
          "model_module": "@jupyter-widgets/controls",
          "model_name": "ProgressStyleModel",
          "model_module_version": "1.5.0",
          "state": {
            "_model_module": "@jupyter-widgets/controls",
            "_model_module_version": "1.5.0",
            "_model_name": "ProgressStyleModel",
            "_view_count": null,
            "_view_module": "@jupyter-widgets/base",
            "_view_module_version": "1.2.0",
            "_view_name": "StyleView",
            "bar_color": null,
            "description_width": ""
          }
        },
        "f2dd2811c76940ff9a4cbc6bbb378623": {
          "model_module": "@jupyter-widgets/base",
          "model_name": "LayoutModel",
          "model_module_version": "1.2.0",
          "state": {
            "_model_module": "@jupyter-widgets/base",
            "_model_module_version": "1.2.0",
            "_model_name": "LayoutModel",
            "_view_count": null,
            "_view_module": "@jupyter-widgets/base",
            "_view_module_version": "1.2.0",
            "_view_name": "LayoutView",
            "align_content": null,
            "align_items": null,
            "align_self": null,
            "border": null,
            "bottom": null,
            "display": null,
            "flex": null,
            "flex_flow": null,
            "grid_area": null,
            "grid_auto_columns": null,
            "grid_auto_flow": null,
            "grid_auto_rows": null,
            "grid_column": null,
            "grid_gap": null,
            "grid_row": null,
            "grid_template_areas": null,
            "grid_template_columns": null,
            "grid_template_rows": null,
            "height": null,
            "justify_content": null,
            "justify_items": null,
            "left": null,
            "margin": null,
            "max_height": null,
            "max_width": null,
            "min_height": null,
            "min_width": null,
            "object_fit": null,
            "object_position": null,
            "order": null,
            "overflow": null,
            "overflow_x": null,
            "overflow_y": null,
            "padding": null,
            "right": null,
            "top": null,
            "visibility": null,
            "width": null
          }
        },
        "1b037a0caa8843398df011651f8334be": {
          "model_module": "@jupyter-widgets/controls",
          "model_name": "DescriptionStyleModel",
          "model_module_version": "1.5.0",
          "state": {
            "_model_module": "@jupyter-widgets/controls",
            "_model_module_version": "1.5.0",
            "_model_name": "DescriptionStyleModel",
            "_view_count": null,
            "_view_module": "@jupyter-widgets/base",
            "_view_module_version": "1.2.0",
            "_view_name": "StyleView",
            "description_width": ""
          }
        },
        "35af9d76f24d4e4fbcc507b7c19dc8a4": {
          "model_module": "@jupyter-widgets/controls",
          "model_name": "HBoxModel",
          "model_module_version": "1.5.0",
          "state": {
            "_dom_classes": [],
            "_model_module": "@jupyter-widgets/controls",
            "_model_module_version": "1.5.0",
            "_model_name": "HBoxModel",
            "_view_count": null,
            "_view_module": "@jupyter-widgets/controls",
            "_view_module_version": "1.5.0",
            "_view_name": "HBoxView",
            "box_style": "",
            "children": [
              "IPY_MODEL_eaeef12b09764e99ae0136887a6665b9",
              "IPY_MODEL_370828c45a4b46b2ae56df00b905fc36",
              "IPY_MODEL_7ba22dede84144028cfc1fdd5a29aa91"
            ],
            "layout": "IPY_MODEL_2dda32818d1b48c69eaea7b2c68b8cf1"
          }
        },
        "eaeef12b09764e99ae0136887a6665b9": {
          "model_module": "@jupyter-widgets/controls",
          "model_name": "HTMLModel",
          "model_module_version": "1.5.0",
          "state": {
            "_dom_classes": [],
            "_model_module": "@jupyter-widgets/controls",
            "_model_module_version": "1.5.0",
            "_model_name": "HTMLModel",
            "_view_count": null,
            "_view_module": "@jupyter-widgets/controls",
            "_view_module_version": "1.5.0",
            "_view_name": "HTMLView",
            "description": "",
            "description_tooltip": null,
            "layout": "IPY_MODEL_5cc71dcfa7f9404b81e8f0fe70eb74b4",
            "placeholder": "​",
            "style": "IPY_MODEL_d02a57de8858466cbb4eafd5dd1660f6",
            "value": "Generating test split: "
          }
        },
        "370828c45a4b46b2ae56df00b905fc36": {
          "model_module": "@jupyter-widgets/controls",
          "model_name": "FloatProgressModel",
          "model_module_version": "1.5.0",
          "state": {
            "_dom_classes": [],
            "_model_module": "@jupyter-widgets/controls",
            "_model_module_version": "1.5.0",
            "_model_name": "FloatProgressModel",
            "_view_count": null,
            "_view_module": "@jupyter-widgets/controls",
            "_view_module_version": "1.5.0",
            "_view_name": "ProgressView",
            "bar_style": "success",
            "description": "",
            "description_tooltip": null,
            "layout": "IPY_MODEL_d53c9bb9c4e8430c9faf49cb9580fa99",
            "max": 1,
            "min": 0,
            "orientation": "horizontal",
            "style": "IPY_MODEL_39b488ff876f45be921992fe74b70486",
            "value": 1
          }
        },
        "7ba22dede84144028cfc1fdd5a29aa91": {
          "model_module": "@jupyter-widgets/controls",
          "model_name": "HTMLModel",
          "model_module_version": "1.5.0",
          "state": {
            "_dom_classes": [],
            "_model_module": "@jupyter-widgets/controls",
            "_model_module_version": "1.5.0",
            "_model_name": "HTMLModel",
            "_view_count": null,
            "_view_module": "@jupyter-widgets/controls",
            "_view_module_version": "1.5.0",
            "_view_name": "HTMLView",
            "description": "",
            "description_tooltip": null,
            "layout": "IPY_MODEL_330b14758d63411a9988638e2608cf41",
            "placeholder": "​",
            "style": "IPY_MODEL_8281d859afae4f1fb265f4afd942946d",
            "value": " 4674154/0 [00:16&lt;00:00, 242481.59 examples/s]"
          }
        },
        "2dda32818d1b48c69eaea7b2c68b8cf1": {
          "model_module": "@jupyter-widgets/base",
          "model_name": "LayoutModel",
          "model_module_version": "1.2.0",
          "state": {
            "_model_module": "@jupyter-widgets/base",
            "_model_module_version": "1.2.0",
            "_model_name": "LayoutModel",
            "_view_count": null,
            "_view_module": "@jupyter-widgets/base",
            "_view_module_version": "1.2.0",
            "_view_name": "LayoutView",
            "align_content": null,
            "align_items": null,
            "align_self": null,
            "border": null,
            "bottom": null,
            "display": null,
            "flex": null,
            "flex_flow": null,
            "grid_area": null,
            "grid_auto_columns": null,
            "grid_auto_flow": null,
            "grid_auto_rows": null,
            "grid_column": null,
            "grid_gap": null,
            "grid_row": null,
            "grid_template_areas": null,
            "grid_template_columns": null,
            "grid_template_rows": null,
            "height": null,
            "justify_content": null,
            "justify_items": null,
            "left": null,
            "margin": null,
            "max_height": null,
            "max_width": null,
            "min_height": null,
            "min_width": null,
            "object_fit": null,
            "object_position": null,
            "order": null,
            "overflow": null,
            "overflow_x": null,
            "overflow_y": null,
            "padding": null,
            "right": null,
            "top": null,
            "visibility": null,
            "width": null
          }
        },
        "5cc71dcfa7f9404b81e8f0fe70eb74b4": {
          "model_module": "@jupyter-widgets/base",
          "model_name": "LayoutModel",
          "model_module_version": "1.2.0",
          "state": {
            "_model_module": "@jupyter-widgets/base",
            "_model_module_version": "1.2.0",
            "_model_name": "LayoutModel",
            "_view_count": null,
            "_view_module": "@jupyter-widgets/base",
            "_view_module_version": "1.2.0",
            "_view_name": "LayoutView",
            "align_content": null,
            "align_items": null,
            "align_self": null,
            "border": null,
            "bottom": null,
            "display": null,
            "flex": null,
            "flex_flow": null,
            "grid_area": null,
            "grid_auto_columns": null,
            "grid_auto_flow": null,
            "grid_auto_rows": null,
            "grid_column": null,
            "grid_gap": null,
            "grid_row": null,
            "grid_template_areas": null,
            "grid_template_columns": null,
            "grid_template_rows": null,
            "height": null,
            "justify_content": null,
            "justify_items": null,
            "left": null,
            "margin": null,
            "max_height": null,
            "max_width": null,
            "min_height": null,
            "min_width": null,
            "object_fit": null,
            "object_position": null,
            "order": null,
            "overflow": null,
            "overflow_x": null,
            "overflow_y": null,
            "padding": null,
            "right": null,
            "top": null,
            "visibility": null,
            "width": null
          }
        },
        "d02a57de8858466cbb4eafd5dd1660f6": {
          "model_module": "@jupyter-widgets/controls",
          "model_name": "DescriptionStyleModel",
          "model_module_version": "1.5.0",
          "state": {
            "_model_module": "@jupyter-widgets/controls",
            "_model_module_version": "1.5.0",
            "_model_name": "DescriptionStyleModel",
            "_view_count": null,
            "_view_module": "@jupyter-widgets/base",
            "_view_module_version": "1.2.0",
            "_view_name": "StyleView",
            "description_width": ""
          }
        },
        "d53c9bb9c4e8430c9faf49cb9580fa99": {
          "model_module": "@jupyter-widgets/base",
          "model_name": "LayoutModel",
          "model_module_version": "1.2.0",
          "state": {
            "_model_module": "@jupyter-widgets/base",
            "_model_module_version": "1.2.0",
            "_model_name": "LayoutModel",
            "_view_count": null,
            "_view_module": "@jupyter-widgets/base",
            "_view_module_version": "1.2.0",
            "_view_name": "LayoutView",
            "align_content": null,
            "align_items": null,
            "align_self": null,
            "border": null,
            "bottom": null,
            "display": null,
            "flex": null,
            "flex_flow": null,
            "grid_area": null,
            "grid_auto_columns": null,
            "grid_auto_flow": null,
            "grid_auto_rows": null,
            "grid_column": null,
            "grid_gap": null,
            "grid_row": null,
            "grid_template_areas": null,
            "grid_template_columns": null,
            "grid_template_rows": null,
            "height": null,
            "justify_content": null,
            "justify_items": null,
            "left": null,
            "margin": null,
            "max_height": null,
            "max_width": null,
            "min_height": null,
            "min_width": null,
            "object_fit": null,
            "object_position": null,
            "order": null,
            "overflow": null,
            "overflow_x": null,
            "overflow_y": null,
            "padding": null,
            "right": null,
            "top": null,
            "visibility": null,
            "width": "20px"
          }
        },
        "39b488ff876f45be921992fe74b70486": {
          "model_module": "@jupyter-widgets/controls",
          "model_name": "ProgressStyleModel",
          "model_module_version": "1.5.0",
          "state": {
            "_model_module": "@jupyter-widgets/controls",
            "_model_module_version": "1.5.0",
            "_model_name": "ProgressStyleModel",
            "_view_count": null,
            "_view_module": "@jupyter-widgets/base",
            "_view_module_version": "1.2.0",
            "_view_name": "StyleView",
            "bar_color": null,
            "description_width": ""
          }
        },
        "330b14758d63411a9988638e2608cf41": {
          "model_module": "@jupyter-widgets/base",
          "model_name": "LayoutModel",
          "model_module_version": "1.2.0",
          "state": {
            "_model_module": "@jupyter-widgets/base",
            "_model_module_version": "1.2.0",
            "_model_name": "LayoutModel",
            "_view_count": null,
            "_view_module": "@jupyter-widgets/base",
            "_view_module_version": "1.2.0",
            "_view_name": "LayoutView",
            "align_content": null,
            "align_items": null,
            "align_self": null,
            "border": null,
            "bottom": null,
            "display": null,
            "flex": null,
            "flex_flow": null,
            "grid_area": null,
            "grid_auto_columns": null,
            "grid_auto_flow": null,
            "grid_auto_rows": null,
            "grid_column": null,
            "grid_gap": null,
            "grid_row": null,
            "grid_template_areas": null,
            "grid_template_columns": null,
            "grid_template_rows": null,
            "height": null,
            "justify_content": null,
            "justify_items": null,
            "left": null,
            "margin": null,
            "max_height": null,
            "max_width": null,
            "min_height": null,
            "min_width": null,
            "object_fit": null,
            "object_position": null,
            "order": null,
            "overflow": null,
            "overflow_x": null,
            "overflow_y": null,
            "padding": null,
            "right": null,
            "top": null,
            "visibility": null,
            "width": null
          }
        },
        "8281d859afae4f1fb265f4afd942946d": {
          "model_module": "@jupyter-widgets/controls",
          "model_name": "DescriptionStyleModel",
          "model_module_version": "1.5.0",
          "state": {
            "_model_module": "@jupyter-widgets/controls",
            "_model_module_version": "1.5.0",
            "_model_name": "DescriptionStyleModel",
            "_view_count": null,
            "_view_module": "@jupyter-widgets/base",
            "_view_module_version": "1.2.0",
            "_view_name": "StyleView",
            "description_width": ""
          }
        },
        "d74b78b1e87b4c77a78732a50a6eb57a": {
          "model_module": "@jupyter-widgets/controls",
          "model_name": "HBoxModel",
          "model_module_version": "1.5.0",
          "state": {
            "_dom_classes": [],
            "_model_module": "@jupyter-widgets/controls",
            "_model_module_version": "1.5.0",
            "_model_name": "HBoxModel",
            "_view_count": null,
            "_view_module": "@jupyter-widgets/controls",
            "_view_module_version": "1.5.0",
            "_view_name": "HBoxView",
            "box_style": "",
            "children": [
              "IPY_MODEL_9a01a8fddb1e46b28fbd22425ba62e7b",
              "IPY_MODEL_60b2026862e1428fafeb75cfab054654",
              "IPY_MODEL_7a8dbef72a9443dcac29d659504d8385"
            ],
            "layout": "IPY_MODEL_34c58665088f457fa367529d96405f4b"
          }
        },
        "9a01a8fddb1e46b28fbd22425ba62e7b": {
          "model_module": "@jupyter-widgets/controls",
          "model_name": "HTMLModel",
          "model_module_version": "1.5.0",
          "state": {
            "_dom_classes": [],
            "_model_module": "@jupyter-widgets/controls",
            "_model_module_version": "1.5.0",
            "_model_name": "HTMLModel",
            "_view_count": null,
            "_view_module": "@jupyter-widgets/controls",
            "_view_module_version": "1.5.0",
            "_view_name": "HTMLView",
            "description": "",
            "description_tooltip": null,
            "layout": "IPY_MODEL_ec4a5f7bc26240b0a016521f63e3bb55",
            "placeholder": "​",
            "style": "IPY_MODEL_5b5a5cc0b0384c0285728cd9112cc649",
            "value": "Map (num_proc=4): 100%"
          }
        },
        "60b2026862e1428fafeb75cfab054654": {
          "model_module": "@jupyter-widgets/controls",
          "model_name": "FloatProgressModel",
          "model_module_version": "1.5.0",
          "state": {
            "_dom_classes": [],
            "_model_module": "@jupyter-widgets/controls",
            "_model_module_version": "1.5.0",
            "_model_name": "FloatProgressModel",
            "_view_count": null,
            "_view_module": "@jupyter-widgets/controls",
            "_view_module_version": "1.5.0",
            "_view_name": "ProgressView",
            "bar_style": "success",
            "description": "",
            "description_tooltip": null,
            "layout": "IPY_MODEL_e15ab2e44c2c4e68bc9c678afe3ffb64",
            "max": 10000,
            "min": 0,
            "orientation": "horizontal",
            "style": "IPY_MODEL_2e938761a39743d4a7e2442992e72b8f",
            "value": 10000
          }
        },
        "7a8dbef72a9443dcac29d659504d8385": {
          "model_module": "@jupyter-widgets/controls",
          "model_name": "HTMLModel",
          "model_module_version": "1.5.0",
          "state": {
            "_dom_classes": [],
            "_model_module": "@jupyter-widgets/controls",
            "_model_module_version": "1.5.0",
            "_model_name": "HTMLModel",
            "_view_count": null,
            "_view_module": "@jupyter-widgets/controls",
            "_view_module_version": "1.5.0",
            "_view_name": "HTMLView",
            "description": "",
            "description_tooltip": null,
            "layout": "IPY_MODEL_d6d94501e79e4f0687c024ac639ade13",
            "placeholder": "​",
            "style": "IPY_MODEL_6c3521fdb45441d0a270e129da2aa904",
            "value": " 10000/10000 [00:11&lt;00:00, 401.34 examples/s]"
          }
        },
        "34c58665088f457fa367529d96405f4b": {
          "model_module": "@jupyter-widgets/base",
          "model_name": "LayoutModel",
          "model_module_version": "1.2.0",
          "state": {
            "_model_module": "@jupyter-widgets/base",
            "_model_module_version": "1.2.0",
            "_model_name": "LayoutModel",
            "_view_count": null,
            "_view_module": "@jupyter-widgets/base",
            "_view_module_version": "1.2.0",
            "_view_name": "LayoutView",
            "align_content": null,
            "align_items": null,
            "align_self": null,
            "border": null,
            "bottom": null,
            "display": null,
            "flex": null,
            "flex_flow": null,
            "grid_area": null,
            "grid_auto_columns": null,
            "grid_auto_flow": null,
            "grid_auto_rows": null,
            "grid_column": null,
            "grid_gap": null,
            "grid_row": null,
            "grid_template_areas": null,
            "grid_template_columns": null,
            "grid_template_rows": null,
            "height": null,
            "justify_content": null,
            "justify_items": null,
            "left": null,
            "margin": null,
            "max_height": null,
            "max_width": null,
            "min_height": null,
            "min_width": null,
            "object_fit": null,
            "object_position": null,
            "order": null,
            "overflow": null,
            "overflow_x": null,
            "overflow_y": null,
            "padding": null,
            "right": null,
            "top": null,
            "visibility": null,
            "width": null
          }
        },
        "ec4a5f7bc26240b0a016521f63e3bb55": {
          "model_module": "@jupyter-widgets/base",
          "model_name": "LayoutModel",
          "model_module_version": "1.2.0",
          "state": {
            "_model_module": "@jupyter-widgets/base",
            "_model_module_version": "1.2.0",
            "_model_name": "LayoutModel",
            "_view_count": null,
            "_view_module": "@jupyter-widgets/base",
            "_view_module_version": "1.2.0",
            "_view_name": "LayoutView",
            "align_content": null,
            "align_items": null,
            "align_self": null,
            "border": null,
            "bottom": null,
            "display": null,
            "flex": null,
            "flex_flow": null,
            "grid_area": null,
            "grid_auto_columns": null,
            "grid_auto_flow": null,
            "grid_auto_rows": null,
            "grid_column": null,
            "grid_gap": null,
            "grid_row": null,
            "grid_template_areas": null,
            "grid_template_columns": null,
            "grid_template_rows": null,
            "height": null,
            "justify_content": null,
            "justify_items": null,
            "left": null,
            "margin": null,
            "max_height": null,
            "max_width": null,
            "min_height": null,
            "min_width": null,
            "object_fit": null,
            "object_position": null,
            "order": null,
            "overflow": null,
            "overflow_x": null,
            "overflow_y": null,
            "padding": null,
            "right": null,
            "top": null,
            "visibility": null,
            "width": null
          }
        },
        "5b5a5cc0b0384c0285728cd9112cc649": {
          "model_module": "@jupyter-widgets/controls",
          "model_name": "DescriptionStyleModel",
          "model_module_version": "1.5.0",
          "state": {
            "_model_module": "@jupyter-widgets/controls",
            "_model_module_version": "1.5.0",
            "_model_name": "DescriptionStyleModel",
            "_view_count": null,
            "_view_module": "@jupyter-widgets/base",
            "_view_module_version": "1.2.0",
            "_view_name": "StyleView",
            "description_width": ""
          }
        },
        "e15ab2e44c2c4e68bc9c678afe3ffb64": {
          "model_module": "@jupyter-widgets/base",
          "model_name": "LayoutModel",
          "model_module_version": "1.2.0",
          "state": {
            "_model_module": "@jupyter-widgets/base",
            "_model_module_version": "1.2.0",
            "_model_name": "LayoutModel",
            "_view_count": null,
            "_view_module": "@jupyter-widgets/base",
            "_view_module_version": "1.2.0",
            "_view_name": "LayoutView",
            "align_content": null,
            "align_items": null,
            "align_self": null,
            "border": null,
            "bottom": null,
            "display": null,
            "flex": null,
            "flex_flow": null,
            "grid_area": null,
            "grid_auto_columns": null,
            "grid_auto_flow": null,
            "grid_auto_rows": null,
            "grid_column": null,
            "grid_gap": null,
            "grid_row": null,
            "grid_template_areas": null,
            "grid_template_columns": null,
            "grid_template_rows": null,
            "height": null,
            "justify_content": null,
            "justify_items": null,
            "left": null,
            "margin": null,
            "max_height": null,
            "max_width": null,
            "min_height": null,
            "min_width": null,
            "object_fit": null,
            "object_position": null,
            "order": null,
            "overflow": null,
            "overflow_x": null,
            "overflow_y": null,
            "padding": null,
            "right": null,
            "top": null,
            "visibility": null,
            "width": null
          }
        },
        "2e938761a39743d4a7e2442992e72b8f": {
          "model_module": "@jupyter-widgets/controls",
          "model_name": "ProgressStyleModel",
          "model_module_version": "1.5.0",
          "state": {
            "_model_module": "@jupyter-widgets/controls",
            "_model_module_version": "1.5.0",
            "_model_name": "ProgressStyleModel",
            "_view_count": null,
            "_view_module": "@jupyter-widgets/base",
            "_view_module_version": "1.2.0",
            "_view_name": "StyleView",
            "bar_color": null,
            "description_width": ""
          }
        },
        "d6d94501e79e4f0687c024ac639ade13": {
          "model_module": "@jupyter-widgets/base",
          "model_name": "LayoutModel",
          "model_module_version": "1.2.0",
          "state": {
            "_model_module": "@jupyter-widgets/base",
            "_model_module_version": "1.2.0",
            "_model_name": "LayoutModel",
            "_view_count": null,
            "_view_module": "@jupyter-widgets/base",
            "_view_module_version": "1.2.0",
            "_view_name": "LayoutView",
            "align_content": null,
            "align_items": null,
            "align_self": null,
            "border": null,
            "bottom": null,
            "display": null,
            "flex": null,
            "flex_flow": null,
            "grid_area": null,
            "grid_auto_columns": null,
            "grid_auto_flow": null,
            "grid_auto_rows": null,
            "grid_column": null,
            "grid_gap": null,
            "grid_row": null,
            "grid_template_areas": null,
            "grid_template_columns": null,
            "grid_template_rows": null,
            "height": null,
            "justify_content": null,
            "justify_items": null,
            "left": null,
            "margin": null,
            "max_height": null,
            "max_width": null,
            "min_height": null,
            "min_width": null,
            "object_fit": null,
            "object_position": null,
            "order": null,
            "overflow": null,
            "overflow_x": null,
            "overflow_y": null,
            "padding": null,
            "right": null,
            "top": null,
            "visibility": null,
            "width": null
          }
        },
        "6c3521fdb45441d0a270e129da2aa904": {
          "model_module": "@jupyter-widgets/controls",
          "model_name": "DescriptionStyleModel",
          "model_module_version": "1.5.0",
          "state": {
            "_model_module": "@jupyter-widgets/controls",
            "_model_module_version": "1.5.0",
            "_model_name": "DescriptionStyleModel",
            "_view_count": null,
            "_view_module": "@jupyter-widgets/base",
            "_view_module_version": "1.2.0",
            "_view_name": "StyleView",
            "description_width": ""
          }
        },
        "54c2dafdf2344ae3913e059bc53bb3b6": {
          "model_module": "@jupyter-widgets/controls",
          "model_name": "HBoxModel",
          "model_module_version": "1.5.0",
          "state": {
            "_dom_classes": [],
            "_model_module": "@jupyter-widgets/controls",
            "_model_module_version": "1.5.0",
            "_model_name": "HBoxModel",
            "_view_count": null,
            "_view_module": "@jupyter-widgets/controls",
            "_view_module_version": "1.5.0",
            "_view_name": "HBoxView",
            "box_style": "",
            "children": [
              "IPY_MODEL_da3866198ac743d4b69898b1bf811a28",
              "IPY_MODEL_911e04ffffa042b2a5c94dcb57c0d98c",
              "IPY_MODEL_1a66f7c0f2624389a89c34b86e8e9910"
            ],
            "layout": "IPY_MODEL_ca4f0631c84c4ea7b1bbddb3de55feb8"
          }
        },
        "da3866198ac743d4b69898b1bf811a28": {
          "model_module": "@jupyter-widgets/controls",
          "model_name": "HTMLModel",
          "model_module_version": "1.5.0",
          "state": {
            "_dom_classes": [],
            "_model_module": "@jupyter-widgets/controls",
            "_model_module_version": "1.5.0",
            "_model_name": "HTMLModel",
            "_view_count": null,
            "_view_module": "@jupyter-widgets/controls",
            "_view_module_version": "1.5.0",
            "_view_name": "HTMLView",
            "description": "",
            "description_tooltip": null,
            "layout": "IPY_MODEL_10686b01d32147dd976d2ac8d639198e",
            "placeholder": "​",
            "style": "IPY_MODEL_ce4665026aa54a01b0a55b602c138c50",
            "value": "Map (num_proc=4): 100%"
          }
        },
        "911e04ffffa042b2a5c94dcb57c0d98c": {
          "model_module": "@jupyter-widgets/controls",
          "model_name": "FloatProgressModel",
          "model_module_version": "1.5.0",
          "state": {
            "_dom_classes": [],
            "_model_module": "@jupyter-widgets/controls",
            "_model_module_version": "1.5.0",
            "_model_name": "FloatProgressModel",
            "_view_count": null,
            "_view_module": "@jupyter-widgets/controls",
            "_view_module_version": "1.5.0",
            "_view_name": "ProgressView",
            "bar_style": "success",
            "description": "",
            "description_tooltip": null,
            "layout": "IPY_MODEL_78be9ba127624c8f9470a2e57d3bdb70",
            "max": 10000,
            "min": 0,
            "orientation": "horizontal",
            "style": "IPY_MODEL_d2013ce4bba94d609889e6fc0e6259c4",
            "value": 10000
          }
        },
        "1a66f7c0f2624389a89c34b86e8e9910": {
          "model_module": "@jupyter-widgets/controls",
          "model_name": "HTMLModel",
          "model_module_version": "1.5.0",
          "state": {
            "_dom_classes": [],
            "_model_module": "@jupyter-widgets/controls",
            "_model_module_version": "1.5.0",
            "_model_name": "HTMLModel",
            "_view_count": null,
            "_view_module": "@jupyter-widgets/controls",
            "_view_module_version": "1.5.0",
            "_view_name": "HTMLView",
            "description": "",
            "description_tooltip": null,
            "layout": "IPY_MODEL_c5bc4f891cf44ce491d4bb506332149b",
            "placeholder": "​",
            "style": "IPY_MODEL_743365759b77492fae7bce6ac5427659",
            "value": " 10000/10000 [00:09&lt;00:00, 1160.27 examples/s]"
          }
        },
        "ca4f0631c84c4ea7b1bbddb3de55feb8": {
          "model_module": "@jupyter-widgets/base",
          "model_name": "LayoutModel",
          "model_module_version": "1.2.0",
          "state": {
            "_model_module": "@jupyter-widgets/base",
            "_model_module_version": "1.2.0",
            "_model_name": "LayoutModel",
            "_view_count": null,
            "_view_module": "@jupyter-widgets/base",
            "_view_module_version": "1.2.0",
            "_view_name": "LayoutView",
            "align_content": null,
            "align_items": null,
            "align_self": null,
            "border": null,
            "bottom": null,
            "display": null,
            "flex": null,
            "flex_flow": null,
            "grid_area": null,
            "grid_auto_columns": null,
            "grid_auto_flow": null,
            "grid_auto_rows": null,
            "grid_column": null,
            "grid_gap": null,
            "grid_row": null,
            "grid_template_areas": null,
            "grid_template_columns": null,
            "grid_template_rows": null,
            "height": null,
            "justify_content": null,
            "justify_items": null,
            "left": null,
            "margin": null,
            "max_height": null,
            "max_width": null,
            "min_height": null,
            "min_width": null,
            "object_fit": null,
            "object_position": null,
            "order": null,
            "overflow": null,
            "overflow_x": null,
            "overflow_y": null,
            "padding": null,
            "right": null,
            "top": null,
            "visibility": null,
            "width": null
          }
        },
        "10686b01d32147dd976d2ac8d639198e": {
          "model_module": "@jupyter-widgets/base",
          "model_name": "LayoutModel",
          "model_module_version": "1.2.0",
          "state": {
            "_model_module": "@jupyter-widgets/base",
            "_model_module_version": "1.2.0",
            "_model_name": "LayoutModel",
            "_view_count": null,
            "_view_module": "@jupyter-widgets/base",
            "_view_module_version": "1.2.0",
            "_view_name": "LayoutView",
            "align_content": null,
            "align_items": null,
            "align_self": null,
            "border": null,
            "bottom": null,
            "display": null,
            "flex": null,
            "flex_flow": null,
            "grid_area": null,
            "grid_auto_columns": null,
            "grid_auto_flow": null,
            "grid_auto_rows": null,
            "grid_column": null,
            "grid_gap": null,
            "grid_row": null,
            "grid_template_areas": null,
            "grid_template_columns": null,
            "grid_template_rows": null,
            "height": null,
            "justify_content": null,
            "justify_items": null,
            "left": null,
            "margin": null,
            "max_height": null,
            "max_width": null,
            "min_height": null,
            "min_width": null,
            "object_fit": null,
            "object_position": null,
            "order": null,
            "overflow": null,
            "overflow_x": null,
            "overflow_y": null,
            "padding": null,
            "right": null,
            "top": null,
            "visibility": null,
            "width": null
          }
        },
        "ce4665026aa54a01b0a55b602c138c50": {
          "model_module": "@jupyter-widgets/controls",
          "model_name": "DescriptionStyleModel",
          "model_module_version": "1.5.0",
          "state": {
            "_model_module": "@jupyter-widgets/controls",
            "_model_module_version": "1.5.0",
            "_model_name": "DescriptionStyleModel",
            "_view_count": null,
            "_view_module": "@jupyter-widgets/base",
            "_view_module_version": "1.2.0",
            "_view_name": "StyleView",
            "description_width": ""
          }
        },
        "78be9ba127624c8f9470a2e57d3bdb70": {
          "model_module": "@jupyter-widgets/base",
          "model_name": "LayoutModel",
          "model_module_version": "1.2.0",
          "state": {
            "_model_module": "@jupyter-widgets/base",
            "_model_module_version": "1.2.0",
            "_model_name": "LayoutModel",
            "_view_count": null,
            "_view_module": "@jupyter-widgets/base",
            "_view_module_version": "1.2.0",
            "_view_name": "LayoutView",
            "align_content": null,
            "align_items": null,
            "align_self": null,
            "border": null,
            "bottom": null,
            "display": null,
            "flex": null,
            "flex_flow": null,
            "grid_area": null,
            "grid_auto_columns": null,
            "grid_auto_flow": null,
            "grid_auto_rows": null,
            "grid_column": null,
            "grid_gap": null,
            "grid_row": null,
            "grid_template_areas": null,
            "grid_template_columns": null,
            "grid_template_rows": null,
            "height": null,
            "justify_content": null,
            "justify_items": null,
            "left": null,
            "margin": null,
            "max_height": null,
            "max_width": null,
            "min_height": null,
            "min_width": null,
            "object_fit": null,
            "object_position": null,
            "order": null,
            "overflow": null,
            "overflow_x": null,
            "overflow_y": null,
            "padding": null,
            "right": null,
            "top": null,
            "visibility": null,
            "width": null
          }
        },
        "d2013ce4bba94d609889e6fc0e6259c4": {
          "model_module": "@jupyter-widgets/controls",
          "model_name": "ProgressStyleModel",
          "model_module_version": "1.5.0",
          "state": {
            "_model_module": "@jupyter-widgets/controls",
            "_model_module_version": "1.5.0",
            "_model_name": "ProgressStyleModel",
            "_view_count": null,
            "_view_module": "@jupyter-widgets/base",
            "_view_module_version": "1.2.0",
            "_view_name": "StyleView",
            "bar_color": null,
            "description_width": ""
          }
        },
        "c5bc4f891cf44ce491d4bb506332149b": {
          "model_module": "@jupyter-widgets/base",
          "model_name": "LayoutModel",
          "model_module_version": "1.2.0",
          "state": {
            "_model_module": "@jupyter-widgets/base",
            "_model_module_version": "1.2.0",
            "_model_name": "LayoutModel",
            "_view_count": null,
            "_view_module": "@jupyter-widgets/base",
            "_view_module_version": "1.2.0",
            "_view_name": "LayoutView",
            "align_content": null,
            "align_items": null,
            "align_self": null,
            "border": null,
            "bottom": null,
            "display": null,
            "flex": null,
            "flex_flow": null,
            "grid_area": null,
            "grid_auto_columns": null,
            "grid_auto_flow": null,
            "grid_auto_rows": null,
            "grid_column": null,
            "grid_gap": null,
            "grid_row": null,
            "grid_template_areas": null,
            "grid_template_columns": null,
            "grid_template_rows": null,
            "height": null,
            "justify_content": null,
            "justify_items": null,
            "left": null,
            "margin": null,
            "max_height": null,
            "max_width": null,
            "min_height": null,
            "min_width": null,
            "object_fit": null,
            "object_position": null,
            "order": null,
            "overflow": null,
            "overflow_x": null,
            "overflow_y": null,
            "padding": null,
            "right": null,
            "top": null,
            "visibility": null,
            "width": null
          }
        },
        "743365759b77492fae7bce6ac5427659": {
          "model_module": "@jupyter-widgets/controls",
          "model_name": "DescriptionStyleModel",
          "model_module_version": "1.5.0",
          "state": {
            "_model_module": "@jupyter-widgets/controls",
            "_model_module_version": "1.5.0",
            "_model_name": "DescriptionStyleModel",
            "_view_count": null,
            "_view_module": "@jupyter-widgets/base",
            "_view_module_version": "1.2.0",
            "_view_name": "StyleView",
            "description_width": ""
          }
        }
      }
    },
    "accelerator": "GPU"
  },
  "cells": [
    {
      "cell_type": "markdown",
      "metadata": {
        "id": "view-in-github",
        "colab_type": "text"
      },
      "source": [
        "<a href=\"https://colab.research.google.com/github/shahriarivari/Persian_sentiment_analysis/blob/main/Persian_sentiment_analysis.ipynb\" target=\"_parent\"><img src=\"https://colab.research.google.com/assets/colab-badge.svg\" alt=\"Open In Colab\"/></a>"
      ]
    },
    {
      "cell_type": "code",
      "source": [
        "!pip install tokenizers\n",
        "!pip install datasets\n",
        "!pip install -U accelerate\n",
        "!pip install -U transformers"
      ],
      "metadata": {
        "id": "JsDKPdpzWgQA",
        "outputId": "f4aa7eb6-589d-4a1f-ec87-3f7c73e1a916",
        "colab": {
          "base_uri": "https://localhost:8080/"
        }
      },
      "execution_count": 1,
      "outputs": [
        {
          "output_type": "stream",
          "name": "stdout",
          "text": [
            "Requirement already satisfied: tokenizers in /usr/local/lib/python3.10/dist-packages (0.15.0)\n",
            "Requirement already satisfied: huggingface_hub<1.0,>=0.16.4 in /usr/local/lib/python3.10/dist-packages (from tokenizers) (0.19.4)\n",
            "Requirement already satisfied: filelock in /usr/local/lib/python3.10/dist-packages (from huggingface_hub<1.0,>=0.16.4->tokenizers) (3.13.1)\n",
            "Requirement already satisfied: fsspec>=2023.5.0 in /usr/local/lib/python3.10/dist-packages (from huggingface_hub<1.0,>=0.16.4->tokenizers) (2023.6.0)\n",
            "Requirement already satisfied: requests in /usr/local/lib/python3.10/dist-packages (from huggingface_hub<1.0,>=0.16.4->tokenizers) (2.31.0)\n",
            "Requirement already satisfied: tqdm>=4.42.1 in /usr/local/lib/python3.10/dist-packages (from huggingface_hub<1.0,>=0.16.4->tokenizers) (4.66.1)\n",
            "Requirement already satisfied: pyyaml>=5.1 in /usr/local/lib/python3.10/dist-packages (from huggingface_hub<1.0,>=0.16.4->tokenizers) (6.0.1)\n",
            "Requirement already satisfied: typing-extensions>=3.7.4.3 in /usr/local/lib/python3.10/dist-packages (from huggingface_hub<1.0,>=0.16.4->tokenizers) (4.5.0)\n",
            "Requirement already satisfied: packaging>=20.9 in /usr/local/lib/python3.10/dist-packages (from huggingface_hub<1.0,>=0.16.4->tokenizers) (23.2)\n",
            "Requirement already satisfied: charset-normalizer<4,>=2 in /usr/local/lib/python3.10/dist-packages (from requests->huggingface_hub<1.0,>=0.16.4->tokenizers) (3.3.2)\n",
            "Requirement already satisfied: idna<4,>=2.5 in /usr/local/lib/python3.10/dist-packages (from requests->huggingface_hub<1.0,>=0.16.4->tokenizers) (3.6)\n",
            "Requirement already satisfied: urllib3<3,>=1.21.1 in /usr/local/lib/python3.10/dist-packages (from requests->huggingface_hub<1.0,>=0.16.4->tokenizers) (2.0.7)\n",
            "Requirement already satisfied: certifi>=2017.4.17 in /usr/local/lib/python3.10/dist-packages (from requests->huggingface_hub<1.0,>=0.16.4->tokenizers) (2023.11.17)\n",
            "Collecting datasets\n",
            "  Downloading datasets-2.16.0-py3-none-any.whl (507 kB)\n",
            "\u001b[2K     \u001b[90m━━━━━━━━━━━━━━━━━━━━━━━━━━━━━━━━━━━━━━━━\u001b[0m \u001b[32m507.1/507.1 kB\u001b[0m \u001b[31m3.0 MB/s\u001b[0m eta \u001b[36m0:00:00\u001b[0m\n",
            "\u001b[?25hRequirement already satisfied: filelock in /usr/local/lib/python3.10/dist-packages (from datasets) (3.13.1)\n",
            "Requirement already satisfied: numpy>=1.17 in /usr/local/lib/python3.10/dist-packages (from datasets) (1.23.5)\n",
            "Requirement already satisfied: pyarrow>=8.0.0 in /usr/local/lib/python3.10/dist-packages (from datasets) (10.0.1)\n",
            "Collecting pyarrow-hotfix (from datasets)\n",
            "  Downloading pyarrow_hotfix-0.6-py3-none-any.whl (7.9 kB)\n",
            "Collecting dill<0.3.8,>=0.3.0 (from datasets)\n",
            "  Downloading dill-0.3.7-py3-none-any.whl (115 kB)\n",
            "\u001b[2K     \u001b[90m━━━━━━━━━━━━━━━━━━━━━━━━━━━━━━━━━━━━━━━━\u001b[0m \u001b[32m115.3/115.3 kB\u001b[0m \u001b[31m13.0 MB/s\u001b[0m eta \u001b[36m0:00:00\u001b[0m\n",
            "\u001b[?25hRequirement already satisfied: pandas in /usr/local/lib/python3.10/dist-packages (from datasets) (1.5.3)\n",
            "Requirement already satisfied: requests>=2.19.0 in /usr/local/lib/python3.10/dist-packages (from datasets) (2.31.0)\n",
            "Requirement already satisfied: tqdm>=4.62.1 in /usr/local/lib/python3.10/dist-packages (from datasets) (4.66.1)\n",
            "Requirement already satisfied: xxhash in /usr/local/lib/python3.10/dist-packages (from datasets) (3.4.1)\n",
            "Collecting multiprocess (from datasets)\n",
            "  Downloading multiprocess-0.70.15-py310-none-any.whl (134 kB)\n",
            "\u001b[2K     \u001b[90m━━━━━━━━━━━━━━━━━━━━━━━━━━━━━━━━━━━━━━━━\u001b[0m \u001b[32m134.8/134.8 kB\u001b[0m \u001b[31m13.9 MB/s\u001b[0m eta \u001b[36m0:00:00\u001b[0m\n",
            "\u001b[?25hRequirement already satisfied: fsspec[http]<=2023.10.0,>=2023.1.0 in /usr/local/lib/python3.10/dist-packages (from datasets) (2023.6.0)\n",
            "Requirement already satisfied: aiohttp in /usr/local/lib/python3.10/dist-packages (from datasets) (3.9.1)\n",
            "Requirement already satisfied: huggingface-hub>=0.19.4 in /usr/local/lib/python3.10/dist-packages (from datasets) (0.19.4)\n",
            "Requirement already satisfied: packaging in /usr/local/lib/python3.10/dist-packages (from datasets) (23.2)\n",
            "Requirement already satisfied: pyyaml>=5.1 in /usr/local/lib/python3.10/dist-packages (from datasets) (6.0.1)\n",
            "Requirement already satisfied: attrs>=17.3.0 in /usr/local/lib/python3.10/dist-packages (from aiohttp->datasets) (23.1.0)\n",
            "Requirement already satisfied: multidict<7.0,>=4.5 in /usr/local/lib/python3.10/dist-packages (from aiohttp->datasets) (6.0.4)\n",
            "Requirement already satisfied: yarl<2.0,>=1.0 in /usr/local/lib/python3.10/dist-packages (from aiohttp->datasets) (1.9.4)\n",
            "Requirement already satisfied: frozenlist>=1.1.1 in /usr/local/lib/python3.10/dist-packages (from aiohttp->datasets) (1.4.1)\n",
            "Requirement already satisfied: aiosignal>=1.1.2 in /usr/local/lib/python3.10/dist-packages (from aiohttp->datasets) (1.3.1)\n",
            "Requirement already satisfied: async-timeout<5.0,>=4.0 in /usr/local/lib/python3.10/dist-packages (from aiohttp->datasets) (4.0.3)\n",
            "Requirement already satisfied: typing-extensions>=3.7.4.3 in /usr/local/lib/python3.10/dist-packages (from huggingface-hub>=0.19.4->datasets) (4.5.0)\n",
            "Requirement already satisfied: charset-normalizer<4,>=2 in /usr/local/lib/python3.10/dist-packages (from requests>=2.19.0->datasets) (3.3.2)\n",
            "Requirement already satisfied: idna<4,>=2.5 in /usr/local/lib/python3.10/dist-packages (from requests>=2.19.0->datasets) (3.6)\n",
            "Requirement already satisfied: urllib3<3,>=1.21.1 in /usr/local/lib/python3.10/dist-packages (from requests>=2.19.0->datasets) (2.0.7)\n",
            "Requirement already satisfied: certifi>=2017.4.17 in /usr/local/lib/python3.10/dist-packages (from requests>=2.19.0->datasets) (2023.11.17)\n",
            "Requirement already satisfied: python-dateutil>=2.8.1 in /usr/local/lib/python3.10/dist-packages (from pandas->datasets) (2.8.2)\n",
            "Requirement already satisfied: pytz>=2020.1 in /usr/local/lib/python3.10/dist-packages (from pandas->datasets) (2023.3.post1)\n",
            "Requirement already satisfied: six>=1.5 in /usr/local/lib/python3.10/dist-packages (from python-dateutil>=2.8.1->pandas->datasets) (1.16.0)\n",
            "Installing collected packages: pyarrow-hotfix, dill, multiprocess, datasets\n",
            "Successfully installed datasets-2.16.0 dill-0.3.7 multiprocess-0.70.15 pyarrow-hotfix-0.6\n",
            "Collecting accelerate\n",
            "  Downloading accelerate-0.25.0-py3-none-any.whl (265 kB)\n",
            "\u001b[2K     \u001b[90m━━━━━━━━━━━━━━━━━━━━━━━━━━━━━━━━━━━━━━━━\u001b[0m \u001b[32m265.7/265.7 kB\u001b[0m \u001b[31m4.2 MB/s\u001b[0m eta \u001b[36m0:00:00\u001b[0m\n",
            "\u001b[?25hRequirement already satisfied: numpy>=1.17 in /usr/local/lib/python3.10/dist-packages (from accelerate) (1.23.5)\n",
            "Requirement already satisfied: packaging>=20.0 in /usr/local/lib/python3.10/dist-packages (from accelerate) (23.2)\n",
            "Requirement already satisfied: psutil in /usr/local/lib/python3.10/dist-packages (from accelerate) (5.9.5)\n",
            "Requirement already satisfied: pyyaml in /usr/local/lib/python3.10/dist-packages (from accelerate) (6.0.1)\n",
            "Requirement already satisfied: torch>=1.10.0 in /usr/local/lib/python3.10/dist-packages (from accelerate) (2.1.0+cu121)\n",
            "Requirement already satisfied: huggingface-hub in /usr/local/lib/python3.10/dist-packages (from accelerate) (0.19.4)\n",
            "Requirement already satisfied: safetensors>=0.3.1 in /usr/local/lib/python3.10/dist-packages (from accelerate) (0.4.1)\n",
            "Requirement already satisfied: filelock in /usr/local/lib/python3.10/dist-packages (from torch>=1.10.0->accelerate) (3.13.1)\n",
            "Requirement already satisfied: typing-extensions in /usr/local/lib/python3.10/dist-packages (from torch>=1.10.0->accelerate) (4.5.0)\n",
            "Requirement already satisfied: sympy in /usr/local/lib/python3.10/dist-packages (from torch>=1.10.0->accelerate) (1.12)\n",
            "Requirement already satisfied: networkx in /usr/local/lib/python3.10/dist-packages (from torch>=1.10.0->accelerate) (3.2.1)\n",
            "Requirement already satisfied: jinja2 in /usr/local/lib/python3.10/dist-packages (from torch>=1.10.0->accelerate) (3.1.2)\n",
            "Requirement already satisfied: fsspec in /usr/local/lib/python3.10/dist-packages (from torch>=1.10.0->accelerate) (2023.6.0)\n",
            "Requirement already satisfied: triton==2.1.0 in /usr/local/lib/python3.10/dist-packages (from torch>=1.10.0->accelerate) (2.1.0)\n",
            "Requirement already satisfied: requests in /usr/local/lib/python3.10/dist-packages (from huggingface-hub->accelerate) (2.31.0)\n",
            "Requirement already satisfied: tqdm>=4.42.1 in /usr/local/lib/python3.10/dist-packages (from huggingface-hub->accelerate) (4.66.1)\n",
            "Requirement already satisfied: MarkupSafe>=2.0 in /usr/local/lib/python3.10/dist-packages (from jinja2->torch>=1.10.0->accelerate) (2.1.3)\n",
            "Requirement already satisfied: charset-normalizer<4,>=2 in /usr/local/lib/python3.10/dist-packages (from requests->huggingface-hub->accelerate) (3.3.2)\n",
            "Requirement already satisfied: idna<4,>=2.5 in /usr/local/lib/python3.10/dist-packages (from requests->huggingface-hub->accelerate) (3.6)\n",
            "Requirement already satisfied: urllib3<3,>=1.21.1 in /usr/local/lib/python3.10/dist-packages (from requests->huggingface-hub->accelerate) (2.0.7)\n",
            "Requirement already satisfied: certifi>=2017.4.17 in /usr/local/lib/python3.10/dist-packages (from requests->huggingface-hub->accelerate) (2023.11.17)\n",
            "Requirement already satisfied: mpmath>=0.19 in /usr/local/lib/python3.10/dist-packages (from sympy->torch>=1.10.0->accelerate) (1.3.0)\n",
            "Installing collected packages: accelerate\n",
            "Successfully installed accelerate-0.25.0\n",
            "Requirement already satisfied: transformers in /usr/local/lib/python3.10/dist-packages (4.35.2)\n",
            "Collecting transformers\n",
            "  Downloading transformers-4.36.2-py3-none-any.whl (8.2 MB)\n",
            "\u001b[2K     \u001b[90m━━━━━━━━━━━━━━━━━━━━━━━━━━━━━━━━━━━━━━━━\u001b[0m \u001b[32m8.2/8.2 MB\u001b[0m \u001b[31m21.4 MB/s\u001b[0m eta \u001b[36m0:00:00\u001b[0m\n",
            "\u001b[?25hRequirement already satisfied: filelock in /usr/local/lib/python3.10/dist-packages (from transformers) (3.13.1)\n",
            "Requirement already satisfied: huggingface-hub<1.0,>=0.19.3 in /usr/local/lib/python3.10/dist-packages (from transformers) (0.19.4)\n",
            "Requirement already satisfied: numpy>=1.17 in /usr/local/lib/python3.10/dist-packages (from transformers) (1.23.5)\n",
            "Requirement already satisfied: packaging>=20.0 in /usr/local/lib/python3.10/dist-packages (from transformers) (23.2)\n",
            "Requirement already satisfied: pyyaml>=5.1 in /usr/local/lib/python3.10/dist-packages (from transformers) (6.0.1)\n",
            "Requirement already satisfied: regex!=2019.12.17 in /usr/local/lib/python3.10/dist-packages (from transformers) (2023.6.3)\n",
            "Requirement already satisfied: requests in /usr/local/lib/python3.10/dist-packages (from transformers) (2.31.0)\n",
            "Requirement already satisfied: tokenizers<0.19,>=0.14 in /usr/local/lib/python3.10/dist-packages (from transformers) (0.15.0)\n",
            "Requirement already satisfied: safetensors>=0.3.1 in /usr/local/lib/python3.10/dist-packages (from transformers) (0.4.1)\n",
            "Requirement already satisfied: tqdm>=4.27 in /usr/local/lib/python3.10/dist-packages (from transformers) (4.66.1)\n",
            "Requirement already satisfied: fsspec>=2023.5.0 in /usr/local/lib/python3.10/dist-packages (from huggingface-hub<1.0,>=0.19.3->transformers) (2023.6.0)\n",
            "Requirement already satisfied: typing-extensions>=3.7.4.3 in /usr/local/lib/python3.10/dist-packages (from huggingface-hub<1.0,>=0.19.3->transformers) (4.5.0)\n",
            "Requirement already satisfied: charset-normalizer<4,>=2 in /usr/local/lib/python3.10/dist-packages (from requests->transformers) (3.3.2)\n",
            "Requirement already satisfied: idna<4,>=2.5 in /usr/local/lib/python3.10/dist-packages (from requests->transformers) (3.6)\n",
            "Requirement already satisfied: urllib3<3,>=1.21.1 in /usr/local/lib/python3.10/dist-packages (from requests->transformers) (2.0.7)\n",
            "Requirement already satisfied: certifi>=2017.4.17 in /usr/local/lib/python3.10/dist-packages (from requests->transformers) (2023.11.17)\n",
            "Installing collected packages: transformers\n",
            "  Attempting uninstall: transformers\n",
            "    Found existing installation: transformers 4.35.2\n",
            "    Uninstalling transformers-4.35.2:\n",
            "      Successfully uninstalled transformers-4.35.2\n",
            "Successfully installed transformers-4.36.2\n"
          ]
        }
      ]
    },
    {
      "cell_type": "markdown",
      "source": [
        "# BERT pre-training"
      ],
      "metadata": {
        "id": "qSHIVjKkPJ2a"
      }
    },
    {
      "cell_type": "markdown",
      "source": [
        "## Initial imports"
      ],
      "metadata": {
        "id": "ZnGJ9g0VPEZa"
      }
    },
    {
      "cell_type": "code",
      "execution_count": 2,
      "metadata": {
        "id": "VkUzCVP4V9UR"
      },
      "outputs": [],
      "source": [
        "import os\n",
        "import json\n",
        "from tokenizers import BertWordPieceTokenizer\n",
        "from transformers import BertModel, BertConfig\n",
        "from transformers import DataCollatorForLanguageModeling\n",
        "from transformers import Trainer, TrainingArguments\n",
        "from datasets import load_dataset, Dataset\n",
        "from transformers import TrainerCallback\n",
        "import logging"
      ]
    },
    {
      "cell_type": "markdown",
      "source": [
        "## Importing dataset from huggingface hub"
      ],
      "metadata": {
        "id": "pdKCXDL4PWcO"
      }
    },
    {
      "cell_type": "code",
      "source": [
        "# You should just change this part in order to download your\n",
        "# parts of corpus.\n",
        "indices = {\n",
        "    \"train\": [5,\n",
        "              #10, 20 , 110 , 120\n",
        "              ],\n",
        "    \"test\": [0,\n",
        "             #1\n",
        "             ]\n",
        "}\n",
        "\n",
        "N_FILES = {\n",
        "    \"train\": 126,\n",
        "    \"test\": 3\n",
        "}\n",
        "_BASE_URL = \"https://huggingface.co/datasets/SLPL/naab/resolve/main/data/\"\n",
        "data_url = {\n",
        "    \"train\": [_BASE_URL + \"train-{:05d}-of-{:05d}.txt\".format(x, N_FILES[\"train\"]) for x in range(N_FILES[\"train\"])],\n",
        "    \"test\": [_BASE_URL + \"test-{:05d}-of-{:05d}.txt\".format(x, N_FILES[\"test\"]) for x in range(N_FILES[\"test\"])],\n",
        "}\n",
        "for index in indices['train']:\n",
        "    assert index < N_FILES['train']\n",
        "for index in indices['test']:\n",
        "    assert index < N_FILES['test']\n",
        "data_files = {\n",
        "    \"train\": [data_url['train'][i] for i in indices['train']],\n",
        "    \"test\": [data_url['test'][i] for i in indices['test']]\n",
        "}\n",
        "\n",
        "dataset = load_dataset('text', data_files=data_files, use_auth_token=False)\n",
        "# Now you can use dataset for further processing\n",
        "print(dataset)"
      ],
      "metadata": {
        "id": "RwPI6_q9PDxu",
        "outputId": "a4b7673d-bffc-4253-c142-cac1ebe6f1c7",
        "colab": {
          "base_uri": "https://localhost:8080/",
          "height": 385,
          "referenced_widgets": [
            "6aaf1b3f98e54e7dbd5d5eb7ee2d7de3",
            "0dd6b27f4bdc4011af282199db14a587",
            "d7d0e8d7bcb24a75977ccd72ec31d71f",
            "18964375852d4957a4d68e0439ccd145",
            "ff2e41f2fa7f43cca2db59fedba8a7e1",
            "91c0638089a943629cfcb94d4c90c5fa",
            "925dfdf9f4594dcd9706ea326083da82",
            "ddfe7bf865634e329734cfe5b10bb395",
            "699f4021654641029f02b5f965b06f07",
            "7bd3a24876274e9188a405aca1683505",
            "5c183961b71d49a99d60c2bc7af12cbd",
            "16b87c40f78448d09e95e0c19014d96d",
            "9560942e4e31443daef60c56766e0ca7",
            "719e27bf6a8c41c3bbe564963de15baa",
            "3b45a4a2545245c183c6cd44801e7a17",
            "74554c93408d4d6b8c512167b77b71ee",
            "3a1fe7f824b04359a9801baf678e811a",
            "4d541c1e484a4930b36260fa91f7315f",
            "464290ce613646de87bc95021149a3d0",
            "3439b3e079c94b248ed4302724cc5ec1",
            "4972a42997034eaeab1b6d60e0fe0247",
            "ba063c4f7b2d42cd9d5914ef4b19a0de",
            "f68dd9e3d63f481ab5f4bbba5028823e",
            "c5c22c88c49546aa8f76c98f4bd31934",
            "de70c38c83174109b8f7405dd6a34163",
            "09771760625146e79ac87b8865dc0b9e",
            "95a50aea2e4449ce97c14d3cbdf74636",
            "e20d3da2260c4bc5bb1d6c9a5b386492",
            "f81e4104498241d6a40a978ca145a1f8",
            "5092f75ac8544517abed4f3a97ba2ded",
            "b2b2484219814f4394c13e99be33748e",
            "f2dd2811c76940ff9a4cbc6bbb378623",
            "1b037a0caa8843398df011651f8334be",
            "35af9d76f24d4e4fbcc507b7c19dc8a4",
            "eaeef12b09764e99ae0136887a6665b9",
            "370828c45a4b46b2ae56df00b905fc36",
            "7ba22dede84144028cfc1fdd5a29aa91",
            "2dda32818d1b48c69eaea7b2c68b8cf1",
            "5cc71dcfa7f9404b81e8f0fe70eb74b4",
            "d02a57de8858466cbb4eafd5dd1660f6",
            "d53c9bb9c4e8430c9faf49cb9580fa99",
            "39b488ff876f45be921992fe74b70486",
            "330b14758d63411a9988638e2608cf41",
            "8281d859afae4f1fb265f4afd942946d"
          ]
        }
      },
      "execution_count": null,
      "outputs": [
        {
          "output_type": "stream",
          "name": "stderr",
          "text": [
            "/usr/local/lib/python3.10/dist-packages/datasets/load.py:2479: FutureWarning: 'use_auth_token' was deprecated in favor of 'token' in version 2.14.0 and will be removed in 3.0.0.\n",
            "You can remove this warning by passing 'token=<use_auth_token>' instead.\n",
            "  warnings.warn(\n"
          ]
        },
        {
          "output_type": "display_data",
          "data": {
            "text/plain": [
              "Downloading data:   0%|          | 0.00/1.07G [00:00<?, ?B/s]"
            ],
            "application/vnd.jupyter.widget-view+json": {
              "version_major": 2,
              "version_minor": 0,
              "model_id": "6aaf1b3f98e54e7dbd5d5eb7ee2d7de3"
            }
          },
          "metadata": {}
        },
        {
          "output_type": "display_data",
          "data": {
            "text/plain": [
              "Downloading data:   0%|          | 0.00/1.07G [00:00<?, ?B/s]"
            ],
            "application/vnd.jupyter.widget-view+json": {
              "version_major": 2,
              "version_minor": 0,
              "model_id": "16b87c40f78448d09e95e0c19014d96d"
            }
          },
          "metadata": {}
        },
        {
          "output_type": "display_data",
          "data": {
            "text/plain": [
              "Generating train split: 0 examples [00:00, ? examples/s]"
            ],
            "application/vnd.jupyter.widget-view+json": {
              "version_major": 2,
              "version_minor": 0,
              "model_id": "f68dd9e3d63f481ab5f4bbba5028823e"
            }
          },
          "metadata": {}
        },
        {
          "output_type": "display_data",
          "data": {
            "text/plain": [
              "Generating test split: 0 examples [00:00, ? examples/s]"
            ],
            "application/vnd.jupyter.widget-view+json": {
              "version_major": 2,
              "version_minor": 0,
              "model_id": "35af9d76f24d4e4fbcc507b7c19dc8a4"
            }
          },
          "metadata": {}
        },
        {
          "output_type": "stream",
          "name": "stdout",
          "text": [
            "DatasetDict({\n",
            "    train: Dataset({\n",
            "        features: ['text'],\n",
            "        num_rows: 18062599\n",
            "    })\n",
            "    test: Dataset({\n",
            "        features: ['text'],\n",
            "        num_rows: 4674154\n",
            "    })\n",
            "})\n"
          ]
        }
      ]
    },
    {
      "cell_type": "markdown",
      "source": [
        "## Setting paths and file names"
      ],
      "metadata": {
        "id": "5Y5IQGhMArN0"
      }
    },
    {
      "cell_type": "code",
      "source": [
        "# Set your paths and file names\n",
        "tokenizer_output_dir = \"bert_tokenizer\"\n",
        "os.mkdir(tokenizer_output_dir)\n",
        "pretrained_model_output_dir = \"bert_pretrained_model\"\n",
        "os.mkdir(pretrained_model_output_dir)"
      ],
      "metadata": {
        "id": "H5sTpXkGwg_H"
      },
      "execution_count": null,
      "outputs": []
    },
    {
      "cell_type": "code",
      "source": [
        "# def batch_iterator(dataset, batch_size=10000, mode=\"train\"):\n",
        "#     for i in range(0, len(dataset[mode]['text']), batch_size):\n",
        "#         yield dataset[mode][i : i + batch_size][\"text\"]"
      ],
      "metadata": {
        "id": "5vvaSjxoyAA3"
      },
      "execution_count": null,
      "outputs": []
    },
    {
      "cell_type": "code",
      "source": [
        "# vocab_size = 30_522\n",
        "# min_frequency = 2\n",
        "# max_length = 512\n",
        "# special_tokens = [\"[PAD]\", \"[MASK]\", \"[CLS]\", \"[SEP]\", \"[UNK]\"]\n",
        "\n",
        "# # Initialize the WordPiece tokenizer for BERT\n",
        "# tokenizer = BertWordPieceTokenizer()\n",
        "\n",
        "# tokenizer.train_from_iterator(batch_iterator(dataset),\n",
        "#                               vocab_size=vocab_size,\n",
        "#                               min_frequency=min_frequency,\n",
        "#                               special_tokens=special_tokens,\n",
        "#                               show_progress=True,)\n",
        "\n",
        "# # enable truncation up to the maximum 512 tokens\n",
        "# tokenizer.enable_truncation(max_length=max_length)\n",
        "\n",
        "# # Save the trained tokenizer\n",
        "# tokenizer.save_model(tokenizer_output_dir)"
      ],
      "metadata": {
        "id": "3Y4kRizb0HTj"
      },
      "execution_count": null,
      "outputs": []
    },
    {
      "cell_type": "markdown",
      "source": [
        "## Making files for trainging the tokenizer"
      ],
      "metadata": {
        "id": "uDgCAc6PBPrK"
      }
    },
    {
      "cell_type": "code",
      "source": [
        "# Extract text data from the dataset\n",
        "texts = dataset['train']['text']  # Assuming you have a 'text' column in your dataset\n",
        "\n",
        "# Save the text data to a temporary file\n",
        "temp_file_path = 'temp_dataset_file.txt'\n",
        "with open(temp_file_path, 'w', encoding='utf-8') as file:\n",
        "    for text in texts:\n",
        "        file.write(text + '\\n')"
      ],
      "metadata": {
        "id": "FEMgWo-iBQKy"
      },
      "execution_count": null,
      "outputs": []
    },
    {
      "cell_type": "markdown",
      "source": [
        "## Training a WordPiece Tokenizer"
      ],
      "metadata": {
        "id": "mQVaaNaqcS3z"
      }
    },
    {
      "cell_type": "code",
      "source": [
        "# Training a WordPiece Tokenizer\n",
        "files = [temp_file_path]\n",
        "# Parameters for Tokenizer Training\n",
        "vocab_size = 30_522\n",
        "min_frequency = 2\n",
        "max_length = 512\n",
        "special_tokens = [\"[PAD]\", \"[MASK]\", \"[CLS]\", \"[SEP]\", \"[UNK]\"]\n",
        "\n",
        "# Initialize the WordPiece tokenizer for BERT\n",
        "tokenizer = BertWordPieceTokenizer()\n",
        "\n",
        "# Train the tokenizer\n",
        "tokenizer.train(\n",
        "    files=files,\n",
        "    vocab_size=vocab_size,\n",
        "    min_frequency=min_frequency,\n",
        "    show_progress=True,\n",
        "    special_tokens=special_tokens,\n",
        ")\n",
        "\n",
        "# enable truncation up to the maximum 512 tokens\n",
        "tokenizer.enable_truncation(max_length=max_length)\n",
        "\n",
        "# Save the trained tokenizer\n",
        "# model_path = \"pretrained_bert_tokenizer\"\n",
        "# # make the directory if not already there\n",
        "# if not os.path.isdir(model_path):\n",
        "#     os.mkdir(model_path)\n",
        "\n",
        "# Save the trained tokenizer\n",
        "tokenizer.save_model(tokenizer_output_dir)\n",
        "\n",
        "# Clean up: Remove the temporary file\n",
        "os.remove(temp_file_path)"
      ],
      "metadata": {
        "id": "NAR_HRMUeKQ0"
      },
      "execution_count": null,
      "outputs": []
    },
    {
      "cell_type": "markdown",
      "source": [
        "## tokenizing the dataset"
      ],
      "metadata": {
        "id": "OMN7ZPxZUW1h"
      }
    },
    {
      "cell_type": "code",
      "source": [
        "vocab_size = 30_522\n",
        "min_frequency = 2\n",
        "max_length = 512\n",
        "special_tokens = [\"[PAD]\", \"[MASK]\", \"[CLS]\", \"[SEP]\", \"[UNK]\"]"
      ],
      "metadata": {
        "id": "UfYhegJ4gmCs"
      },
      "execution_count": null,
      "outputs": []
    },
    {
      "cell_type": "code",
      "source": [
        "from transformers import BertTokenizerFast\n",
        "# Load the tokenizer\n",
        "tokenizer = BertTokenizerFast.from_pretrained(tokenizer_output_dir)"
      ],
      "metadata": {
        "id": "NTca4f6UG5FM"
      },
      "execution_count": null,
      "outputs": []
    },
    {
      "cell_type": "code",
      "source": [
        "max_sequence_length = max_length\n",
        "\n",
        "# Define a custom tokenize function\n",
        "def tokenize_function(example):\n",
        "    # Ensure that the \"text\" field is a string\n",
        "    if not isinstance(example[\"text\"], str):\n",
        "        raise TypeError(\"Input 'text' must be a string.\")\n",
        "\n",
        "    # Tokenize the text using BertTokenizerFast\n",
        "    encoded = tokenizer(example[\"text\"], truncation=True, padding='max_length',\n",
        "                        return_special_tokens_mask=True,\n",
        "                        max_length=max_sequence_length, return_tensors='pt')\n",
        "\n",
        "    return {\n",
        "        'input_ids': encoded['input_ids'].squeeze(),\n",
        "        'attention_mask': encoded['attention_mask'].squeeze(),\n",
        "    }\n",
        "\n",
        "# Use the map function to tokenize the \"train\" split\n",
        "tokenized_train_dataset = dataset['train'].select(list(range(10000))).map(tokenize_function, num_proc=4)\n",
        "tokenized_test_dataset = dataset['test'].select(list(range(10000))).map(tokenize_function, num_proc=4)"
      ],
      "metadata": {
        "id": "MNPb5yoRHkd8",
        "outputId": "04c3fc7f-cb89-4aa6-9f97-ad6f344bcd06",
        "colab": {
          "base_uri": "https://localhost:8080/",
          "height": 81,
          "referenced_widgets": [
            "d74b78b1e87b4c77a78732a50a6eb57a",
            "9a01a8fddb1e46b28fbd22425ba62e7b",
            "60b2026862e1428fafeb75cfab054654",
            "7a8dbef72a9443dcac29d659504d8385",
            "34c58665088f457fa367529d96405f4b",
            "ec4a5f7bc26240b0a016521f63e3bb55",
            "5b5a5cc0b0384c0285728cd9112cc649",
            "e15ab2e44c2c4e68bc9c678afe3ffb64",
            "2e938761a39743d4a7e2442992e72b8f",
            "d6d94501e79e4f0687c024ac639ade13",
            "6c3521fdb45441d0a270e129da2aa904",
            "54c2dafdf2344ae3913e059bc53bb3b6",
            "da3866198ac743d4b69898b1bf811a28",
            "911e04ffffa042b2a5c94dcb57c0d98c",
            "1a66f7c0f2624389a89c34b86e8e9910",
            "ca4f0631c84c4ea7b1bbddb3de55feb8",
            "10686b01d32147dd976d2ac8d639198e",
            "ce4665026aa54a01b0a55b602c138c50",
            "78be9ba127624c8f9470a2e57d3bdb70",
            "d2013ce4bba94d609889e6fc0e6259c4",
            "c5bc4f891cf44ce491d4bb506332149b",
            "743365759b77492fae7bce6ac5427659"
          ]
        }
      },
      "execution_count": null,
      "outputs": [
        {
          "output_type": "display_data",
          "data": {
            "text/plain": [
              "Map (num_proc=4):   0%|          | 0/10000 [00:00<?, ? examples/s]"
            ],
            "application/vnd.jupyter.widget-view+json": {
              "version_major": 2,
              "version_minor": 0,
              "model_id": "d74b78b1e87b4c77a78732a50a6eb57a"
            }
          },
          "metadata": {}
        },
        {
          "output_type": "display_data",
          "data": {
            "text/plain": [
              "Map (num_proc=4):   0%|          | 0/10000 [00:00<?, ? examples/s]"
            ],
            "application/vnd.jupyter.widget-view+json": {
              "version_major": 2,
              "version_minor": 0,
              "model_id": "54c2dafdf2344ae3913e059bc53bb3b6"
            }
          },
          "metadata": {}
        }
      ]
    },
    {
      "cell_type": "code",
      "source": [
        "tokenized_train_dataset.set_format(type=\"torch\", columns=[\"input_ids\", \"attention_mask\"])\n",
        "tokenized_test_dataset.set_format(type=\"torch\", columns=[\"input_ids\", \"attention_mask\"])"
      ],
      "metadata": {
        "id": "g3-xImdf6qa4"
      },
      "execution_count": null,
      "outputs": []
    },
    {
      "cell_type": "markdown",
      "source": [
        "## Model Configuration"
      ],
      "metadata": {
        "id": "2YE7XMK3oyV5"
      }
    },
    {
      "cell_type": "code",
      "source": [
        "# Model Configuration\n",
        "model_config = BertConfig(\n",
        "    vocab_size=vocab_size,\n",
        "    hidden_size=768,  # Adjust as needed\n",
        "    num_attention_heads=12,  # Adjust as needed\n",
        "    num_hidden_layers=12,  # Adjust as needed\n",
        "    max_position_embeddings=max_length,\n",
        ")\n",
        "# Model Initialization\n",
        "model = BertForMaskedLM(config=model_config)"
      ],
      "metadata": {
        "id": "nzfssSTjox4G"
      },
      "execution_count": null,
      "outputs": []
    },
    {
      "cell_type": "markdown",
      "source": [
        "## Data Collator\n",
        "Load your dataset using Hugging Face datasets library"
      ],
      "metadata": {
        "id": "DpFTJ6GlqVO4"
      }
    },
    {
      "cell_type": "code",
      "source": [
        "from transformers import DataCollatorForLanguageModeling\n",
        "\n",
        "data_collator = DataCollatorForLanguageModeling(\n",
        "    tokenizer=tokenizer, mlm=True, mlm_probability=0.2\n",
        "    )"
      ],
      "metadata": {
        "id": "4-riYML0qUE-"
      },
      "execution_count": null,
      "outputs": []
    },
    {
      "cell_type": "markdown",
      "source": [
        "## Training Arguments"
      ],
      "metadata": {
        "id": "6Hg-h567qan-"
      }
    },
    {
      "cell_type": "code",
      "source": [
        "# Training Arguments\n",
        "training_args = TrainingArguments(\n",
        "    output_dir=pretrained_model_output_dir, # output directory to where save model checkpoint\n",
        "    overwrite_output_dir=True,\n",
        "    num_train_epochs=10,                    # number of training epochs, feel free to tweak\n",
        "    per_device_train_batch_size=10,         # the training batch size, put it as high as your GPU memory fits\n",
        "    gradient_accumulation_steps=8,          # accumulating the gradients before updating the weights\n",
        "    per_device_eval_batch_size=64,          # evaluation batch size\n",
        "    logging_steps=1000,                     # evaluate, log and save model checkpoints every 1000 step\n",
        "    save_steps=1000,\n",
        "    save_total_limit=3,                     # whether you don't have much space so you let only 3 model weights saved in the disk\n",
        "    evaluation_strategy=\"steps\",            # evaluate each `logging_steps` steps\n",
        "    eval_steps=500,\n",
        ")"
      ],
      "metadata": {
        "id": "TE9jzlriqaJn"
      },
      "execution_count": null,
      "outputs": []
    },
    {
      "cell_type": "markdown",
      "source": [
        "## Trainer Initialization"
      ],
      "metadata": {
        "id": "8rks357Xqlwr"
      }
    },
    {
      "cell_type": "code",
      "source": [
        "# Trainer Initialization\n",
        "trainer = Trainer(\n",
        "    model = model,\n",
        "    args = training_args,\n",
        "    train_dataset = tokenized_train_dataset,\n",
        "    eval_dataset = tokenized_test_dataset,\n",
        "    data_collator = data_collator,\n",
        ")"
      ],
      "metadata": {
        "id": "cQ5tOP5Wqkd5"
      },
      "execution_count": null,
      "outputs": []
    },
    {
      "cell_type": "code",
      "source": [
        "# Train the model\n",
        "trainer.train()\n",
        "\n",
        "# Save the final pre-trained model\n",
        "trainer.save_model(os.path.join(pretrained_model_output_dir, \"final_model\"))"
      ],
      "metadata": {
        "id": "uDDwOIvYqwdD"
      },
      "execution_count": null,
      "outputs": []
    },
    {
      "cell_type": "markdown",
      "source": [
        "##Saving the model\n",
        "First zip the model_dir then move it to google drive"
      ],
      "metadata": {
        "id": "THlD8PANBB9Y"
      }
    },
    {
      "cell_type": "code",
      "source": [
        "import shutil\n",
        "\n",
        "source_dir = '/content/bert_pretrained_model'\n",
        "output_filename = 'bert_pretrained_model'\n",
        "\n",
        "# Create a Zip file\n",
        "shutil.make_archive(output_filename, 'zip', source_dir)"
      ],
      "metadata": {
        "id": "Q7EeRx_XDB2i",
        "outputId": "547ed81a-a1c0-465d-9a69-3f6c26e48e72",
        "colab": {
          "base_uri": "https://localhost:8080/",
          "height": 35
        }
      },
      "execution_count": null,
      "outputs": [
        {
          "output_type": "execute_result",
          "data": {
            "text/plain": [
              "'/content/bert_pretrained_model.zip'"
            ],
            "application/vnd.google.colaboratory.intrinsic+json": {
              "type": "string"
            }
          },
          "metadata": {},
          "execution_count": 17
        }
      ]
    },
    {
      "cell_type": "code",
      "source": [
        "from google.colab import drive\n",
        "\n",
        "# Mount Google Drive\n",
        "drive.mount('/content/drive')\n",
        "\n",
        "# Move the zip file to Google Drive\n",
        "drive_path = '/content/drive/MyDrive/'\n",
        "output_filename = '/content/bert_pretrained_model.zip'\n",
        "shutil.move(output_filename, drive_path)"
      ],
      "metadata": {
        "id": "CftFhY70Fdtp",
        "outputId": "442be96a-d04e-4054-84b5-9df7ba744833",
        "colab": {
          "base_uri": "https://localhost:8080/",
          "height": 53
        }
      },
      "execution_count": null,
      "outputs": [
        {
          "output_type": "stream",
          "name": "stdout",
          "text": [
            "Mounted at /content/drive\n"
          ]
        },
        {
          "output_type": "execute_result",
          "data": {
            "text/plain": [
              "'/content/drive/MyDrive/bert_pretrained_model.zip'"
            ],
            "application/vnd.google.colaboratory.intrinsic+json": {
              "type": "string"
            }
          },
          "metadata": {},
          "execution_count": 19
        }
      ]
    },
    {
      "cell_type": "markdown",
      "source": [
        "#Fine-Tuning BERT"
      ],
      "metadata": {
        "id": "KuaSg6eU55ft"
      }
    },
    {
      "cell_type": "markdown",
      "source": [
        "##Import the dataset for SA task"
      ],
      "metadata": {
        "id": "5KXoCPeLKRqT"
      }
    },
    {
      "cell_type": "code",
      "source": [
        "!pip install hazm\n",
        "!pip install stopwords_guilannlp"
      ],
      "metadata": {
        "id": "KiBS2FmXKXbG",
        "outputId": "b25b0d95-a6af-4c91-f3a7-a0dda1d92487",
        "colab": {
          "base_uri": "https://localhost:8080/"
        }
      },
      "execution_count": 5,
      "outputs": [
        {
          "output_type": "stream",
          "name": "stdout",
          "text": [
            "Requirement already satisfied: hazm in /usr/local/lib/python3.10/dist-packages (0.9.4)\n",
            "Requirement already satisfied: fasttext-wheel<0.10.0,>=0.9.2 in /usr/local/lib/python3.10/dist-packages (from hazm) (0.9.2)\n",
            "Requirement already satisfied: flashtext<3.0,>=2.7 in /usr/local/lib/python3.10/dist-packages (from hazm) (2.7)\n",
            "Requirement already satisfied: gensim<5.0.0,>=4.3.1 in /usr/local/lib/python3.10/dist-packages (from hazm) (4.3.2)\n",
            "Requirement already satisfied: nltk<4.0.0,>=3.8.1 in /usr/local/lib/python3.10/dist-packages (from hazm) (3.8.1)\n",
            "Requirement already satisfied: numpy==1.24.3 in /usr/local/lib/python3.10/dist-packages (from hazm) (1.24.3)\n",
            "Requirement already satisfied: python-crfsuite<0.10.0,>=0.9.9 in /usr/local/lib/python3.10/dist-packages (from hazm) (0.9.10)\n",
            "Requirement already satisfied: scikit-learn<2.0.0,>=1.2.2 in /usr/local/lib/python3.10/dist-packages (from hazm) (1.2.2)\n",
            "Requirement already satisfied: pybind11>=2.2 in /usr/local/lib/python3.10/dist-packages (from fasttext-wheel<0.10.0,>=0.9.2->hazm) (2.11.1)\n",
            "Requirement already satisfied: setuptools>=0.7.0 in /usr/local/lib/python3.10/dist-packages (from fasttext-wheel<0.10.0,>=0.9.2->hazm) (67.7.2)\n",
            "Requirement already satisfied: scipy>=1.7.0 in /usr/local/lib/python3.10/dist-packages (from gensim<5.0.0,>=4.3.1->hazm) (1.11.4)\n",
            "Requirement already satisfied: smart-open>=1.8.1 in /usr/local/lib/python3.10/dist-packages (from gensim<5.0.0,>=4.3.1->hazm) (6.4.0)\n",
            "Requirement already satisfied: click in /usr/local/lib/python3.10/dist-packages (from nltk<4.0.0,>=3.8.1->hazm) (8.1.7)\n",
            "Requirement already satisfied: joblib in /usr/local/lib/python3.10/dist-packages (from nltk<4.0.0,>=3.8.1->hazm) (1.3.2)\n",
            "Requirement already satisfied: regex>=2021.8.3 in /usr/local/lib/python3.10/dist-packages (from nltk<4.0.0,>=3.8.1->hazm) (2023.6.3)\n",
            "Requirement already satisfied: tqdm in /usr/local/lib/python3.10/dist-packages (from nltk<4.0.0,>=3.8.1->hazm) (4.66.1)\n",
            "Requirement already satisfied: threadpoolctl>=2.0.0 in /usr/local/lib/python3.10/dist-packages (from scikit-learn<2.0.0,>=1.2.2->hazm) (3.2.0)\n",
            "Requirement already satisfied: stopwords_guilannlp in /usr/local/lib/python3.10/dist-packages (13.2019.3.5)\n"
          ]
        }
      ]
    },
    {
      "cell_type": "markdown",
      "source": [
        "###Import libraries"
      ],
      "metadata": {
        "id": "RVv-vz5FXsPd"
      }
    },
    {
      "cell_type": "code",
      "source": [
        "# General\n",
        "import numpy as np\n",
        "import pandas as pd\n",
        "import codecs\n",
        "\n",
        "# Preprocessing\n",
        "from stopwords_guilannlp import stopwords_output\n",
        "from hazm import *\n",
        "# Visualization\n",
        "%matplotlib inline\n",
        "import matplotlib.pyplot as plt\n",
        "from keras.utils import plot_model\n",
        "# Measuring metrics\n",
        "from sklearn.metrics import f1_score"
      ],
      "metadata": {
        "id": "8HnFAKkOXy7R"
      },
      "execution_count": 6,
      "outputs": []
    },
    {
      "cell_type": "markdown",
      "source": [
        "###Import and analyze SA Dataset"
      ],
      "metadata": {
        "id": "eWRKcCI2YC9D"
      }
    },
    {
      "cell_type": "code",
      "source": [
        "test = pd.read_csv('test.csv', index_col=None, header=None, encoding=\"utf-8\")"
      ],
      "metadata": {
        "id": "WHcZBdR4YIRZ"
      },
      "execution_count": 8,
      "outputs": []
    },
    {
      "cell_type": "code",
      "source": [
        "x_test = test[0]\n",
        "y_test = test[1]\n",
        "print('Number of testing sentence: ', x_test.shape)\n",
        "print('Number of testing label: ', y_test.shape)"
      ],
      "metadata": {
        "id": "45OdozRTYWO4",
        "outputId": "3f3576ba-e62b-406a-9362-91be0dca92a0",
        "colab": {
          "base_uri": "https://localhost:8080/"
        }
      },
      "execution_count": 9,
      "outputs": [
        {
          "output_type": "stream",
          "name": "stdout",
          "text": [
            "Number of testing sentence:  (1854,)\n",
            "Number of testing label:  (1854,)\n"
          ]
        }
      ]
    },
    {
      "cell_type": "code",
      "source": [
        "# create a binarray dataset since the dataset has mutiple labels\n",
        "\n",
        "binary_y_test = []\n",
        "binary_x_test = []\n",
        "for i, y in enumerate(y_test):\n",
        "  if int(y) != 0:\n",
        "    if int(y) > 0:\n",
        "      binary_y_test.append(1)\n",
        "      binary_x_test.append(x_test[i])\n",
        "    else:\n",
        "      binary_y_test.append(0)\n",
        "      binary_x_test.append(x_test[i])\n",
        "\n",
        "# convert them into np arrays\n",
        "x_test = np.asarray(binary_x_test)\n",
        "y_test = np.asarray(binary_y_test)"
      ],
      "metadata": {
        "id": "d-rdDPz4Y9vp"
      },
      "execution_count": 10,
      "outputs": []
    },
    {
      "cell_type": "code",
      "source": [
        "# importing othere datasets\n",
        "original = pd.read_csv('original.csv', index_col=None, header=None, encoding=\"utf-8\")\n",
        "balanced = pd.read_csv('balanced.csv', index_col=None, header=None, encoding=\"utf-8\")\n",
        "translation = pd.read_csv('translation.csv', index_col=None, header=None, encoding=\"utf-8\")"
      ],
      "metadata": {
        "id": "6y93sgB5ZGYa"
      },
      "execution_count": 11,
      "outputs": []
    },
    {
      "cell_type": "code",
      "source": [
        "# we select a dataset to work with\n",
        "selected_dataset = balanced\n",
        "# shuffle the dataframe\n",
        "selected_dataset = selected_dataset.sample(frac=1).reset_index(drop=True)"
      ],
      "metadata": {
        "id": "VOlz06pGZqpk"
      },
      "execution_count": 15,
      "outputs": []
    },
    {
      "cell_type": "code",
      "source": [
        "# creating train data\n",
        "x_train = selected_dataset[0]\n",
        "y_train = selected_dataset[1]\n",
        "print('Number of training sentence: ', x_train.shape)\n",
        "print('Number of training label: ', y_train.shape)"
      ],
      "metadata": {
        "id": "KQ-rqgTUaUBb",
        "outputId": "2b78ae8b-ec29-4c97-b4a7-46f2afb4ace2",
        "colab": {
          "base_uri": "https://localhost:8080/"
        }
      },
      "execution_count": 16,
      "outputs": [
        {
          "output_type": "stream",
          "name": "stdout",
          "text": [
            "Number of training sentence:  (7023,)\n",
            "Number of training label:  (7023,)\n"
          ]
        }
      ]
    },
    {
      "cell_type": "code",
      "source": [
        "# again make our dataset binarray\n",
        "\n",
        "binary_y_train = []\n",
        "binary_x_train = []\n",
        "for i, y in enumerate(y_train):\n",
        "  if int(y) != 0:\n",
        "    if int(y) > 0:\n",
        "      binary_y_train.append(1)\n",
        "      binary_x_train.append(x_train[i])\n",
        "    else:\n",
        "      binary_y_train.append(0)\n",
        "      binary_x_train.append(x_train[i])\n",
        "\n",
        "# Convert dataframes to numpy arrays\n",
        "x_train = np.asarray(binary_x_train)\n",
        "y_train = np.asarray(binary_y_train)\n"
      ],
      "metadata": {
        "id": "VQ0ymap4ad2A"
      },
      "execution_count": 17,
      "outputs": []
    },
    {
      "cell_type": "markdown",
      "source": [
        "###Plot some information about our downstream task dataset\n"
      ],
      "metadata": {
        "id": "5pamgbnsa4Ay"
      }
    },
    {
      "cell_type": "code",
      "source": [
        "from collections import Counter\n",
        "\n",
        "# See the data number of sentence in each category\n",
        "cnt = Counter(y_train)\n",
        "cnt = dict(cnt)\n",
        "print(cnt)\n",
        "\n",
        "labels = list(cnt.keys())\n",
        "sizes = list(cnt.values())\n",
        "colors = ['#3fba36', '#66b3ff','#ffcc99','#ff9999', '#d44444']\n",
        "fig1, ax1 = plt.subplots()\n",
        "ax1.pie(sizes, labels=labels, colors=colors,\n",
        "        autopct='%1.1f%%', startangle=90)\n",
        "#draw circle\n",
        "centre_circle = plt.Circle((0,0),0.70,fc='white')\n",
        "fig = plt.gcf()\n",
        "fig.gca().add_artist(centre_circle)\n",
        "# Equal aspect ratio ensures that pie is drawn as a circle\n",
        "ax1.axis('equal')\n",
        "plt.tight_layout()\n",
        "# Decomment following line if you want to save the figure\n",
        "# plt.savefig('distribution.png')\n",
        "plt.show()\n"
      ],
      "metadata": {
        "id": "iU7dIFSJa8FX",
        "outputId": "1b075e6d-468e-440e-d48d-3d8b1afffa29",
        "colab": {
          "base_uri": "https://localhost:8080/",
          "height": 505
        }
      },
      "execution_count": 18,
      "outputs": [
        {
          "output_type": "stream",
          "name": "stdout",
          "text": [
            "{1: 3928, 0: 1095}\n"
          ]
        },
        {
          "output_type": "display_data",
          "data": {
            "text/plain": [
              "<Figure size 640x480 with 1 Axes>"
            ],
            "image/png": "[encoded data removed]"
          },
          "metadata": {}
        }
      ]
    },
    {
      "cell_type": "markdown",
      "source": [
        "###Preprocessing"
      ],
      "metadata": {
        "id": "T5nekz5PbKFC"
      }
    },
    {
      "cell_type": "code",
      "source": [
        "puncs = ['،', '.', ',', ':', ';', '\"']\n",
        "normalizer = Normalizer()\n",
        "lemmatizer = Lemmatizer()\n",
        "\n",
        "# turn a doc into clean tokens\n",
        "def clean_doc(doc):\n",
        "    doc = normalizer.normalize(doc) # Normalize document using Hazm Normalizer\n",
        "    tokenized = word_tokenize(doc)  # Tokenize text\n",
        "    tokens = []\n",
        "    for t in tokenized:\n",
        "      temp = t\n",
        "      for p in puncs:\n",
        "        temp = temp.replace(p, '')\n",
        "      tokens.append(temp)\n",
        "    # tokens = [w for w in tokens if not w in stop_set]    # Remove stop words\n",
        "    tokens = [w for w in tokens if not len(w) <= 1]\n",
        "    tokens = [w for w in tokens if not w.isdigit()]\n",
        "    tokens = [lemmatizer.lemmatize(w) for w in tokens] # Lemmatize sentence words using Hazm Lemmatizer\n",
        "    tokens = ' '.join(tokens)\n",
        "    return tokens"
      ],
      "metadata": {
        "id": "EcB6r4iJbOnD"
      },
      "execution_count": 19,
      "outputs": []
    },
    {
      "cell_type": "code",
      "source": [
        "# Apply preprocessing step to training data\n",
        "train_docs = np.empty_like(x_train)\n",
        "for index, document in enumerate(x_train):\n",
        "  train_docs[index] = clean_doc(document)\n",
        "\n",
        "# Applying preprocessing step to test data\n",
        "test_docs = np.empty_like(x_test)\n",
        "for index, document in enumerate(x_test):\n",
        "  test_docs[index] = clean_doc(document)"
      ],
      "metadata": {
        "id": "V9znGXHjbeHu"
      },
      "execution_count": 20,
      "outputs": []
    },
    {
      "cell_type": "markdown",
      "source": [
        "##Load the model\n",
        "Import the model from google drive, and then unzip it"
      ],
      "metadata": {
        "id": "N99MIy2UBS-w"
      }
    },
    {
      "cell_type": "code",
      "source": [
        "import zipfile\n",
        "import os\n",
        "from google.colab import drive\n",
        "\n",
        "# Mount Google Drive\n",
        "drive.mount('/content/drive')\n",
        "zip_file_path = '/content/drive/MyDrive/bert_pretrained_model.zip'\n",
        "# Create a directory to extract the contents\n",
        "extract_path = '/content/bert_pretrained_model/'\n",
        "os.makedirs(extract_path, exist_ok=True)\n",
        "\n",
        "# Extract the contents of the zip file\n",
        "with zipfile.ZipFile(zip_file_path, 'r') as zip_ref:\n",
        "    zip_ref.extractall(extract_path)"
      ],
      "metadata": {
        "id": "RNkGYnUx5Pc-",
        "outputId": "fa6c3b08-3542-48b9-ae88-0328f5af1648",
        "colab": {
          "base_uri": "https://localhost:8080/"
        }
      },
      "execution_count": 21,
      "outputs": [
        {
          "output_type": "stream",
          "name": "stdout",
          "text": [
            "Mounted at /content/drive\n"
          ]
        }
      ]
    },
    {
      "cell_type": "markdown",
      "source": [
        "###Now loading the model and tokenizer\n",
        "For tokenizer we should make a dir and upload the vocab.txt we previously achieved, there. I did this manually"
      ],
      "metadata": {
        "id": "JY7tkKBKCgd0"
      }
    },
    {
      "cell_type": "code",
      "source": [
        "import torch\n",
        "import torch.nn as nn\n",
        "\n",
        "device = \"cuda\" if torch.cuda.is_available() else \"cpu\""
      ],
      "metadata": {
        "id": "p-4bfpWaKjbg"
      },
      "execution_count": 22,
      "outputs": []
    },
    {
      "cell_type": "code",
      "source": [
        "from transformers import BertForMaskedLM\n",
        "\n",
        "# Load the saved BERT model\n",
        "bert_model = BertModel.from_pretrained(os.path.join(\"bert_pretrained_model\", \"final_model\"))"
      ],
      "metadata": {
        "id": "6UT4kZxrh-xC",
        "outputId": "2d070301-5c09-4ea0-f2fe-4c000aefca34",
        "colab": {
          "base_uri": "https://localhost:8080/"
        }
      },
      "execution_count": 67,
      "outputs": [
        {
          "output_type": "stream",
          "name": "stderr",
          "text": [
            "Some weights of BertModel were not initialized from the model checkpoint at bert_pretrained_model/final_model and are newly initialized: ['bert.pooler.dense.weight', 'bert.pooler.dense.bias']\n",
            "You should probably TRAIN this model on a down-stream task to be able to use it for predictions and inference.\n"
          ]
        }
      ]
    },
    {
      "cell_type": "code",
      "source": [
        "tokenizer_output_dir = \"bert_tokenizer\"\n",
        "os.mkdir(tokenizer_output_dir)"
      ],
      "metadata": {
        "id": "eKp45l-36QwJ"
      },
      "execution_count": 24,
      "outputs": []
    },
    {
      "cell_type": "code",
      "source": [
        "from transformers import BertTokenizerFast\n",
        "# Load the tokenizer\n",
        "tokenizer = BertTokenizerFast.from_pretrained(tokenizer_output_dir)"
      ],
      "metadata": {
        "id": "7lcbKQ_K6H2F"
      },
      "execution_count": 25,
      "outputs": []
    },
    {
      "cell_type": "markdown",
      "source": [
        "##Classifiers"
      ],
      "metadata": {
        "id": "pOAGTvarjFfy"
      }
    },
    {
      "cell_type": "markdown",
      "source": [
        "###Define the classifier"
      ],
      "metadata": {
        "id": "y1MLbNkbzhh_"
      }
    },
    {
      "cell_type": "code",
      "source": [
        "# Define your MLP classifier\n",
        "import torch.nn as nn\n",
        "\n",
        "class MLPClassifier(nn.Module):\n",
        "  def __init__(self, input_size, hidden_size, output_size):\n",
        "    super().__init__()\n",
        "    self.mlp = nn.Sequential(\n",
        "        nn.Linear(input_size, hidden_size),\n",
        "        nn.ReLU(),\n",
        "        # nn.Linear(hidden_size, 32),\n",
        "        # nn.ReLU(),\n",
        "        nn.Linear(hidden_size, output_size),\n",
        "        #nn.Sigmoid()\n",
        "    )\n",
        "\n",
        "  def forward(self, x):\n",
        "    return self.mlp(x)"
      ],
      "metadata": {
        "id": "Iw7WqkQk1wci"
      },
      "execution_count": 31,
      "outputs": []
    },
    {
      "cell_type": "code",
      "source": [
        "# import torch\n",
        "# import torch.nn as nn\n",
        "\n",
        "# # Define your classifier (MLP)\n",
        "# class MLPClassifier(nn.Module):\n",
        "#   def __init__(self, input_size: int, output_size: int, hidden_units_list: list):\n",
        "#     super().__init__()\n",
        "#     layers = []\n",
        "\n",
        "#     # Add input layer\n",
        "#     layers.append(nn.Linear(input_size, hidden_units_list[0]))\n",
        "#     layers.append(nn.ReLU())\n",
        "#     layers.append(nn.Dropout(p=0.1))\n",
        "\n",
        "#     # Add hidden layers\n",
        "#     for i in range(1, len(hidden_units_list)):\n",
        "#       layers.append(nn.Linear(hidden_units_list[i - 1], hidden_units_list[i]))\n",
        "#       layers.append(nn.ReLU())\n",
        "#       #layers.append(nn.Dropout(p=0.2))\n",
        "\n",
        "#     # Add output layer\n",
        "#     layers.append(nn.Linear(hidden_units_list[-1], output_size))\n",
        "\n",
        "#     self.model = nn.Sequential(*layers)\n",
        "\n",
        "#   def forward(self, x):\n",
        "#     return self.model(x)"
      ],
      "metadata": {
        "id": "UY6E1e-czkVs"
      },
      "execution_count": null,
      "outputs": []
    },
    {
      "cell_type": "markdown",
      "source": [
        "###Set Parameters and Tokenize Data"
      ],
      "metadata": {
        "id": "g9Z3Dp340P6H"
      }
    },
    {
      "cell_type": "code",
      "source": [
        "# Assuming pooled_representation has been computed\n",
        "vocab_size = 30522\n",
        "batch_size = 256\n",
        "\n",
        "# Tokenize train_docs and test_docs using the trained tokenizer\n",
        "train_tokenized = tokenizer(train_docs.tolist(),max_length=512, truncation=True, padding=True,\n",
        "                            return_tensors='pt')\n",
        "\n",
        "test_tokenized = tokenizer(test_docs.tolist(),max_length=512, truncation=True, padding=True,\n",
        "                           return_tensors='pt')"
      ],
      "metadata": {
        "id": "FgqwDmcD0Qdl"
      },
      "execution_count": 27,
      "outputs": []
    },
    {
      "cell_type": "markdown",
      "source": [
        "###Create a custom dataset\n"
      ],
      "metadata": {
        "id": "QYTAFA8A1CM5"
      }
    },
    {
      "cell_type": "code",
      "source": [
        "from torch.utils.data import DataLoader , Dataset\n",
        "# Create custom dataset\n",
        "class CustomDataset(Dataset):\n",
        "    def __init__(self, inputs, labels):\n",
        "        self.inputs = inputs\n",
        "        self.labels = labels\n",
        "\n",
        "    def __len__(self):\n",
        "        return len(self.inputs[\"input_ids\"])\n",
        "\n",
        "    def __getitem__(self, idx):\n",
        "        return {\n",
        "            \"input_ids\": self.inputs[\"input_ids\"][idx],\n",
        "            \"attention_mask\": self.inputs[\"attention_mask\"][idx],\n",
        "            \"labels\": torch.tensor(self.labels[idx], dtype=torch.float32)\n",
        "        }\n",
        "\n",
        "# Create DataLoader\n",
        "train_dataset = CustomDataset(train_tokenized, y_train)\n",
        "train_loader = DataLoader(train_dataset, batch_size=batch_size, shuffle=True)\n",
        "\n",
        "# Create DataLoader\n",
        "test_dataset = CustomDataset(test_tokenized, y_test)\n",
        "test_loader = DataLoader(test_dataset, batch_size=batch_size, shuffle=False)"
      ],
      "metadata": {
        "id": "c8kQwub71EwQ"
      },
      "execution_count": 28,
      "outputs": []
    },
    {
      "cell_type": "markdown",
      "source": [
        "###Initialize MLP Classifier and Define Loss Function and Optimizer"
      ],
      "metadata": {
        "id": "zkU0teGJ1gYj"
      }
    },
    {
      "cell_type": "code",
      "source": [
        "# Initialize MLP classifier\n",
        "input_size = bert_model.config.hidden_size  # Get the size of the pooled representation\n",
        "hidden_units = 256  # Adjust as needed\n",
        "output_size = 1  # Binary classification, 1 output unit\n",
        "learning_rate = 0.01\n",
        "classifier = MLPClassifier(input_size=input_size, hidden_size=hidden_units, output_size=output_size)\n",
        "\n",
        "# Move your model and data loaders to the selected device\n",
        "bert_model.to(device)\n",
        "classifier.to(device)\n",
        "\n",
        "# Freeze all BERT layers\n",
        "for param in bert_model.parameters():\n",
        "    param.requires_grad = False\n",
        "\n",
        "# Unfreeze the pooler layer\n",
        "for param in bert_model.pooler.parameters():\n",
        "    param.requires_grad = True\n",
        "\n",
        "\n",
        "# BCE loss\n",
        "criterion = torch.nn.BCEWithLogitsLoss()\n",
        "# Specify the parameters to be optimized\n",
        "optimizer = torch.optim.AdamW([\n",
        "    {'params': bert_model.pooler.parameters(), 'lr': learning_rate},\n",
        "    {'params': classifier.parameters(), 'lr': learning_rate},\n",
        "])"
      ],
      "metadata": {
        "id": "exuhPF3l1h60"
      },
      "execution_count": 68,
      "outputs": []
    },
    {
      "cell_type": "markdown",
      "source": [
        "###Training loop"
      ],
      "metadata": {
        "id": "oEI_ZWF92Iy5"
      }
    },
    {
      "cell_type": "code",
      "source": [
        "learning_rate = 0.01\n",
        "optimizer = torch.optim.AdamW([\n",
        "    {'params': bert_model.pooler.parameters(), 'lr': learning_rate},\n",
        "    {'params': classifier.parameters(), 'lr': learning_rate},\n",
        "])"
      ],
      "metadata": {
        "id": "ggVS6VAzbHxJ"
      },
      "execution_count": null,
      "outputs": []
    },
    {
      "cell_type": "code",
      "source": [
        "accumulation_steps = 8  # Accumulate gradients over 8 batches\n",
        "\n",
        "for epoch in range(5):\n",
        "\n",
        "    bert_model.train()\n",
        "    classifier.train()\n",
        "\n",
        "    train_loss = 0.0\n",
        "    test_loss = 0.0\n",
        "    print(\"epoch = \", epoch + 1)\n",
        "    print(\"---------------------------------------\")\n",
        "\n",
        "    # Training\n",
        "    for batch_idx, batch in enumerate(train_loader):\n",
        "        inputs = batch[\"input_ids\"].to(device)\n",
        "        attention_mask = batch[\"attention_mask\"].to(device)\n",
        "        labels = batch[\"labels\"].to(device)\n",
        "\n",
        "        bert_outputs = bert_model(input_ids=inputs, attention_mask=attention_mask)\n",
        "        bert_last_hidden_states = bert_outputs.last_hidden_state\n",
        "        classifier_outputs = classifier(bert_last_hidden_states[:, 0, :])\n",
        "        loss = criterion(classifier_outputs, labels.unsqueeze(dim=1))\n",
        "        loss = loss / accumulation_steps  # Normalize the loss if using gradient accumulation\n",
        "        loss.backward()\n",
        "\n",
        "        # Update parameters every accumulation_steps batches\n",
        "        if (batch_idx + 1) % accumulation_steps == 0 or batch_idx == len(train_loader) - 1:\n",
        "            optimizer.zero_grad()\n",
        "            optimizer.step()\n",
        "\n",
        "        train_loss += loss.item()\n",
        "\n",
        "    # Calculate average loss per batch for training\n",
        "    train_loss = train_loss / len(train_loader)\n",
        "    print(f\"train loss per batch = {train_loss}\")\n",
        "\n",
        "    # Validation\n",
        "    bert_model.eval()\n",
        "    classifier.eval()\n",
        "\n",
        "    with torch.inference_mode():\n",
        "        for batch_idx, batch in enumerate(test_loader):\n",
        "            inputs = batch[\"input_ids\"].to(device)\n",
        "            attention_mask = batch[\"attention_mask\"].to(device)\n",
        "            labels = batch[\"labels\"].to(device)\n",
        "\n",
        "            bert_outputs = bert_model(input_ids=inputs, attention_mask=attention_mask)\n",
        "            bert_last_hidden_states = bert_outputs.last_hidden_state\n",
        "            classifier_outputs = classifier(bert_last_hidden_states[:, 0, :])\n",
        "            loss = criterion(classifier_outputs, labels.unsqueeze(dim=1))\n",
        "            test_loss += loss.item()\n",
        "\n",
        "        # Calculate average loss per batch for testing\n",
        "        test_loss = test_loss / len(test_loader)\n",
        "        print(f\"test loss per batch = {test_loss}\")\n"
      ],
      "metadata": {
        "id": "cycH_cfG5dGm",
        "outputId": "4527a010-f309-4f04-fcae-5f96bc252182",
        "colab": {
          "base_uri": "https://localhost:8080/",
          "height": 514
        }
      },
      "execution_count": 69,
      "outputs": [
        {
          "output_type": "stream",
          "name": "stdout",
          "text": [
            "epoch =  1\n",
            "---------------------------------------\n",
            "train loss per batch = 0.10566264055669308\n",
            "test loss per batch = 0.8698813319206238\n",
            "epoch =  2\n",
            "---------------------------------------\n",
            "train loss per batch = 0.10562052763998508\n",
            "test loss per batch = 0.8698813319206238\n",
            "epoch =  3\n",
            "---------------------------------------\n",
            "train loss per batch = 0.10548058971762657\n",
            "test loss per batch = 0.8698813319206238\n",
            "epoch =  4\n",
            "---------------------------------------\n"
          ]
        },
        {
          "output_type": "error",
          "ename": "KeyboardInterrupt",
          "evalue": "ignored",
          "traceback": [
            "\u001b[0;31m---------------------------------------------------------------------------\u001b[0m",
            "\u001b[0;31mKeyboardInterrupt\u001b[0m                         Traceback (most recent call last)",
            "\u001b[0;32m<ipython-input-69-119b5fa50dc6>\u001b[0m in \u001b[0;36m<cell line: 3>\u001b[0;34m()\u001b[0m\n\u001b[1;32m     29\u001b[0m             \u001b[0moptimizer\u001b[0m\u001b[0;34m.\u001b[0m\u001b[0mstep\u001b[0m\u001b[0;34m(\u001b[0m\u001b[0;34m)\u001b[0m\u001b[0;34m\u001b[0m\u001b[0;34m\u001b[0m\u001b[0m\n\u001b[1;32m     30\u001b[0m \u001b[0;34m\u001b[0m\u001b[0m\n\u001b[0;32m---> 31\u001b[0;31m         \u001b[0mtrain_loss\u001b[0m \u001b[0;34m+=\u001b[0m \u001b[0mloss\u001b[0m\u001b[0;34m.\u001b[0m\u001b[0mitem\u001b[0m\u001b[0;34m(\u001b[0m\u001b[0;34m)\u001b[0m\u001b[0;34m\u001b[0m\u001b[0;34m\u001b[0m\u001b[0m\n\u001b[0m\u001b[1;32m     32\u001b[0m \u001b[0;34m\u001b[0m\u001b[0m\n\u001b[1;32m     33\u001b[0m     \u001b[0;31m# Calculate average loss per batch for training\u001b[0m\u001b[0;34m\u001b[0m\u001b[0;34m\u001b[0m\u001b[0m\n",
            "\u001b[0;31mKeyboardInterrupt\u001b[0m: "
          ]
        }
      ]
    },
    {
      "cell_type": "code",
      "source": [],
      "metadata": {
        "id": "c_OFYPlF0TI8",
        "outputId": "76c7220e-cca5-425e-834c-c4315fb32324",
        "colab": {
          "base_uri": "https://localhost:8080/"
        }
      },
      "execution_count": 60,
      "outputs": [
        {
          "output_type": "stream",
          "name": "stdout",
          "text": [
            "loss per batch = 0.7996243238449097\n",
            "loss per batch = 0.8043211698532104\n",
            "loss per batch = 0.8022792935371399\n",
            "loss per batch = 0.8174604177474976\n",
            "loss per batch = 0.8042450547218323\n"
          ]
        }
      ]
    },
    {
      "cell_type": "code",
      "source": [
        "outputs.size() , labels.float().unsqueeze(dim =1).size()"
      ],
      "metadata": {
        "id": "0jOrz0AEMhf_",
        "outputId": "05791173-5a73-47a0-b631-179d793df099",
        "colab": {
          "base_uri": "https://localhost:8080/"
        }
      },
      "execution_count": null,
      "outputs": [
        {
          "output_type": "execute_result",
          "data": {
            "text/plain": [
              "(torch.Size([32, 1]), torch.Size([32, 1]))"
            ]
          },
          "metadata": {},
          "execution_count": 85
        }
      ]
    },
    {
      "cell_type": "code",
      "source": [
        "epochs = 3\n",
        "# Training loop\n",
        "classifier.train()\n",
        "# set the train loss value\n",
        "train_loss = 0.0\n",
        "for epoch in range(epochs):\n",
        "    for batch in train_loader:\n",
        "        inputs = batch[\"input_ids\"].to(device)\n",
        "        attention_mask = batch[\"attention_mask\"].to(device)\n",
        "        labels = batch[\"labels\"].to(device)\n",
        "\n",
        "        # Forward pass through BERT\n",
        "        with torch.no_grad():\n",
        "            bert_outputs = bert_model(input_ids=inputs, attention_mask=attention_mask)\n",
        "            pooled_representation = torch.mean(bert_outputs[\"logits\"], dim=1)\n",
        "\n",
        "\n",
        "        # Forward pass through MLP classifier\n",
        "        outputs = classifier(pooled_representation)\n",
        "        # calculate and accumulate the loss\n",
        "        loss = criterion(outputs,labels.float().unsqueeze(dim =1))\n",
        "        train_loss += loss.item()\n",
        "\n",
        "        # set optimizer zero grad\n",
        "        optimizer.zero_grad()\n",
        "\n",
        "        # loss backwards\n",
        "        loss.backward()\n",
        "\n",
        "        # optimizer step\n",
        "        optimizer.step()\n",
        "\n",
        "        # get average loss per batch\n",
        "        train_loss = train_loss / len(train_loader)\n",
        "        break\n",
        "        # # Compute loss and backpropagate\n",
        "        # loss = criterion(outputs, labels)\n",
        "        # optimizer.zero_grad()\n",
        "        # loss.backward()\n",
        "        # optimizer.step()\n"
      ],
      "metadata": {
        "id": "Pb5xjuns2FSa"
      },
      "execution_count": null,
      "outputs": []
    },
    {
      "cell_type": "markdown",
      "source": [
        "###Tokenize the dataset and change labels into tensors"
      ],
      "metadata": {
        "id": "nJ6xeKC8b6Um"
      }
    },
    {
      "cell_type": "code",
      "source": [
        "from torch.utils.data import TensorDataset\n",
        "import torch\n",
        "\n",
        "# Convert labels to PyTorch tensors\n",
        "y_train_tensor = torch.tensor(y_train)\n",
        "y_test_tensor = torch.tensor(y_test)\n",
        "\n",
        "# Create TensorDatasets\n",
        "train_dataset = TensorDataset(train_tokenized['input_ids'], train_tokenized['attention_mask'], y_train_tensor)\n",
        "test_dataset = TensorDataset(test_tokenized['input_ids'], test_tokenized['attention_mask'], y_test_tensor)\n",
        "\n",
        "# Print dimensions and types of the tensors\n",
        "print(\"Train Input IDs Shape:\", train_tokenized['input_ids'].shape)\n",
        "print(\"Train Attention Mask Shape:\", train_tokenized['attention_mask'].shape)\n",
        "print(\"Train Labels Tensor Shape:\", y_train_tensor.shape)\n",
        "\n",
        "print(\"\\nTest Input IDs Shape:\", test_tokenized['input_ids'].shape)\n",
        "print(\"Test Attention Mask Shape:\", test_tokenized['attention_mask'].shape)\n",
        "print(\"Test Labels Tensor Shape:\", y_test_tensor.shape)\n"
      ],
      "metadata": {
        "id": "sh0liooM59PH",
        "outputId": "874ca006-621e-4270-dd80-6eb66b795098",
        "colab": {
          "base_uri": "https://localhost:8080/"
        }
      },
      "execution_count": null,
      "outputs": [
        {
          "output_type": "stream",
          "name": "stdout",
          "text": [
            "Train Input IDs Shape: torch.Size([10046, 512])\n",
            "Train Attention Mask Shape: torch.Size([10046, 512])\n",
            "Train Labels Tensor Shape: torch.Size([10046])\n",
            "\n",
            "Test Input IDs Shape: torch.Size([1111, 512])\n",
            "Test Attention Mask Shape: torch.Size([1111, 512])\n",
            "Test Labels Tensor Shape: torch.Size([1111])\n"
          ]
        }
      ]
    },
    {
      "cell_type": "markdown",
      "source": [
        "###Import libraries"
      ],
      "metadata": {
        "id": "IGixW4zTjTEc"
      }
    },
    {
      "cell_type": "code",
      "source": [
        "import torch\n",
        "from torch.utils.data import Dataset, DataLoader\n",
        "from transformers import BertTokenizerFast, BertForPreTraining, AdamW\n",
        "from sklearn.metrics import f1_score, confusion_matrix\n",
        "from sklearn.model_selection import train_test_split\n",
        "import numpy as np"
      ],
      "metadata": {
        "id": "yapWg_oMjFCJ"
      },
      "execution_count": null,
      "outputs": []
    },
    {
      "cell_type": "markdown",
      "source": [
        "###Making a grid\n",
        "Making a grid to train multiple networks"
      ],
      "metadata": {
        "id": "Pph_Q8_6oOHo"
      }
    },
    {
      "cell_type": "code",
      "source": [
        "param_grid = {\n",
        "  'hidden_units_list': [[32],[64],[128],[256],[512],\n",
        "                        [32,16],\n",
        "                        [64,16],[64,32],\n",
        "                        [128,16],[128,32],[128,64],\n",
        "                        [256,16],[256,32],[256,64],[256,128],\n",
        "                        [512,16],[512,32],[512,64],[512,128],[512,256],\n",
        "                        [512,256,128],[256,128,64],[128,64,32],[512,128,64],[512,128,32],\n",
        "                        [256,128,32],[128,32,32],[512,64,32],[256,64,32]\n",
        "                        ],\n",
        "  'learning_rate': [0.001, 0.01]\n",
        "}"
      ],
      "metadata": {
        "id": "NxCWZvNmoXf6"
      },
      "execution_count": null,
      "outputs": []
    },
    {
      "cell_type": "markdown",
      "source": [
        "###Feed the data to BERT model and get the hidden states"
      ],
      "metadata": {
        "id": "jSqCUGaNr6hT"
      }
    },
    {
      "cell_type": "code",
      "source": [
        "# Set BERT model to evaluation mode\n",
        "model.eval()\n",
        "# Extract input tensors from the BERT model\n",
        "with torch.no_grad():\n",
        "    train_outputs = model(**train_tokenized)\n",
        "    test_outputs = model(**test_tokenized)"
      ],
      "metadata": {
        "id": "UoxZts-AoJVp"
      },
      "execution_count": null,
      "outputs": []
    },
    {
      "cell_type": "code",
      "source": [
        "train_bert_embeddings = train_outputs.last_hidden_state[:, 0, :]  # Assuming you want to use the [CLS] token\n",
        "test_bert_embeddings = test_outputs.last_hidden_state[:, 0, :]"
      ],
      "metadata": {
        "id": "2wyvqZUnssze"
      },
      "execution_count": null,
      "outputs": []
    },
    {
      "cell_type": "markdown",
      "source": [
        "# XLnet pre-training"
      ],
      "metadata": {
        "id": "-MfYj7DL_quy"
      }
    },
    {
      "cell_type": "markdown",
      "source": [
        "## Initial imports"
      ],
      "metadata": {
        "id": "iAYqlgpO_2jc"
      }
    },
    {
      "cell_type": "code",
      "source": [
        "import os\n",
        "from tokenizers import XLNetWordPieceTokenizer\n",
        "from transformers import XLNetLMHeadModel, XLNetConfig\n",
        "from transformers import DataCollatorForLanguageModeling\n",
        "from transformers import Trainer, TrainingArguments\n",
        "from datasets import load_dataset\n",
        "from transformers import TrainerCallback\n",
        "from torch.utils.data import DataLoader\n",
        "import torch\n",
        "import logging"
      ],
      "metadata": {
        "id": "Q_a2uhZI_uxg"
      },
      "execution_count": null,
      "outputs": []
    },
    {
      "cell_type": "markdown",
      "source": [
        "## Importing dataset from huggingface hub"
      ],
      "metadata": {
        "id": "CtClgkDg_7-M"
      }
    },
    {
      "cell_type": "code",
      "source": [
        "from datasets import load_dataset\n",
        "\n",
        "# You should just change this part in order to download your\n",
        "# parts of corpus.\n",
        "indices = {\n",
        "    \"train\": [5, 1, 2],\n",
        "    \"test\": [0, 2]\n",
        "}\n",
        "\n",
        "N_FILES = {\n",
        "    \"train\": 126,\n",
        "    \"test\": 3\n",
        "}\n",
        "_BASE_URL = \"https://huggingface.co/datasets/SLPL/naab/resolve/main/data/\"\n",
        "data_url = {\n",
        "    \"train\": [_BASE_URL + \"train-{:05d}-of-{:05d}.txt\".format(x, N_FILES[\"train\"]) for x in range(N_FILES[\"train\"])],\n",
        "    \"test\": [_BASE_URL + \"test-{:05d}-of-{:05d}.txt\".format(x, N_FILES[\"test\"]) for x in range(N_FILES[\"test\"])],\n",
        "}\n",
        "for index in indices['train']:\n",
        "    assert index < N_FILES['train']\n",
        "for index in indices['test']:\n",
        "    assert index < N_FILES['test']\n",
        "data_files = {\n",
        "    \"train\": [data_url['train'][i] for i in indices['train']],\n",
        "    \"test\": [data_url['test'][i] for i in indices['test']]\n",
        "}\n",
        "print(data_files)\n",
        "dataset = load_dataset('text', data_files=data_files, use_auth_token=False)"
      ],
      "metadata": {
        "id": "0z6R2vpCAnHT"
      },
      "execution_count": null,
      "outputs": []
    },
    {
      "cell_type": "markdown",
      "source": [
        "## Setting paths and file names"
      ],
      "metadata": {
        "id": "5mphNVhBAzeJ"
      }
    },
    {
      "cell_type": "code",
      "source": [
        "# Set your paths and file names\n",
        "data_files = [\"path/to/your_dataset_file.txt\"]\n",
        "tokenizer_output_dir = \"path/to/xlnet_tokenizer\"\n",
        "pretrained_model_output_dir = \"path/to/xlnet_pretrained_model\""
      ],
      "metadata": {
        "id": "aByhMAzwA05r"
      },
      "execution_count": null,
      "outputs": []
    },
    {
      "cell_type": "markdown",
      "source": [
        "## Making files for trainging the tokenizer"
      ],
      "metadata": {
        "id": "9dIpZFyaBBlG"
      }
    },
    {
      "cell_type": "code",
      "source": [
        "# Extract text data from the dataset\n",
        "texts = dataset['train']['text']  # Assuming you have a 'text' column in your dataset\n",
        "\n",
        "# Save the text data to a temporary file\n",
        "temp_file_path = 'temp_dataset_file.txt'\n",
        "with open(temp_file_path, 'w', encoding='utf-8') as file:\n",
        "    for text in texts:\n",
        "        file.write(text + '\\n')\n",
        "\n",
        "# Training a WordPiece Tokenizer\n",
        "files = [temp_file_path]"
      ],
      "metadata": {
        "id": "tfyDSonfBGlX"
      },
      "execution_count": null,
      "outputs": []
    },
    {
      "cell_type": "markdown",
      "source": [
        "## Training a wordPiece Tokenizer"
      ],
      "metadata": {
        "id": "Gv5uHPNKABi3"
      }
    },
    {
      "cell_type": "code",
      "source": [
        "# Training a WordPiece Tokenizer\n",
        "files = [temp_file_path]\n",
        "\n",
        "# Parameters for Tokenizer Training\n",
        "vocab_size = 30000\n",
        "min_frequency = 2\n",
        "max_length = 128\n",
        "special_tokens = [\"<pad>\", \"<mask>\", \"<cls>\", \"<sep>\", \"<unk>\"]\n",
        "\n",
        "# Initialize the WordPiece tokenizer for XLNet\n",
        "tokenizer = XLNetWordPieceTokenizer()\n",
        "\n",
        "# Train the tokenizer\n",
        "tokenizer.train(\n",
        "    files=files,\n",
        "    vocab_size=vocab_size,\n",
        "    min_frequency=min_frequency,\n",
        "    show_progress=True,\n",
        "    special_tokens=special_tokens,\n",
        ")\n",
        "\n",
        "# Save the trained tokenizer\n",
        "tokenizer.save_model(tokenizer_output_dir)\n",
        "\n",
        "# Save the trained tokenizer\n",
        "model_path = \"pretrained_xlnet_tokenizer\"\n",
        "# make the directory if not already there\n",
        "if not os.path.isdir(model_path):\n",
        "    os.mkdir(model_path)\n",
        "\n",
        "# Save the trained tokenizer\n",
        "tokenizer.save_model(tokenizer_output_dir)\n",
        "\n",
        "# Clean up: Remove the temporary file\n",
        "os.remove(temp_file_path)"
      ],
      "metadata": {
        "id": "o-12N2KlA36C"
      },
      "execution_count": null,
      "outputs": []
    },
    {
      "cell_type": "markdown",
      "source": [
        "## Tokenizing the dataset"
      ],
      "metadata": {
        "id": "EbYE8wSRAIGQ"
      }
    },
    {
      "cell_type": "code",
      "source": [
        "# Load tokenizer after training\n",
        "tokenizer = XLNetWordPieceTokenizer(f\"{tokenizer_output_dir}/vocab.json\", f\"{tokenizer_output_dir}/merges.txt\")"
      ],
      "metadata": {
        "id": "Iy-IzsT9BtZF"
      },
      "execution_count": null,
      "outputs": []
    },
    {
      "cell_type": "code",
      "source": [
        "# Tokenizing the data using dataset.map()\n",
        "def tokenize_function(examples):\n",
        "    return tokenizer(examples['text'], padding=True, truncation=True)\n",
        "\n",
        "tokenized_dataset = dataset.map(tokenize_function, batched=True)"
      ],
      "metadata": {
        "id": "jcs811UpB_eL"
      },
      "execution_count": null,
      "outputs": []
    },
    {
      "cell_type": "markdown",
      "source": [
        "## Model Configuration"
      ],
      "metadata": {
        "id": "U6BDKGfdAMLS"
      }
    },
    {
      "cell_type": "code",
      "source": [
        "# Model Configuration\n",
        "model_config = XLNetConfig(\n",
        "    vocab_size=vocab_size,\n",
        "    d_model=768,  # Adjust as needed\n",
        "    n_head=12,  # Adjust as needed\n",
        "    num_layers=12,  # Adjust as needed\n",
        "    max_position_embeddings=max_length,\n",
        ")\n",
        "\n",
        "# Model Initialization\n",
        "model = XLNetLMHeadModel(config=model_config)"
      ],
      "metadata": {
        "id": "HgmQmLs5CChM"
      },
      "execution_count": null,
      "outputs": []
    },
    {
      "cell_type": "markdown",
      "source": [
        "## Data Collator"
      ],
      "metadata": {
        "id": "4M1Bl4YiAQFu"
      }
    },
    {
      "cell_type": "code",
      "source": [
        "# Data Collator for Language Modeling\n",
        "class CustomDataCollator(DataCollatorForLanguageModeling):\n",
        "  def collate_batch(self, batch):\n",
        "    input_ids = torch.stack([torch.tensor(example['input_ids']) for example in batch])\n",
        "    attention_mask = torch.stack([torch.tensor(example['attention_mask']) for example in batch])\n",
        "    labels = torch.stack([torch.tensor(example['input_ids']) for example in batch])\n",
        "    return {\n",
        "      'input_ids': input_ids,\n",
        "      'attention_mask': attention_mask,\n",
        "      'labels': labels\n",
        "    }\n"
      ],
      "metadata": {
        "id": "Tg4pvw-lCdFC"
      },
      "execution_count": null,
      "outputs": []
    },
    {
      "cell_type": "markdown",
      "source": [
        "## Callback"
      ],
      "metadata": {
        "id": "PNPxzZRJAUY-"
      }
    },
    {
      "cell_type": "code",
      "source": [
        "# Define a custom callback for monitoring\n",
        "class CustomCallback(TrainerCallback):\n",
        "  def __init__(self):\n",
        "    super().__init__()\n",
        "\n",
        "  def on_step_end(self, args, state, control, model, optimizer, scheduler, **kwargs):\n",
        "    if state.global_step % args.logging_steps == 0:\n",
        "      logging.info(f\"Step {state.global_step}: Loss = {state.log_metrics['loss']}\")"
      ],
      "metadata": {
        "id": "lpZQG-yPCmCU"
      },
      "execution_count": null,
      "outputs": []
    },
    {
      "cell_type": "markdown",
      "source": [
        "## Training Arguments"
      ],
      "metadata": {
        "id": "vqZCGHgXAWtI"
      }
    },
    {
      "cell_type": "code",
      "source": [
        "# Training Arguments\n",
        "training_args = TrainingArguments(\n",
        "    output_dir=pretrained_model_output_dir,\n",
        "    overwrite_output_dir=True,\n",
        "    num_train_epochs=3,\n",
        "    per_device_train_batch_size=4,\n",
        "    save_steps=1000,\n",
        "    save_total_limit=3,\n",
        "    evaluation_strategy=\"steps\",\n",
        "    eval_steps=500,\n",
        ")"
      ],
      "metadata": {
        "id": "DYw40Uk3CUvg"
      },
      "execution_count": null,
      "outputs": []
    },
    {
      "cell_type": "code",
      "source": [
        "# Tokenized data for training\n",
        "train_inputs = {\n",
        "    \"input_ids\": tokenized_dataset[\"input_ids\"],\n",
        "    \"attention_mask\": tokenized_dataset[\"attention_mask\"],\n",
        "}"
      ],
      "metadata": {
        "id": "Lg4wmbCJCZYb"
      },
      "execution_count": null,
      "outputs": []
    },
    {
      "cell_type": "markdown",
      "source": [
        "## Trainer Initialazation"
      ],
      "metadata": {
        "id": "Ooqd9VFkAZqL"
      }
    },
    {
      "cell_type": "code",
      "source": [
        "# Trainer Initialization\n",
        "trainer = Trainer(\n",
        "    model=model,\n",
        "    args=training_args,\n",
        "    train_dataset=train_inputs,\n",
        "    data_collator=CustomDataCollator(tokenizer=tokenizer, mlm=True, mlm_probability=0.15),\n",
        "    callbacks=[CustomCallback()],\n",
        ")"
      ],
      "metadata": {
        "id": "FgLOxOQbDVL7"
      },
      "execution_count": null,
      "outputs": []
    },
    {
      "cell_type": "code",
      "source": [
        "# Train the model\n",
        "trainer.train()\n",
        "\n",
        "# Save the final pre-trained model\n",
        "trainer.save_model(os.path.join(pretrained_model_output_dir, \"final_model\"))"
      ],
      "metadata": {
        "id": "s9mUv56IAf1A"
      },
      "execution_count": null,
      "outputs": []
    }
  ]
}