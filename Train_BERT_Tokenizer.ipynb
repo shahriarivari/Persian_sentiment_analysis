{
  "nbformat": 4,
  "nbformat_minor": 0,
  "metadata": {
    "colab": {
      "provenance": [],
      "authorship_tag": "ABX9TyPV+1s0NsgYUsFdNGSizdaV",
      "include_colab_link": true
    },
    "kernelspec": {
      "name": "python3",
      "display_name": "Python 3"
    },
    "language_info": {
      "name": "python"
    }
  },
  "cells": [
    {
      "cell_type": "markdown",
      "metadata": {
        "id": "view-in-github",
        "colab_type": "text"
      },
      "source": [
        "<a href=\"https://colab.research.google.com/github/shahriarivari/Persian_sentiment_analysis/blob/main/Train_BERT_Tokenizer.ipynb\" target=\"_parent\"><img src=\"https://colab.research.google.com/assets/colab-badge.svg\" alt=\"Open In Colab\"/></a>"
      ]
    },
    {
      "cell_type": "markdown",
      "source": [
        "#some pip installs"
      ],
      "metadata": {
        "id": "acoVCSselY9O"
      }
    },
    {
      "cell_type": "code",
      "execution_count": null,
      "metadata": {
        "id": "j3DKFZwQlNXZ"
      },
      "outputs": [],
      "source": [
        "!pip install tokenizers\n",
        "!pip install datasets"
      ]
    },
    {
      "cell_type": "markdown",
      "source": [
        "#Loading the dataset\n",
        "We are using Huggingface's data hub"
      ],
      "metadata": {
        "id": "6ZCW55nUlhY6"
      }
    },
    {
      "cell_type": "code",
      "source": [
        "# some pip installs\n",
        "import os\n",
        "from tokenizers import BertWordPieceTokenizer\n",
        "from datasets import load_dataset, Dataset"
      ],
      "metadata": {
        "id": "ZXxhcYr4lgy3"
      },
      "execution_count": null,
      "outputs": []
    },
    {
      "cell_type": "markdown",
      "source": [
        "##Loading the data"
      ],
      "metadata": {
        "id": "mUCEP3PNl2Mq"
      }
    },
    {
      "cell_type": "code",
      "source": [
        "# You should just change this part in order to download your\n",
        "# parts of corpus.\n",
        "indices = {\n",
        "    \"train\": [81, 14, 3,\n",
        "              # 94, 35,\n",
        "              # 41, 28, 67, 55, 79\n",
        "              ],\n",
        "    \"test\": [0,\n",
        "            #  1\n",
        "             ]\n",
        "}\n",
        "\n",
        "N_FILES = {\n",
        "    \"train\": 126,\n",
        "    \"test\": 3\n",
        "}\n",
        "_BASE_URL = \"https://huggingface.co/datasets/SLPL/naab/resolve/main/data/\"\n",
        "data_url = {\n",
        "    \"train\": [_BASE_URL + \"train-{:05d}-of-{:05d}.txt\".format(x, N_FILES[\"train\"]) for x in range(N_FILES[\"train\"])],\n",
        "    \"test\": [_BASE_URL + \"test-{:05d}-of-{:05d}.txt\".format(x, N_FILES[\"test\"]) for x in range(N_FILES[\"test\"])],\n",
        "}\n",
        "for index in indices['train']:\n",
        "    assert index < N_FILES['train']\n",
        "for index in indices['test']:\n",
        "    assert index < N_FILES['test']\n",
        "data_files = {\n",
        "    \"train\": [data_url['train'][i] for i in indices['train']],\n",
        "    \"test\": [data_url['test'][i] for i in indices['test']]\n",
        "}\n"
      ],
      "metadata": {
        "id": "zhSQipNfl4KA"
      },
      "execution_count": null,
      "outputs": []
    },
    {
      "cell_type": "code",
      "source": [
        "dataset_train = load_dataset('text', data_files=data_files[\"train\"], use_auth_token=False)\n",
        "dataset_test = load_dataset('text', data_files=data_files[\"test\"], use_auth_token=False)"
      ],
      "metadata": {
        "id": "RQZWZ6qCmGNo"
      },
      "execution_count": null,
      "outputs": []
    },
    {
      "cell_type": "markdown",
      "source": [
        "##Turn each dataset into a .txt file to feed to the tokenizer"
      ],
      "metadata": {
        "id": "8chLRcGd4t1O"
      }
    },
    {
      "cell_type": "code",
      "source": [
        "for index, dataset in enumerate([dataset_train, dataset_test]):\n",
        "  current_dataset = dataset['train']['text']\n",
        "  # Save the current slice to a file\n",
        "  current_file = f'dataset{index + 1}.txt'\n",
        "  print(f\"starting writing dataset{index + 1}\")\n",
        "  with open(current_file, 'w', encoding='utf-8') as file:\n",
        "      for text in current_dataset:\n",
        "          file.write(text + '\\n')\n",
        "\n",
        "  print(f\"finished writing dataset{index + 1}\")\n",
        "  # Free up memory by deleting the variable\n",
        "  del current_dataset"
      ],
      "metadata": {
        "id": "I_nU6DPu4tTi"
      },
      "execution_count": null,
      "outputs": []
    },
    {
      "cell_type": "code",
      "source": [
        "# Set your paths and file names\n",
        "tokenizer_output_dir = \"bert_tokenizer\"\n",
        "if not os.path.isdir(tokenizer_output_dir):\n",
        "    os.mkdir(tokenizer_output_dir)"
      ],
      "metadata": {
        "id": "01Hl331LOJTb"
      },
      "execution_count": null,
      "outputs": []
    },
    {
      "cell_type": "code",
      "source": [
        "# Training a WordPiece Tokenizer\n",
        "files = [\"dataset1.txt\", \"dataset2.txt\"]\n",
        "# Parameters for Tokenizer Training\n",
        "vocab_size = 10_000\n",
        "min_frequency = 2\n",
        "special_tokens = [\"[PAD]\", \"[MASK]\", \"[CLS]\", \"[SEP]\", \"[UNK]\"]\n",
        "\n",
        "# Initialize the WordPiece tokenizer for BERT\n",
        "tokenizer = BertWordPieceTokenizer()\n",
        "\n",
        "# Train the tokenizer\n",
        "tokenizer.train(\n",
        "    files=files,\n",
        "    vocab_size=vocab_size,\n",
        "    min_frequency=min_frequency,\n",
        "    show_progress=True,\n",
        "    special_tokens=special_tokens,\n",
        ")\n",
        "\n",
        "# Save the trained tokenizer\n",
        "tokenizer.save_model(tokenizer_output_dir)"
      ],
      "metadata": {
        "id": "pGZwwuLIOQ4a"
      },
      "execution_count": null,
      "outputs": []
    }
  ]
}